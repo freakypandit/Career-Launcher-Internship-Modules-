{
  "nbformat": 4,
  "nbformat_minor": 0,
  "metadata": {
    "colab": {
      "name": "Module 1- Pandas.ipynb",
      "provenance": [],
      "collapsed_sections": []
    },
    "kernelspec": {
      "name": "python3",
      "display_name": "Python 3"
    }
  },
  "cells": [
    {
      "cell_type": "markdown",
      "metadata": {
        "id": "MKIFCyn0J_Jj",
        "colab_type": "text"
      },
      "source": [
        "#Module 1\n",
        "   ### Welcome to the Answer notebook for Module 1 ! "
      ]
    },
    {
      "cell_type": "code",
      "metadata": {
        "id": "VEdRHqNrHKAK",
        "colab_type": "code",
        "colab": {}
      },
      "source": [
        "!pip install -U -q PyDrive"
      ],
      "execution_count": 0,
      "outputs": []
    },
    {
      "cell_type": "code",
      "metadata": {
        "id": "JIVAxX0dHPSt",
        "colab_type": "code",
        "colab": {}
      },
      "source": [
        "#this notebook is written in google colab\n",
        "\n",
        "from pydrive.auth import GoogleAuth\n",
        "from pydrive.drive import GoogleDrive\n",
        "from google.colab import auth \n",
        "from oauth2client.client import GoogleCredentials\n",
        "\n",
        "# Authenticate and create the PyDrive client.\n",
        "# This only needs to be done once per notebook.\n",
        "auth.authenticate_user()\n",
        "gauth = GoogleAuth()\n",
        "gauth.credentials = GoogleCredentials.get_application_default()\n",
        "drive = GoogleDrive(gauth)"
      ],
      "execution_count": 0,
      "outputs": []
    },
    {
      "cell_type": "code",
      "metadata": {
        "id": "TvPmR4bFHf8H",
        "colab_type": "code",
        "outputId": "c86b32b8-90fc-4e57-d2ac-088072cc882b",
        "colab": {
          "base_uri": "https://localhost:8080/",
          "height": 34
        }
      },
      "source": [
        "csv_link= \"https://drive.google.com/open?id=1duo34YUjESpncR1ijd-vdsOj7j1HIwdr\"\n",
        "fluff, id= csv_link.split('=')\n",
        "print(id)"
      ],
      "execution_count": 0,
      "outputs": [
        {
          "output_type": "stream",
          "text": [
            "1duo34YUjESpncR1ijd-vdsOj7j1HIwdr\n"
          ],
          "name": "stdout"
        }
      ]
    },
    {
      "cell_type": "markdown",
      "metadata": {
        "id": "S-4i2WRnKX4N",
        "colab_type": "text"
      },
      "source": [
        "\n",
        "\n",
        "---\n",
        "\n",
        "\n",
        "## Query 1.1\n",
        "    Import the csv file of the stock of your choosing using 'pd.read_csv()' function into a dataframe. Shares of a company can be offered in more than one category. The category of a stock is indicated in the ‘Series’ column. If the csv file has data on more than one category, the ‘Date’ column will have repeating values. To avoid repetitions in the date, remove all the rows where 'Series' column is NOT 'EQ'. Analyze and understand each column properly. You'd find the head(), tail() and describe() functions to be immensely useful for exploration. You're free to carry out any other exploration of your own.\n"
      ]
    },
    {
      "cell_type": "code",
      "metadata": {
        "id": "S8SKq0r3BWD0",
        "colab_type": "code",
        "colab": {}
      },
      "source": [
        "import pandas as pd\n",
        "downloaded= drive.CreateFile({'id' : id})\n",
        "downloaded.GetContentFile('RAYMOND.csv')\n",
        "\n",
        "#to import the csv files of stocks and save it as a dataframe \n",
        "data= pd.read_csv('RAYMOND.csv')"
      ],
      "execution_count": 0,
      "outputs": []
    },
    {
      "cell_type": "markdown",
      "metadata": {
        "id": "Ybj8ROLAPOdL",
        "colab_type": "text"
      },
      "source": [
        "**This notebook is written in google Colab thus pydrive authentication is used,  in case of local machine just use    data= pd.read_csv(\"RAYMOND.csv\")**\n",
        "\n",
        "\n"
      ]
    },
    {
      "cell_type": "code",
      "metadata": {
        "id": "p1ZMeX1RIabq",
        "colab_type": "code",
        "colab": {}
      },
      "source": [
        "#import libararies\n",
        "\n",
        "import numpy as np\n",
        "import pandas as pd\n",
        "import matplotlib.pyplot as plt\n",
        "\n",
        "import seaborn as sns\n",
        "%matplotlib inline\n",
        "plt.rcParams['figure.figsize'] = (7, 4)\n",
        "import seaborn as sns"
      ],
      "execution_count": 0,
      "outputs": []
    },
    {
      "cell_type": "code",
      "metadata": {
        "id": "N7NqQ1APLNBR",
        "colab_type": "code",
        "outputId": "b1140916-46bd-423e-b808-4dc2fdf220ce",
        "colab": {
          "base_uri": "https://localhost:8080/",
          "height": 306
        }
      },
      "source": [
        "data.head()\n",
        "#returns top 5 rows of dataframe by dafualt."
      ],
      "execution_count": 0,
      "outputs": [
        {
          "output_type": "execute_result",
          "data": {
            "text/html": [
              "<div>\n",
              "<style scoped>\n",
              "    .dataframe tbody tr th:only-of-type {\n",
              "        vertical-align: middle;\n",
              "    }\n",
              "\n",
              "    .dataframe tbody tr th {\n",
              "        vertical-align: top;\n",
              "    }\n",
              "\n",
              "    .dataframe thead th {\n",
              "        text-align: right;\n",
              "    }\n",
              "</style>\n",
              "<table border=\"1\" class=\"dataframe\">\n",
              "  <thead>\n",
              "    <tr style=\"text-align: right;\">\n",
              "      <th></th>\n",
              "      <th>Symbol</th>\n",
              "      <th>Series</th>\n",
              "      <th>Date</th>\n",
              "      <th>Prev Close</th>\n",
              "      <th>Open Price</th>\n",
              "      <th>High Price</th>\n",
              "      <th>Low Price</th>\n",
              "      <th>Last Price</th>\n",
              "      <th>Close Price</th>\n",
              "      <th>Average Price</th>\n",
              "      <th>Total Traded Quantity</th>\n",
              "      <th>Turnover</th>\n",
              "      <th>No. of Trades</th>\n",
              "      <th>Deliverable Qty</th>\n",
              "      <th>% Dly Qt to Traded Qty</th>\n",
              "    </tr>\n",
              "  </thead>\n",
              "  <tbody>\n",
              "    <tr>\n",
              "      <th>0</th>\n",
              "      <td>LAXMIMACH</td>\n",
              "      <td>EQ</td>\n",
              "      <td>15-May-2017</td>\n",
              "      <td>4552.40</td>\n",
              "      <td>4619.95</td>\n",
              "      <td>4670.0</td>\n",
              "      <td>4550.05</td>\n",
              "      <td>4606.0</td>\n",
              "      <td>4614.05</td>\n",
              "      <td>4629.76</td>\n",
              "      <td>4275</td>\n",
              "      <td>19792243.95</td>\n",
              "      <td>1097</td>\n",
              "      <td>2447</td>\n",
              "      <td>57.24</td>\n",
              "    </tr>\n",
              "    <tr>\n",
              "      <th>1</th>\n",
              "      <td>LAXMIMACH</td>\n",
              "      <td>EQ</td>\n",
              "      <td>16-May-2017</td>\n",
              "      <td>4614.05</td>\n",
              "      <td>4566.05</td>\n",
              "      <td>4650.0</td>\n",
              "      <td>4564.10</td>\n",
              "      <td>4582.0</td>\n",
              "      <td>4589.80</td>\n",
              "      <td>4612.18</td>\n",
              "      <td>4467</td>\n",
              "      <td>20602592.70</td>\n",
              "      <td>805</td>\n",
              "      <td>2961</td>\n",
              "      <td>66.29</td>\n",
              "    </tr>\n",
              "    <tr>\n",
              "      <th>2</th>\n",
              "      <td>LAXMIMACH</td>\n",
              "      <td>EQ</td>\n",
              "      <td>17-May-2017</td>\n",
              "      <td>4589.80</td>\n",
              "      <td>4500.00</td>\n",
              "      <td>4675.2</td>\n",
              "      <td>4500.00</td>\n",
              "      <td>4610.0</td>\n",
              "      <td>4637.25</td>\n",
              "      <td>4608.88</td>\n",
              "      <td>6320</td>\n",
              "      <td>29128119.85</td>\n",
              "      <td>1035</td>\n",
              "      <td>2876</td>\n",
              "      <td>45.51</td>\n",
              "    </tr>\n",
              "    <tr>\n",
              "      <th>3</th>\n",
              "      <td>LAXMIMACH</td>\n",
              "      <td>EQ</td>\n",
              "      <td>18-May-2017</td>\n",
              "      <td>4637.25</td>\n",
              "      <td>4599.95</td>\n",
              "      <td>4624.8</td>\n",
              "      <td>4515.10</td>\n",
              "      <td>4515.1</td>\n",
              "      <td>4544.45</td>\n",
              "      <td>4567.74</td>\n",
              "      <td>4500</td>\n",
              "      <td>20554835.90</td>\n",
              "      <td>831</td>\n",
              "      <td>2776</td>\n",
              "      <td>61.69</td>\n",
              "    </tr>\n",
              "    <tr>\n",
              "      <th>4</th>\n",
              "      <td>LAXMIMACH</td>\n",
              "      <td>EQ</td>\n",
              "      <td>19-May-2017</td>\n",
              "      <td>4544.45</td>\n",
              "      <td>4586.90</td>\n",
              "      <td>4648.0</td>\n",
              "      <td>4490.00</td>\n",
              "      <td>4521.0</td>\n",
              "      <td>4522.70</td>\n",
              "      <td>4556.21</td>\n",
              "      <td>4190</td>\n",
              "      <td>19090528.50</td>\n",
              "      <td>990</td>\n",
              "      <td>1944</td>\n",
              "      <td>46.40</td>\n",
              "    </tr>\n",
              "  </tbody>\n",
              "</table>\n",
              "</div>"
            ],
            "text/plain": [
              "      Symbol Series  ... Deliverable Qty  % Dly Qt to Traded Qty\n",
              "0  LAXMIMACH     EQ  ...            2447                   57.24\n",
              "1  LAXMIMACH     EQ  ...            2961                   66.29\n",
              "2  LAXMIMACH     EQ  ...            2876                   45.51\n",
              "3  LAXMIMACH     EQ  ...            2776                   61.69\n",
              "4  LAXMIMACH     EQ  ...            1944                   46.40\n",
              "\n",
              "[5 rows x 15 columns]"
            ]
          },
          "metadata": {
            "tags": []
          },
          "execution_count": 6
        }
      ]
    },
    {
      "cell_type": "code",
      "metadata": {
        "id": "gjhJW67ZMBDZ",
        "colab_type": "code",
        "outputId": "0fecf1d6-9341-41a2-9442-97485994944d",
        "colab": {
          "base_uri": "https://localhost:8080/",
          "height": 34
        }
      },
      "source": [
        "print('The data has {0} rows, and {1} columns'.format(data.shape[0], data.shape[1]))"
      ],
      "execution_count": 0,
      "outputs": [
        {
          "output_type": "stream",
          "text": [
            "The data has 494 rows, and 15 columns\n"
          ],
          "name": "stdout"
        }
      ]
    },
    {
      "cell_type": "code",
      "metadata": {
        "id": "arWAXjYeKOgT",
        "colab_type": "code",
        "outputId": "e3527338-d69e-4afb-8a00-9e4bba645924",
        "colab": {
          "base_uri": "https://localhost:8080/",
          "height": 646
        }
      },
      "source": [
        "data.describe()\n",
        "#returns information like mean and standard deviation of each feature\n",
        "\n",
        "data.info()\n",
        "#gives info regarding type and no. of entries of each series\n",
        "\n",
        "data.tail()\n",
        "#return last 5 rows of dataframe"
      ],
      "execution_count": 0,
      "outputs": [
        {
          "output_type": "stream",
          "text": [
            "<class 'pandas.core.frame.DataFrame'>\n",
            "RangeIndex: 494 entries, 0 to 493\n",
            "Data columns (total 15 columns):\n",
            "Symbol                    494 non-null object\n",
            "Series                    494 non-null object\n",
            "Date                      494 non-null object\n",
            "Prev Close                494 non-null float64\n",
            "Open Price                494 non-null float64\n",
            "High Price                494 non-null float64\n",
            "Low Price                 494 non-null float64\n",
            "Last Price                494 non-null float64\n",
            "Close Price               494 non-null float64\n",
            "Average Price             494 non-null float64\n",
            "Total Traded Quantity     494 non-null int64\n",
            "Turnover                  494 non-null float64\n",
            "No. of Trades             494 non-null int64\n",
            "Deliverable Qty           494 non-null int64\n",
            "% Dly Qt to Traded Qty    494 non-null float64\n",
            "dtypes: float64(9), int64(3), object(3)\n",
            "memory usage: 58.0+ KB\n"
          ],
          "name": "stdout"
        },
        {
          "output_type": "execute_result",
          "data": {
            "text/html": [
              "<div>\n",
              "<style scoped>\n",
              "    .dataframe tbody tr th:only-of-type {\n",
              "        vertical-align: middle;\n",
              "    }\n",
              "\n",
              "    .dataframe tbody tr th {\n",
              "        vertical-align: top;\n",
              "    }\n",
              "\n",
              "    .dataframe thead th {\n",
              "        text-align: right;\n",
              "    }\n",
              "</style>\n",
              "<table border=\"1\" class=\"dataframe\">\n",
              "  <thead>\n",
              "    <tr style=\"text-align: right;\">\n",
              "      <th></th>\n",
              "      <th>Symbol</th>\n",
              "      <th>Series</th>\n",
              "      <th>Date</th>\n",
              "      <th>Prev Close</th>\n",
              "      <th>Open Price</th>\n",
              "      <th>High Price</th>\n",
              "      <th>Low Price</th>\n",
              "      <th>Last Price</th>\n",
              "      <th>Close Price</th>\n",
              "      <th>Average Price</th>\n",
              "      <th>Total Traded Quantity</th>\n",
              "      <th>Turnover</th>\n",
              "      <th>No. of Trades</th>\n",
              "      <th>Deliverable Qty</th>\n",
              "      <th>% Dly Qt to Traded Qty</th>\n",
              "    </tr>\n",
              "  </thead>\n",
              "  <tbody>\n",
              "    <tr>\n",
              "      <th>489</th>\n",
              "      <td>LAXMIMACH</td>\n",
              "      <td>EQ</td>\n",
              "      <td>07-May-2019</td>\n",
              "      <td>5694.55</td>\n",
              "      <td>5690.50</td>\n",
              "      <td>5712.65</td>\n",
              "      <td>5565.0</td>\n",
              "      <td>5575.00</td>\n",
              "      <td>5589.30</td>\n",
              "      <td>5647.02</td>\n",
              "      <td>2370</td>\n",
              "      <td>13383447.55</td>\n",
              "      <td>635</td>\n",
              "      <td>1778</td>\n",
              "      <td>75.02</td>\n",
              "    </tr>\n",
              "    <tr>\n",
              "      <th>490</th>\n",
              "      <td>LAXMIMACH</td>\n",
              "      <td>EQ</td>\n",
              "      <td>08-May-2019</td>\n",
              "      <td>5589.30</td>\n",
              "      <td>5591.40</td>\n",
              "      <td>5620.00</td>\n",
              "      <td>5500.0</td>\n",
              "      <td>5509.95</td>\n",
              "      <td>5510.15</td>\n",
              "      <td>5543.48</td>\n",
              "      <td>2277</td>\n",
              "      <td>12622510.20</td>\n",
              "      <td>611</td>\n",
              "      <td>1797</td>\n",
              "      <td>78.92</td>\n",
              "    </tr>\n",
              "    <tr>\n",
              "      <th>491</th>\n",
              "      <td>LAXMIMACH</td>\n",
              "      <td>EQ</td>\n",
              "      <td>09-May-2019</td>\n",
              "      <td>5510.15</td>\n",
              "      <td>5520.00</td>\n",
              "      <td>5575.35</td>\n",
              "      <td>5482.7</td>\n",
              "      <td>5500.00</td>\n",
              "      <td>5492.10</td>\n",
              "      <td>5516.94</td>\n",
              "      <td>1461</td>\n",
              "      <td>8060242.70</td>\n",
              "      <td>542</td>\n",
              "      <td>1086</td>\n",
              "      <td>74.33</td>\n",
              "    </tr>\n",
              "    <tr>\n",
              "      <th>492</th>\n",
              "      <td>LAXMIMACH</td>\n",
              "      <td>EQ</td>\n",
              "      <td>10-May-2019</td>\n",
              "      <td>5492.10</td>\n",
              "      <td>5501.40</td>\n",
              "      <td>5670.00</td>\n",
              "      <td>5451.0</td>\n",
              "      <td>5480.00</td>\n",
              "      <td>5505.15</td>\n",
              "      <td>5520.83</td>\n",
              "      <td>2150</td>\n",
              "      <td>11869782.05</td>\n",
              "      <td>879</td>\n",
              "      <td>1396</td>\n",
              "      <td>64.93</td>\n",
              "    </tr>\n",
              "    <tr>\n",
              "      <th>493</th>\n",
              "      <td>LAXMIMACH</td>\n",
              "      <td>EQ</td>\n",
              "      <td>13-May-2019</td>\n",
              "      <td>5505.15</td>\n",
              "      <td>5514.85</td>\n",
              "      <td>5639.75</td>\n",
              "      <td>5387.0</td>\n",
              "      <td>5505.20</td>\n",
              "      <td>5434.50</td>\n",
              "      <td>5458.91</td>\n",
              "      <td>3899</td>\n",
              "      <td>21284296.85</td>\n",
              "      <td>900</td>\n",
              "      <td>3188</td>\n",
              "      <td>81.76</td>\n",
              "    </tr>\n",
              "  </tbody>\n",
              "</table>\n",
              "</div>"
            ],
            "text/plain": [
              "        Symbol Series  ... Deliverable Qty  % Dly Qt to Traded Qty\n",
              "489  LAXMIMACH     EQ  ...            1778                   75.02\n",
              "490  LAXMIMACH     EQ  ...            1797                   78.92\n",
              "491  LAXMIMACH     EQ  ...            1086                   74.33\n",
              "492  LAXMIMACH     EQ  ...            1396                   64.93\n",
              "493  LAXMIMACH     EQ  ...            3188                   81.76\n",
              "\n",
              "[5 rows x 15 columns]"
            ]
          },
          "metadata": {
            "tags": []
          },
          "execution_count": 8
        }
      ]
    },
    {
      "cell_type": "markdown",
      "metadata": {
        "id": "Jymz1FM22blF",
        "colab_type": "text"
      },
      "source": [
        "**We have to check if data contains any NULL value before further exploration.**"
      ]
    },
    {
      "cell_type": "code",
      "metadata": {
        "id": "QmMpgBTHKYJO",
        "colab_type": "code",
        "outputId": "44b3777f-02f5-4acf-b8f7-d1d5108fabee",
        "colab": {
          "base_uri": "https://localhost:8080/",
          "height": 34
        }
      },
      "source": [
        "#checking for missing values in the data.\n",
        "\n",
        "missing_data= data.isnull().sum()/len(data)\n",
        "missing_data= missing_data[missing_data > 0]\n",
        "\n",
        "missing_data=missing_data.sort_values()\n",
        "\n",
        "print(missing_data)"
      ],
      "execution_count": 0,
      "outputs": [
        {
          "output_type": "stream",
          "text": [
            "Series([], dtype: float64)\n"
          ],
          "name": "stdout"
        }
      ]
    },
    {
      "cell_type": "markdown",
      "metadata": {
        "id": "nA9iRakicRd2",
        "colab_type": "text"
      },
      "source": [
        "**We can see that there is no missing value in any Series of dataframe.**"
      ]
    },
    {
      "cell_type": "code",
      "metadata": {
        "id": "sRfCM-xIKfmM",
        "colab_type": "code",
        "outputId": "b583e1fb-27af-4903-9c6e-b1ddca616033",
        "colab": {
          "base_uri": "https://localhost:8080/",
          "height": 34
        }
      },
      "source": [
        "#to check if we have NOT EQ in our Seires column.\n",
        "\n",
        "data['Series'].unique()\n",
        "#returns all the unique values in given column of data"
      ],
      "execution_count": 0,
      "outputs": [
        {
          "output_type": "execute_result",
          "data": {
            "text/plain": [
              "array(['EQ'], dtype=object)"
            ]
          },
          "metadata": {
            "tags": []
          },
          "execution_count": 10
        }
      ]
    },
    {
      "cell_type": "markdown",
      "metadata": {
        "id": "vBQUyYPJcpVy",
        "colab_type": "text"
      },
      "source": [
        "**We can see that data['Series'] only contain EQ.**\n",
        "\n",
        "\n"
      ]
    },
    {
      "cell_type": "markdown",
      "metadata": {
        "id": "t4ZIcgIrBhqD",
        "colab_type": "text"
      },
      "source": [
        "\n",
        "\n",
        "---\n",
        "\n",
        "\n",
        "## Query 1.2 \n",
        "    Calculate the maximum, minimum and mean price for the last 90 days. (price=Closing Price unless stated otherwise)"
      ]
    },
    {
      "cell_type": "markdown",
      "metadata": {
        "id": "yi29-SsLirL_",
        "colab_type": "text"
      },
      "source": [
        "**A technique would be to make a seperate dataframe for last 90 days.**"
      ]
    },
    {
      "cell_type": "code",
      "metadata": {
        "id": "73OUIeBaFL1N",
        "colab_type": "code",
        "outputId": "64112bb2-b74f-4d8f-a641-fad4ddb57d51",
        "colab": {
          "base_uri": "https://localhost:8080/",
          "height": 51
        }
      },
      "source": [
        "#to get he date of the last row of our dataframe.\n",
        "data['Date'][493]\n",
        "\n",
        "#Last Date : 13 May 2019\n",
        "#Date 90 days ago : 12 Feb 2019\n",
        "\n",
        "#to check for the date in dataframe\n",
        "for i in range (0, 493):\n",
        "  if data['Date'][i] == '12-Feb-2019':\n",
        "    \n",
        "    #prints the index of row with give date.\n",
        "    print(i)\n",
        "    \n",
        "#print date\n",
        "data['Date'][i]\n"
      ],
      "execution_count": 0,
      "outputs": [
        {
          "output_type": "stream",
          "text": [
            "435\n"
          ],
          "name": "stdout"
        },
        {
          "output_type": "execute_result",
          "data": {
            "text/plain": [
              "'10-May-2019'"
            ]
          },
          "metadata": {
            "tags": []
          },
          "execution_count": 11
        }
      ]
    },
    {
      "cell_type": "code",
      "metadata": {
        "id": "nHiuxh5yGYjc",
        "colab_type": "code",
        "colab": {}
      },
      "source": [
        "#create a new data frame data_90_days\n",
        "#all columns are same but rows are from index 435 to 493 giving last 90 days\n",
        "data_90_days= data[:][435 : 494]"
      ],
      "execution_count": 0,
      "outputs": []
    },
    {
      "cell_type": "markdown",
      "metadata": {
        "id": "2p_RMdEQ4ddx",
        "colab_type": "text"
      },
      "source": [
        "**Now we have created a seperate dataframe for last 90 days, we can use describe( ) to find statistical insights of new data.**"
      ]
    },
    {
      "cell_type": "code",
      "metadata": {
        "id": "QNYb1gBYHKR1",
        "colab_type": "code",
        "outputId": "7aaf4723-de1d-40aa-8801-59568904292a",
        "colab": {
          "base_uri": "https://localhost:8080/",
          "height": 348
        }
      },
      "source": [
        "data_90_days.describe()"
      ],
      "execution_count": 0,
      "outputs": [
        {
          "output_type": "execute_result",
          "data": {
            "text/html": [
              "<div>\n",
              "<style scoped>\n",
              "    .dataframe tbody tr th:only-of-type {\n",
              "        vertical-align: middle;\n",
              "    }\n",
              "\n",
              "    .dataframe tbody tr th {\n",
              "        vertical-align: top;\n",
              "    }\n",
              "\n",
              "    .dataframe thead th {\n",
              "        text-align: right;\n",
              "    }\n",
              "</style>\n",
              "<table border=\"1\" class=\"dataframe\">\n",
              "  <thead>\n",
              "    <tr style=\"text-align: right;\">\n",
              "      <th></th>\n",
              "      <th>Prev Close</th>\n",
              "      <th>Open Price</th>\n",
              "      <th>High Price</th>\n",
              "      <th>Low Price</th>\n",
              "      <th>Last Price</th>\n",
              "      <th>Close Price</th>\n",
              "      <th>Average Price</th>\n",
              "      <th>Total Traded Quantity</th>\n",
              "      <th>Turnover</th>\n",
              "      <th>No. of Trades</th>\n",
              "      <th>Deliverable Qty</th>\n",
              "      <th>% Dly Qt to Traded Qty</th>\n",
              "    </tr>\n",
              "  </thead>\n",
              "  <tbody>\n",
              "    <tr>\n",
              "      <th>count</th>\n",
              "      <td>59.000000</td>\n",
              "      <td>59.000000</td>\n",
              "      <td>59.000000</td>\n",
              "      <td>59.000000</td>\n",
              "      <td>59.000000</td>\n",
              "      <td>59.000000</td>\n",
              "      <td>59.000000</td>\n",
              "      <td>59.000000</td>\n",
              "      <td>5.900000e+01</td>\n",
              "      <td>59.000000</td>\n",
              "      <td>59.000000</td>\n",
              "      <td>59.000000</td>\n",
              "    </tr>\n",
              "    <tr>\n",
              "      <th>mean</th>\n",
              "      <td>5898.773729</td>\n",
              "      <td>5907.959322</td>\n",
              "      <td>5985.361017</td>\n",
              "      <td>5838.235593</td>\n",
              "      <td>5897.993220</td>\n",
              "      <td>5895.409322</td>\n",
              "      <td>5904.231017</td>\n",
              "      <td>3347.033898</td>\n",
              "      <td>2.013015e+07</td>\n",
              "      <td>795.677966</td>\n",
              "      <td>2489.915254</td>\n",
              "      <td>70.930847</td>\n",
              "    </tr>\n",
              "    <tr>\n",
              "      <th>std</th>\n",
              "      <td>282.338833</td>\n",
              "      <td>288.107246</td>\n",
              "      <td>293.800755</td>\n",
              "      <td>287.707264</td>\n",
              "      <td>293.164974</td>\n",
              "      <td>286.709307</td>\n",
              "      <td>289.034987</td>\n",
              "      <td>4051.030997</td>\n",
              "      <td>2.525788e+07</td>\n",
              "      <td>456.183585</td>\n",
              "      <td>3420.673524</td>\n",
              "      <td>9.656043</td>\n",
              "    </tr>\n",
              "    <tr>\n",
              "      <th>min</th>\n",
              "      <td>5391.350000</td>\n",
              "      <td>5353.850000</td>\n",
              "      <td>5460.050000</td>\n",
              "      <td>5351.000000</td>\n",
              "      <td>5389.000000</td>\n",
              "      <td>5391.350000</td>\n",
              "      <td>5397.490000</td>\n",
              "      <td>725.000000</td>\n",
              "      <td>4.008732e+06</td>\n",
              "      <td>223.000000</td>\n",
              "      <td>424.000000</td>\n",
              "      <td>47.530000</td>\n",
              "    </tr>\n",
              "    <tr>\n",
              "      <th>25%</th>\n",
              "      <td>5651.275000</td>\n",
              "      <td>5650.725000</td>\n",
              "      <td>5736.175000</td>\n",
              "      <td>5542.650000</td>\n",
              "      <td>5611.050000</td>\n",
              "      <td>5629.425000</td>\n",
              "      <td>5634.110000</td>\n",
              "      <td>1362.500000</td>\n",
              "      <td>7.666404e+06</td>\n",
              "      <td>494.000000</td>\n",
              "      <td>874.500000</td>\n",
              "      <td>64.780000</td>\n",
              "    </tr>\n",
              "    <tr>\n",
              "      <th>50%</th>\n",
              "      <td>5999.350000</td>\n",
              "      <td>5961.750000</td>\n",
              "      <td>6094.000000</td>\n",
              "      <td>5945.150000</td>\n",
              "      <td>5990.000000</td>\n",
              "      <td>5999.350000</td>\n",
              "      <td>6005.650000</td>\n",
              "      <td>2178.000000</td>\n",
              "      <td>1.309645e+07</td>\n",
              "      <td>642.000000</td>\n",
              "      <td>1589.000000</td>\n",
              "      <td>71.300000</td>\n",
              "    </tr>\n",
              "    <tr>\n",
              "      <th>75%</th>\n",
              "      <td>6102.550000</td>\n",
              "      <td>6123.500000</td>\n",
              "      <td>6246.075000</td>\n",
              "      <td>6076.350000</td>\n",
              "      <td>6135.000000</td>\n",
              "      <td>6102.550000</td>\n",
              "      <td>6128.385000</td>\n",
              "      <td>3904.000000</td>\n",
              "      <td>2.274677e+07</td>\n",
              "      <td>912.000000</td>\n",
              "      <td>2902.000000</td>\n",
              "      <td>77.125000</td>\n",
              "    </tr>\n",
              "    <tr>\n",
              "      <th>max</th>\n",
              "      <td>6302.900000</td>\n",
              "      <td>6336.900000</td>\n",
              "      <td>6450.000000</td>\n",
              "      <td>6235.000000</td>\n",
              "      <td>6330.000000</td>\n",
              "      <td>6302.900000</td>\n",
              "      <td>6347.570000</td>\n",
              "      <td>29230.000000</td>\n",
              "      <td>1.826219e+08</td>\n",
              "      <td>2615.000000</td>\n",
              "      <td>24752.000000</td>\n",
              "      <td>92.570000</td>\n",
              "    </tr>\n",
              "  </tbody>\n",
              "</table>\n",
              "</div>"
            ],
            "text/plain": [
              "        Prev Close   Open Price  ...  Deliverable Qty  % Dly Qt to Traded Qty\n",
              "count    59.000000    59.000000  ...        59.000000               59.000000\n",
              "mean   5898.773729  5907.959322  ...      2489.915254               70.930847\n",
              "std     282.338833   288.107246  ...      3420.673524                9.656043\n",
              "min    5391.350000  5353.850000  ...       424.000000               47.530000\n",
              "25%    5651.275000  5650.725000  ...       874.500000               64.780000\n",
              "50%    5999.350000  5961.750000  ...      1589.000000               71.300000\n",
              "75%    6102.550000  6123.500000  ...      2902.000000               77.125000\n",
              "max    6302.900000  6336.900000  ...     24752.000000               92.570000\n",
              "\n",
              "[8 rows x 12 columns]"
            ]
          },
          "metadata": {
            "tags": []
          },
          "execution_count": 13
        }
      ]
    },
    {
      "cell_type": "markdown",
      "metadata": {
        "id": "Rq_tYjZw26W4",
        "colab_type": "text"
      },
      "source": [
        "**Printing the required outputs for query 1.2**."
      ]
    },
    {
      "cell_type": "code",
      "metadata": {
        "id": "nBheby59HX3I",
        "colab_type": "code",
        "outputId": "6e0a7c41-155b-4202-9c4d-21e1f74a26ec",
        "colab": {
          "base_uri": "https://localhost:8080/",
          "height": 119
        }
      },
      "source": [
        "print(\"For last 90 days : \\nThe minimum value of Price {}\\nThe maximum value of Price {}\\nThe mean value of Price {}\"\n",
        "      .format(data_90_days['Close Price'].min(), data_90_days['Close Price'].max(), data_90_days['Close Price'].mean()))\n",
        "\n",
        "print('\\nprice = Closing Price unless stated otherwise')"
      ],
      "execution_count": 0,
      "outputs": [
        {
          "output_type": "stream",
          "text": [
            "For last 90 days : \n",
            "The minimum value of Price 5391.35\n",
            "The maximum value of Price 6302.9\n",
            "The mean value of Price 5895.409322033899\n",
            "\n",
            "price = Closing Price unless stated otherwise\n"
          ],
          "name": "stdout"
        }
      ]
    },
    {
      "cell_type": "markdown",
      "metadata": {
        "id": "x5AYpOTuBsVy",
        "colab_type": "text"
      },
      "source": [
        "\n",
        "\n",
        "---\n",
        "\n",
        "\n",
        "## Query 1.3 \n",
        "    Analyse the data types for each column of the dataframe. Pandas knows how to deal with dates in an intelligent manner. But to make use of Pandas functionality for dates, you need to ensure that the column is of type 'datetime64(ns)'. Change the date column from 'object' type to 'datetime64(ns)' for future convenience. See what happens if you subtract the minimum value of the date column from the maximum value."
      ]
    },
    {
      "cell_type": "code",
      "metadata": {
        "id": "vHPYsKI359lH",
        "colab_type": "code",
        "outputId": "0f4cf44d-e84c-4059-90a1-9ef36afc16bb",
        "colab": {
          "base_uri": "https://localhost:8080/",
          "height": 357
        }
      },
      "source": [
        "#to check the data types of each column of dataframe\n",
        "#built in pandas function info( ) can help us.\n",
        "\n",
        "data.info()"
      ],
      "execution_count": 0,
      "outputs": [
        {
          "output_type": "stream",
          "text": [
            "<class 'pandas.core.frame.DataFrame'>\n",
            "RangeIndex: 494 entries, 0 to 493\n",
            "Data columns (total 15 columns):\n",
            "Symbol                    494 non-null object\n",
            "Series                    494 non-null object\n",
            "Date                      494 non-null object\n",
            "Prev Close                494 non-null float64\n",
            "Open Price                494 non-null float64\n",
            "High Price                494 non-null float64\n",
            "Low Price                 494 non-null float64\n",
            "Last Price                494 non-null float64\n",
            "Close Price               494 non-null float64\n",
            "Average Price             494 non-null float64\n",
            "Total Traded Quantity     494 non-null int64\n",
            "Turnover                  494 non-null float64\n",
            "No. of Trades             494 non-null int64\n",
            "Deliverable Qty           494 non-null int64\n",
            "% Dly Qt to Traded Qty    494 non-null float64\n",
            "dtypes: float64(9), int64(3), object(3)\n",
            "memory usage: 58.0+ KB\n"
          ],
          "name": "stdout"
        }
      ]
    },
    {
      "cell_type": "markdown",
      "metadata": {
        "id": "lklX6XXO5jl3",
        "colab_type": "text"
      },
      "source": [
        "**We can see that 9 of our data columns contain floating point value, three of them have integer value and other are of object type.**\n",
        "\n",
        "**After analysis of data types for each column we can seperate numerical and categorical fetaures.**"
      ]
    },
    {
      "cell_type": "code",
      "metadata": {
        "id": "S9I3pUZT5ExQ",
        "colab_type": "code",
        "outputId": "931fc347-ecc8-40c8-d27a-6e48aa63dc86",
        "colab": {
          "base_uri": "https://localhost:8080/",
          "height": 34
        }
      },
      "source": [
        "#to calculate features with numerical data\n",
        "numeric_data= data.select_dtypes(include=[np.number])\n",
        "#to calculate features with non-numerical data\n",
        "categorical_data= data.select_dtypes(exclude= [np.number])\n",
        "\n",
        "print('We have {} numeric features and {} categorical features'.format(numeric_data.shape[1], categorical_data.shape[1]))"
      ],
      "execution_count": 0,
      "outputs": [
        {
          "output_type": "stream",
          "text": [
            "We have 12 numeric features and 3 categorical features\n"
          ],
          "name": "stdout"
        }
      ]
    },
    {
      "cell_type": "markdown",
      "metadata": {
        "id": "y4rFT_Ba7Wxq",
        "colab_type": "text"
      },
      "source": [
        "**Now, we are interested to learn about the correlation behavior of numeric variables. Out of 38 variables, I presume some of them must be correlated. If found, we can later remove these correlated variables as they won't provide any useful information to the model.**"
      ]
    },
    {
      "cell_type": "code",
      "metadata": {
        "id": "fWnljbVi5HAl",
        "colab_type": "code",
        "outputId": "d4413aea-baa3-4c0c-9aa0-f01d8d6f6af3",
        "colab": {
          "base_uri": "https://localhost:8080/",
          "height": 272
        }
      },
      "source": [
        "#to find correlation of numerical data\n",
        "corr= numeric_data.corr()\n",
        "\n",
        "print(corr)"
      ],
      "execution_count": 0,
      "outputs": [
        {
          "output_type": "stream",
          "text": [
            "                        Prev Close  ...  % Dly Qt to Traded Qty\n",
            "Prev Close                1.000000  ...               -0.275740\n",
            "Open Price                0.998744  ...               -0.278646\n",
            "High Price                0.995215  ...               -0.306144\n",
            "Low Price                 0.997549  ...               -0.279126\n",
            "Last Price                0.993294  ...               -0.298313\n",
            "Close Price               0.993847  ...               -0.299975\n",
            "Average Price             0.996123  ...               -0.299225\n",
            "Total Traded Quantity     0.101048  ...               -0.126476\n",
            "Turnover                  0.250860  ...               -0.180801\n",
            "No. of Trades             0.240685  ...               -0.399952\n",
            "Deliverable Qty           0.032091  ...                0.150345\n",
            "% Dly Qt to Traded Qty   -0.275740  ...                1.000000\n",
            "\n",
            "[12 rows x 12 columns]\n"
          ],
          "name": "stdout"
        }
      ]
    },
    {
      "cell_type": "markdown",
      "metadata": {
        "id": "xWuY9Jwq7i1c",
        "colab_type": "text"
      },
      "source": [
        "**Let's say we want to find the correlation of our input factors with Close Price for a day.**"
      ]
    },
    {
      "cell_type": "code",
      "metadata": {
        "id": "ABfyRsqU5QpV",
        "colab_type": "code",
        "outputId": "6bc7efaa-e0d0-4326-8ae3-e77b9a6b7dc3",
        "colab": {
          "base_uri": "https://localhost:8080/",
          "height": 255
        }
      },
      "source": [
        "#to print top correlated factors \n",
        "print('The top correlated factors are\\n{}'.format(corr['Close Price'].sort_values(ascending=False)[: 5]))\n",
        "\n",
        "#to print least correlated factors\n",
        "print('The least correlated factors are\\n{}'.format(corr['Close Price'].sort_values(ascending=False)[-5 :]))"
      ],
      "execution_count": 0,
      "outputs": [
        {
          "output_type": "stream",
          "text": [
            "The top correlated factors are\n",
            "Close Price      1.000000\n",
            "Last Price       0.999755\n",
            "Average Price    0.999038\n",
            "High Price       0.998018\n",
            "Low Price        0.996144\n",
            "Name: Close Price, dtype: float64\n",
            "The least correlated factors are\n",
            "Turnover                  0.301956\n",
            "No. of Trades             0.284221\n",
            "Total Traded Quantity     0.150689\n",
            "Deliverable Qty           0.067953\n",
            "% Dly Qt to Traded Qty   -0.299975\n",
            "Name: Close Price, dtype: float64\n"
          ],
          "name": "stdout"
        }
      ]
    },
    {
      "cell_type": "code",
      "metadata": {
        "id": "DEItSX3s5UYz",
        "colab_type": "code",
        "outputId": "e40b70cb-225f-4cd4-a7bd-78c71f25d8f5",
        "colab": {
          "base_uri": "https://localhost:8080/",
          "height": 238
        }
      },
      "source": [
        "#we can also see if the data is skewed in its probabilty distribution.\n",
        "data[ : ].skew()"
      ],
      "execution_count": 0,
      "outputs": [
        {
          "output_type": "execute_result",
          "data": {
            "text/plain": [
              "Prev Close                0.924228\n",
              "Open Price                0.925029\n",
              "High Price                0.950868\n",
              "Low Price                 0.916567\n",
              "Last Price                0.929124\n",
              "Close Price               0.935477\n",
              "Average Price             0.944100\n",
              "Total Traded Quantity     3.755109\n",
              "Turnover                  3.417277\n",
              "No. of Trades             3.529010\n",
              "Deliverable Qty           5.183107\n",
              "% Dly Qt to Traded Qty   -0.096361\n",
              "dtype: float64"
            ]
          },
          "metadata": {
            "tags": []
          },
          "execution_count": 19
        }
      ]
    },
    {
      "cell_type": "markdown",
      "metadata": {
        "id": "M21iRz6-8Pbp",
        "colab_type": "text"
      },
      "source": [
        "**We can plot the data distribution of any data column with help of seaborn plotting library.**"
      ]
    },
    {
      "cell_type": "code",
      "metadata": {
        "id": "T2BVVIQj8ShN",
        "colab_type": "code",
        "outputId": "76936cf1-f466-440e-d7be-397f8d4d0d53",
        "colab": {
          "base_uri": "https://localhost:8080/",
          "height": 300
        }
      },
      "source": [
        "sns.distplot(data['Total Traded Quantity'])"
      ],
      "execution_count": 0,
      "outputs": [
        {
          "output_type": "execute_result",
          "data": {
            "text/plain": [
              "<matplotlib.axes._subplots.AxesSubplot at 0x7f79f56ff5f8>"
            ]
          },
          "metadata": {
            "tags": []
          },
          "execution_count": 20
        },
        {
          "output_type": "display_data",
          "data": {
            "image/png": "[encoded data removed]",
            "text/plain": [
              "<Figure size 504x288 with 1 Axes>"
            ]
          },
          "metadata": {
            "tags": []
          }
        }
      ]
    },
    {
      "cell_type": "markdown",
      "metadata": {
        "id": "aU26FPNB8jmZ",
        "colab_type": "text"
      },
      "source": [
        "**We see that the target variable Total Traded Quantity has a right-skewed distribution. We'll need to log transform this variable so that it becomes normally distributed. A normally distributed (or close to normal) target variable helps in better modeling the relationship between target and independent variables.**"
      ]
    },
    {
      "cell_type": "code",
      "metadata": {
        "id": "H26EFQ9985NT",
        "colab_type": "code",
        "outputId": "40ef8de0-4774-404d-8172-30f465145f6d",
        "colab": {
          "base_uri": "https://localhost:8080/",
          "height": 318
        }
      },
      "source": [
        "#now transforming the variable\n",
        "target = np.log(data['Total Traded Quantity'])\n",
        "print ('Skewness is', target.skew())\n",
        "sns.distplot(target)"
      ],
      "execution_count": 0,
      "outputs": [
        {
          "output_type": "stream",
          "text": [
            "Skewness is 0.3853124468039079\n"
          ],
          "name": "stdout"
        },
        {
          "output_type": "execute_result",
          "data": {
            "text/plain": [
              "<matplotlib.axes._subplots.AxesSubplot at 0x7f79f437a9e8>"
            ]
          },
          "metadata": {
            "tags": []
          },
          "execution_count": 21
        },
        {
          "output_type": "display_data",
          "data": {
            "image/png": "[encoded data removed]",
            "text/plain": [
              "<Figure size 504x288 with 1 Axes>"
            ]
          },
          "metadata": {
            "tags": []
          }
        }
      ]
    },
    {
      "cell_type": "markdown",
      "metadata": {
        "id": "2anKPwcA9FEk",
        "colab_type": "text"
      },
      "source": [
        "**Now we can see it's more normally distributed, such analysis can be done with any data column.**"
      ]
    },
    {
      "cell_type": "code",
      "metadata": {
        "id": "MTT-kcasLeKs",
        "colab_type": "code",
        "outputId": "44474dec-41c5-427b-8dcc-3aea343e138a",
        "colab": {
          "base_uri": "https://localhost:8080/",
          "height": 51
        }
      },
      "source": [
        "#to print data type of data[\"Date\"]\n",
        "print(type(data['Date'][0]))\n",
        "\n",
        "'''We can see that the data is of object type.\n",
        "      we will convert it to suitable datatype before further operation.'''\n",
        "\n",
        "#to convert the elements of date column from type.object to type.datetime64(ns)\n",
        "data['Date']= pd.to_datetime(data['Date'])\n",
        "\n",
        "#check the updated data type\n",
        "type(data['Date'][0])"
      ],
      "execution_count": 0,
      "outputs": [
        {
          "output_type": "stream",
          "text": [
            "<class 'str'>\n"
          ],
          "name": "stdout"
        },
        {
          "output_type": "execute_result",
          "data": {
            "text/plain": [
              "pandas._libs.tslibs.timestamps.Timestamp"
            ]
          },
          "metadata": {
            "tags": []
          },
          "execution_count": 22
        }
      ]
    },
    {
      "cell_type": "markdown",
      "metadata": {
        "id": "bg4TzkvC3Zxd",
        "colab_type": "text"
      },
      "source": [
        "**We converted elements data[\"Date\"] Series to datatime64(ns) type to make use of Pandas functionality for dates.**"
      ]
    },
    {
      "cell_type": "code",
      "metadata": {
        "id": "2T3wFXQzM7Du",
        "colab_type": "code",
        "outputId": "cb5aafc5-b9a2-4deb-b6eb-d8ccd69ba157",
        "colab": {
          "base_uri": "https://localhost:8080/",
          "height": 34
        }
      },
      "source": [
        "#subtracting the minimum value of the date column from the maximum value.\n",
        "print(data['Date'][493] - data['Date'][0])"
      ],
      "execution_count": 0,
      "outputs": [
        {
          "output_type": "stream",
          "text": [
            "728 days 00:00:00\n"
          ],
          "name": "stdout"
        }
      ]
    },
    {
      "cell_type": "markdown",
      "metadata": {
        "id": "sSoI2MoAeEGT",
        "colab_type": "text"
      },
      "source": [
        "**We can see on subtraction we get the number of days passed during the intervel.**"
      ]
    },
    {
      "cell_type": "markdown",
      "metadata": {
        "id": "dG4LXfRBB_x2",
        "colab_type": "text"
      },
      "source": [
        "\n",
        "\n",
        "---\n",
        "\n",
        "\n",
        "## Query 1.4\n",
        "    In a separate array , calculate the monthwise VWAP (Volume Weighted Average Price ) of the stock. \n",
        "    ( VWAP = sum(price*volume)/sum(volume) ) \n",
        "    To know more about VWAP , visit - VWAP definition \n",
        "    {Hint : Create a new dataframe column ‘Month’. The values for this column can be derived from the ‘Date” column by using appropriate pandas functions. Similarly, create a column ‘Year’ and initialize it. Then use the 'groupby()' function by month and year. Finally, calculate the vwap value for each month (i.e. for each group created)."
      ]
    },
    {
      "cell_type": "markdown",
      "metadata": {
        "id": "vGYEjGcM_yYs",
        "colab_type": "text"
      },
      "source": [
        "**In order to group our dataset by months and years we will first create new columns with month and year for a given data. We have already converted our ['Date'] column to suitable type thus we can get some help from pandas here.**"
      ]
    },
    {
      "cell_type": "code",
      "metadata": {
        "id": "t4D7TeoBOyfi",
        "colab_type": "code",
        "outputId": "6b7ae4b1-4015-4f54-e3e7-9f016817e572",
        "colab": {
          "base_uri": "https://localhost:8080/",
          "height": 102
        }
      },
      "source": [
        "#initialize a new column and provide 0 value to each of its row.\n",
        "data['month']= 0\n",
        "\n",
        "#now for entire length of data we would replce the 0 with month value\n",
        "#we can get month value from data['Date']\n",
        "for i in range (0, 494):\n",
        "  data['month'][i]= data['Date'][i].month"
      ],
      "execution_count": 0,
      "outputs": [
        {
          "output_type": "stream",
          "text": [
            "/usr/local/lib/python3.6/dist-packages/ipykernel_launcher.py:6: SettingWithCopyWarning: \n",
            "A value is trying to be set on a copy of a slice from a DataFrame\n",
            "\n",
            "See the caveats in the documentation: http://pandas.pydata.org/pandas-docs/stable/indexing.html#indexing-view-versus-copy\n",
            "  \n"
          ],
          "name": "stderr"
        }
      ]
    },
    {
      "cell_type": "code",
      "metadata": {
        "id": "uIGwbbFbQ8De",
        "colab_type": "code",
        "outputId": "593b5028-7a4d-4fd1-be6c-33a6c271778a",
        "colab": {
          "base_uri": "https://localhost:8080/",
          "height": 102
        }
      },
      "source": [
        "#initialize a new column and provide 0 value to each of its row.\n",
        "data['year']= 0\n",
        "\n",
        "#now for entire length of data we would replce the 0 with year value\n",
        "#we can get year value from data['Date']\n",
        "for i in range(0, 494):\n",
        "  data['year'][i]= data['Date'][i].year"
      ],
      "execution_count": 0,
      "outputs": [
        {
          "output_type": "stream",
          "text": [
            "/usr/local/lib/python3.6/dist-packages/ipykernel_launcher.py:6: SettingWithCopyWarning: \n",
            "A value is trying to be set on a copy of a slice from a DataFrame\n",
            "\n",
            "See the caveats in the documentation: http://pandas.pydata.org/pandas-docs/stable/indexing.html#indexing-view-versus-copy\n",
            "  \n"
          ],
          "name": "stderr"
        }
      ]
    },
    {
      "cell_type": "code",
      "metadata": {
        "id": "sccK-dNOQU7P",
        "colab_type": "code",
        "outputId": "5cd015d5-1fd5-4c87-8f91-d405ba41ab13",
        "colab": {
          "base_uri": "https://localhost:8080/",
          "height": 340
        }
      },
      "source": [
        "data.head()"
      ],
      "execution_count": 0,
      "outputs": [
        {
          "output_type": "execute_result",
          "data": {
            "text/html": [
              "<div>\n",
              "<style scoped>\n",
              "    .dataframe tbody tr th:only-of-type {\n",
              "        vertical-align: middle;\n",
              "    }\n",
              "\n",
              "    .dataframe tbody tr th {\n",
              "        vertical-align: top;\n",
              "    }\n",
              "\n",
              "    .dataframe thead th {\n",
              "        text-align: right;\n",
              "    }\n",
              "</style>\n",
              "<table border=\"1\" class=\"dataframe\">\n",
              "  <thead>\n",
              "    <tr style=\"text-align: right;\">\n",
              "      <th></th>\n",
              "      <th>Symbol</th>\n",
              "      <th>Series</th>\n",
              "      <th>Date</th>\n",
              "      <th>Prev Close</th>\n",
              "      <th>Open Price</th>\n",
              "      <th>High Price</th>\n",
              "      <th>Low Price</th>\n",
              "      <th>Last Price</th>\n",
              "      <th>Close Price</th>\n",
              "      <th>Average Price</th>\n",
              "      <th>Total Traded Quantity</th>\n",
              "      <th>Turnover</th>\n",
              "      <th>No. of Trades</th>\n",
              "      <th>Deliverable Qty</th>\n",
              "      <th>% Dly Qt to Traded Qty</th>\n",
              "      <th>month</th>\n",
              "      <th>year</th>\n",
              "    </tr>\n",
              "  </thead>\n",
              "  <tbody>\n",
              "    <tr>\n",
              "      <th>0</th>\n",
              "      <td>LAXMIMACH</td>\n",
              "      <td>EQ</td>\n",
              "      <td>2017-05-15</td>\n",
              "      <td>4552.40</td>\n",
              "      <td>4619.95</td>\n",
              "      <td>4670.0</td>\n",
              "      <td>4550.05</td>\n",
              "      <td>4606.0</td>\n",
              "      <td>4614.05</td>\n",
              "      <td>4629.76</td>\n",
              "      <td>4275</td>\n",
              "      <td>19792243.95</td>\n",
              "      <td>1097</td>\n",
              "      <td>2447</td>\n",
              "      <td>57.24</td>\n",
              "      <td>5</td>\n",
              "      <td>2017</td>\n",
              "    </tr>\n",
              "    <tr>\n",
              "      <th>1</th>\n",
              "      <td>LAXMIMACH</td>\n",
              "      <td>EQ</td>\n",
              "      <td>2017-05-16</td>\n",
              "      <td>4614.05</td>\n",
              "      <td>4566.05</td>\n",
              "      <td>4650.0</td>\n",
              "      <td>4564.10</td>\n",
              "      <td>4582.0</td>\n",
              "      <td>4589.80</td>\n",
              "      <td>4612.18</td>\n",
              "      <td>4467</td>\n",
              "      <td>20602592.70</td>\n",
              "      <td>805</td>\n",
              "      <td>2961</td>\n",
              "      <td>66.29</td>\n",
              "      <td>5</td>\n",
              "      <td>2017</td>\n",
              "    </tr>\n",
              "    <tr>\n",
              "      <th>2</th>\n",
              "      <td>LAXMIMACH</td>\n",
              "      <td>EQ</td>\n",
              "      <td>2017-05-17</td>\n",
              "      <td>4589.80</td>\n",
              "      <td>4500.00</td>\n",
              "      <td>4675.2</td>\n",
              "      <td>4500.00</td>\n",
              "      <td>4610.0</td>\n",
              "      <td>4637.25</td>\n",
              "      <td>4608.88</td>\n",
              "      <td>6320</td>\n",
              "      <td>29128119.85</td>\n",
              "      <td>1035</td>\n",
              "      <td>2876</td>\n",
              "      <td>45.51</td>\n",
              "      <td>5</td>\n",
              "      <td>2017</td>\n",
              "    </tr>\n",
              "    <tr>\n",
              "      <th>3</th>\n",
              "      <td>LAXMIMACH</td>\n",
              "      <td>EQ</td>\n",
              "      <td>2017-05-18</td>\n",
              "      <td>4637.25</td>\n",
              "      <td>4599.95</td>\n",
              "      <td>4624.8</td>\n",
              "      <td>4515.10</td>\n",
              "      <td>4515.1</td>\n",
              "      <td>4544.45</td>\n",
              "      <td>4567.74</td>\n",
              "      <td>4500</td>\n",
              "      <td>20554835.90</td>\n",
              "      <td>831</td>\n",
              "      <td>2776</td>\n",
              "      <td>61.69</td>\n",
              "      <td>5</td>\n",
              "      <td>2017</td>\n",
              "    </tr>\n",
              "    <tr>\n",
              "      <th>4</th>\n",
              "      <td>LAXMIMACH</td>\n",
              "      <td>EQ</td>\n",
              "      <td>2017-05-19</td>\n",
              "      <td>4544.45</td>\n",
              "      <td>4586.90</td>\n",
              "      <td>4648.0</td>\n",
              "      <td>4490.00</td>\n",
              "      <td>4521.0</td>\n",
              "      <td>4522.70</td>\n",
              "      <td>4556.21</td>\n",
              "      <td>4190</td>\n",
              "      <td>19090528.50</td>\n",
              "      <td>990</td>\n",
              "      <td>1944</td>\n",
              "      <td>46.40</td>\n",
              "      <td>5</td>\n",
              "      <td>2017</td>\n",
              "    </tr>\n",
              "  </tbody>\n",
              "</table>\n",
              "</div>"
            ],
            "text/plain": [
              "      Symbol Series       Date  ...  % Dly Qt to Traded Qty  month  year\n",
              "0  LAXMIMACH     EQ 2017-05-15  ...                   57.24      5  2017\n",
              "1  LAXMIMACH     EQ 2017-05-16  ...                   66.29      5  2017\n",
              "2  LAXMIMACH     EQ 2017-05-17  ...                   45.51      5  2017\n",
              "3  LAXMIMACH     EQ 2017-05-18  ...                   61.69      5  2017\n",
              "4  LAXMIMACH     EQ 2017-05-19  ...                   46.40      5  2017\n",
              "\n",
              "[5 rows x 17 columns]"
            ]
          },
          "metadata": {
            "tags": []
          },
          "execution_count": 26
        }
      ]
    },
    {
      "cell_type": "markdown",
      "metadata": {
        "id": "aw8I_KfYAmOF",
        "colab_type": "text"
      },
      "source": [
        "**We can see that month and year are added to our dataset.**\n",
        "\n",
        "\n",
        "\n",
        "**Now in order to calculate monthwise VWAP (Volume Weighted Average Price ) of the stock. We first need to find out the volume of stocks for each day.**\n",
        "\n",
        "**The *volume of trade is the total quantity of trading on a given day*. Here it is given by data['Total Traded Quantity']. But since we don't have the exact price of each trade that occurred during the day length, we will be using average price  for given day in order to calculate our VWAP. \n",
        "We can see that average price * volume = Turnover.**\n",
        "\n",
        "\n"
      ]
    },
    {
      "cell_type": "code",
      "metadata": {
        "id": "IKcRgx6rS4Ac",
        "colab_type": "code",
        "colab": {}
      },
      "source": [
        "data['pr_vol']= (data['Average Price'] * data['Total Traded Quantity'])   #pr_vol contain price * volume for a given day"
      ],
      "execution_count": 0,
      "outputs": []
    },
    {
      "cell_type": "markdown",
      "metadata": {
        "id": "2KURrCqcCEks",
        "colab_type": "text"
      },
      "source": [
        "**We can save the daily volume multiplied by daily average price of trade in a new column called pr_vol.**"
      ]
    },
    {
      "cell_type": "code",
      "metadata": {
        "id": "o_5OlcqCbWCU",
        "colab_type": "code",
        "colab": {}
      },
      "source": [
        "#using pandas group by to group dataframe by month and year simultaneously.\n",
        "#After grouping monthly summation of each value is calculated.\n",
        "groups_mm_yyyy=data.groupby([(data['year']),(data['month'])]).sum()"
      ],
      "execution_count": 0,
      "outputs": []
    },
    {
      "cell_type": "markdown",
      "metadata": {
        "id": "AduzbPm4DBy0",
        "colab_type": "text"
      },
      "source": [
        "**We can see on monthly summation we get sum(Price* Volume)= sum(pr_vol). Which forms up our numerator for calculating VWAP.** \n",
        "\n",
        "**So VWAP will be = sum(pr_vol) for each month / sum(Volume or Total Traded Quantity )for each month**"
      ]
    },
    {
      "cell_type": "code",
      "metadata": {
        "id": "DBqvuhZgc9oN",
        "colab_type": "code",
        "outputId": "71f834a5-918e-4511-9a5b-34c908fc7752",
        "colab": {
          "base_uri": "https://localhost:8080/",
          "height": 306
        }
      },
      "source": [
        "#printing first few rows of new dataframe.\n",
        "groups_mm_yyyy.head()"
      ],
      "execution_count": 0,
      "outputs": [
        {
          "output_type": "execute_result",
          "data": {
            "text/html": [
              "<div>\n",
              "<style scoped>\n",
              "    .dataframe tbody tr th:only-of-type {\n",
              "        vertical-align: middle;\n",
              "    }\n",
              "\n",
              "    .dataframe tbody tr th {\n",
              "        vertical-align: top;\n",
              "    }\n",
              "\n",
              "    .dataframe thead th {\n",
              "        text-align: right;\n",
              "    }\n",
              "</style>\n",
              "<table border=\"1\" class=\"dataframe\">\n",
              "  <thead>\n",
              "    <tr style=\"text-align: right;\">\n",
              "      <th></th>\n",
              "      <th></th>\n",
              "      <th>Prev Close</th>\n",
              "      <th>Open Price</th>\n",
              "      <th>High Price</th>\n",
              "      <th>Low Price</th>\n",
              "      <th>Last Price</th>\n",
              "      <th>Close Price</th>\n",
              "      <th>Average Price</th>\n",
              "      <th>Total Traded Quantity</th>\n",
              "      <th>Turnover</th>\n",
              "      <th>No. of Trades</th>\n",
              "      <th>Deliverable Qty</th>\n",
              "      <th>% Dly Qt to Traded Qty</th>\n",
              "      <th>month</th>\n",
              "      <th>year</th>\n",
              "      <th>pr_vol</th>\n",
              "    </tr>\n",
              "    <tr>\n",
              "      <th>year</th>\n",
              "      <th>month</th>\n",
              "      <th></th>\n",
              "      <th></th>\n",
              "      <th></th>\n",
              "      <th></th>\n",
              "      <th></th>\n",
              "      <th></th>\n",
              "      <th></th>\n",
              "      <th></th>\n",
              "      <th></th>\n",
              "      <th></th>\n",
              "      <th></th>\n",
              "      <th></th>\n",
              "      <th></th>\n",
              "      <th></th>\n",
              "      <th></th>\n",
              "    </tr>\n",
              "  </thead>\n",
              "  <tbody>\n",
              "    <tr>\n",
              "      <th rowspan=\"5\" valign=\"top\">2017</th>\n",
              "      <th>5</th>\n",
              "      <td>58686.65</td>\n",
              "      <td>58682.75</td>\n",
              "      <td>59732.10</td>\n",
              "      <td>57981.95</td>\n",
              "      <td>58676.50</td>\n",
              "      <td>58758.95</td>\n",
              "      <td>58927.01</td>\n",
              "      <td>68632</td>\n",
              "      <td>3.126534e+08</td>\n",
              "      <td>13255</td>\n",
              "      <td>45434</td>\n",
              "      <td>802.66</td>\n",
              "      <td>65</td>\n",
              "      <td>26221</td>\n",
              "      <td>3.126534e+08</td>\n",
              "    </tr>\n",
              "    <tr>\n",
              "      <th>6</th>\n",
              "      <td>106076.50</td>\n",
              "      <td>106416.50</td>\n",
              "      <td>108573.50</td>\n",
              "      <td>105040.95</td>\n",
              "      <td>106519.35</td>\n",
              "      <td>106507.35</td>\n",
              "      <td>106762.91</td>\n",
              "      <td>174106</td>\n",
              "      <td>8.839912e+08</td>\n",
              "      <td>33749</td>\n",
              "      <td>90329</td>\n",
              "      <td>1203.48</td>\n",
              "      <td>126</td>\n",
              "      <td>42357</td>\n",
              "      <td>8.839912e+08</td>\n",
              "    </tr>\n",
              "    <tr>\n",
              "      <th>7</th>\n",
              "      <td>112422.45</td>\n",
              "      <td>112623.80</td>\n",
              "      <td>114990.75</td>\n",
              "      <td>111543.10</td>\n",
              "      <td>113237.65</td>\n",
              "      <td>113280.40</td>\n",
              "      <td>113452.23</td>\n",
              "      <td>208913</td>\n",
              "      <td>1.148966e+09</td>\n",
              "      <td>31930</td>\n",
              "      <td>138035</td>\n",
              "      <td>1337.04</td>\n",
              "      <td>147</td>\n",
              "      <td>42357</td>\n",
              "      <td>1.148966e+09</td>\n",
              "    </tr>\n",
              "    <tr>\n",
              "      <th>8</th>\n",
              "      <td>125568.30</td>\n",
              "      <td>126065.15</td>\n",
              "      <td>128032.70</td>\n",
              "      <td>124226.00</td>\n",
              "      <td>125840.90</td>\n",
              "      <td>125756.05</td>\n",
              "      <td>126155.81</td>\n",
              "      <td>159896</td>\n",
              "      <td>9.617182e+08</td>\n",
              "      <td>31144</td>\n",
              "      <td>95204</td>\n",
              "      <td>1405.04</td>\n",
              "      <td>168</td>\n",
              "      <td>42357</td>\n",
              "      <td>9.617182e+08</td>\n",
              "    </tr>\n",
              "    <tr>\n",
              "      <th>9</th>\n",
              "      <td>125314.55</td>\n",
              "      <td>125559.25</td>\n",
              "      <td>126989.95</td>\n",
              "      <td>124044.00</td>\n",
              "      <td>124766.15</td>\n",
              "      <td>124913.60</td>\n",
              "      <td>125334.41</td>\n",
              "      <td>165336</td>\n",
              "      <td>9.867330e+08</td>\n",
              "      <td>24767</td>\n",
              "      <td>117305</td>\n",
              "      <td>1396.92</td>\n",
              "      <td>189</td>\n",
              "      <td>42357</td>\n",
              "      <td>9.867330e+08</td>\n",
              "    </tr>\n",
              "  </tbody>\n",
              "</table>\n",
              "</div>"
            ],
            "text/plain": [
              "            Prev Close  Open Price  High Price  ...  month   year        pr_vol\n",
              "year month                                      ...                            \n",
              "2017 5        58686.65    58682.75    59732.10  ...     65  26221  3.126534e+08\n",
              "     6       106076.50   106416.50   108573.50  ...    126  42357  8.839912e+08\n",
              "     7       112422.45   112623.80   114990.75  ...    147  42357  1.148966e+09\n",
              "     8       125568.30   126065.15   128032.70  ...    168  42357  9.617182e+08\n",
              "     9       125314.55   125559.25   126989.95  ...    189  42357  9.867330e+08\n",
              "\n",
              "[5 rows x 15 columns]"
            ]
          },
          "metadata": {
            "tags": []
          },
          "execution_count": 29
        }
      ]
    },
    {
      "cell_type": "markdown",
      "metadata": {
        "id": "c4LSq_KvjqOG",
        "colab_type": "text"
      },
      "source": [
        "**Once we have monthy pr_vol and Volume in out new datafram groups_mm_yyyy, grouped by months, can do perform simple divison operation to calculate monthswise VWAP.**"
      ]
    },
    {
      "cell_type": "code",
      "metadata": {
        "id": "TB4epHKRfzJP",
        "colab_type": "code",
        "colab": {}
      },
      "source": [
        "#now to calculate VWAP\n",
        "vwap = groups_mm_yyyy['pr_vol'] / groups_mm_yyyy['Total Traded Quantity']"
      ],
      "execution_count": 0,
      "outputs": []
    },
    {
      "cell_type": "code",
      "metadata": {
        "id": "jR_dDtIogJvm",
        "colab_type": "code",
        "outputId": "e7967158-c6d4-4c45-d973-680eefbc4f79",
        "colab": {
          "base_uri": "https://localhost:8080/",
          "height": 476
        }
      },
      "source": [
        "#printing monthwise vwap.\n",
        "print(vwap)"
      ],
      "execution_count": 0,
      "outputs": [
        {
          "output_type": "stream",
          "text": [
            "year  month\n",
            "2017  5        4555.505104\n",
            "      6        5077.316065\n",
            "      7        5499.734800\n",
            "      8        6014.648432\n",
            "      9        5968.047086\n",
            "      10       5861.666982\n",
            "      11       5874.599789\n",
            "      12       5819.725435\n",
            "2018  1        6301.486458\n",
            "      2        6056.198450\n",
            "      3        6648.519162\n",
            "      4        7724.700794\n",
            "      5        8741.843481\n",
            "      6        8014.048203\n",
            "      7        7915.074831\n",
            "      8        7293.157293\n",
            "      9        6872.031999\n",
            "      10       5925.951504\n",
            "      11       5909.835186\n",
            "      12       5745.154646\n",
            "2019  1        5554.269324\n",
            "      2        5566.564793\n",
            "      3        6184.509180\n",
            "      4        6033.039612\n",
            "      5        5612.619693\n",
            "dtype: float64\n"
          ],
          "name": "stdout"
        }
      ]
    },
    {
      "cell_type": "markdown",
      "metadata": {
        "id": "Eg2t0IVdCRCA",
        "colab_type": "text"
      },
      "source": [
        "\n",
        "\n",
        "---\n",
        "\n",
        "\n",
        "## Query 1.5\n",
        "    Write a function to calculate the average price over the last N days of the stock price data where N is a user defined parameter. Write a second function to calculate the profit/loss percentage over the last N days.\n",
        "    Calculate the average price AND the profit/loss percentages over the course of last -\n",
        "    1 week, 2 weeks, 1 month, 3 months, 6 months and 1 year.\n",
        "    {Note : Profit/Loss percentage between N days is the percentage change between the closing prices of the 2 days }"
      ]
    },
    {
      "cell_type": "markdown",
      "metadata": {
        "id": "fVcmGYfwktKl",
        "colab_type": "text"
      },
      "source": [
        "**A custom function which takes in number of days as a parameter is written here to return the average value of price over last N days.**\n",
        "\n",
        "**Where, Average Price over last N days= sum of average prices for last N days / no. of days**"
      ]
    },
    {
      "cell_type": "code",
      "metadata": {
        "id": "ewIN_dddwIpJ",
        "colab_type": "code",
        "colab": {}
      },
      "source": [
        "def get_avg_price(days):\n",
        "  date_value= data['Date'][493] - pd.to_timedelta(days, unit='D')\n",
        " \n",
        "  print(\"The average price for last {} days is\".format(days))\n",
        "  for i in range(0, 494):\n",
        "    if date_value > data['Date'][i]:\n",
        "      data_n_days= data[:][i+1 : 494]\n",
        "     \n",
        "      avg_price= (data_n_days['Average Price'].sum() / days)\n",
        "      \n",
        "    elif date_value == data['Date'][i]:\n",
        "      data_n_days = data[:][i : 494]\n",
        "      \n",
        "      avg_price= (data_n_days['Average Price'].sum() / days)\n",
        "      \n",
        "  return avg_price"
      ],
      "execution_count": 0,
      "outputs": []
    },
    {
      "cell_type": "markdown",
      "metadata": {
        "id": "9vNMeAxdlNVf",
        "colab_type": "text"
      },
      "source": [
        "**Below are calculated average prices over the time period of 1 week, 2 weeks, 1 month, 3 months, 6 months and 1 year**."
      ]
    },
    {
      "cell_type": "code",
      "metadata": {
        "id": "JO3fhvTkygKK",
        "colab_type": "code",
        "outputId": "b2be661c-c509-4d97-ac8c-01b3ae47a45c",
        "colab": {
          "base_uri": "https://localhost:8080/",
          "height": 51
        }
      },
      "source": [
        "get_avg_price(7)"
      ],
      "execution_count": 0,
      "outputs": [
        {
          "output_type": "stream",
          "text": [
            "The average price for last 7 days is\n"
          ],
          "name": "stdout"
        },
        {
          "output_type": "execute_result",
          "data": {
            "text/plain": [
              "4768.707142857143"
            ]
          },
          "metadata": {
            "tags": []
          },
          "execution_count": 33
        }
      ]
    },
    {
      "cell_type": "code",
      "metadata": {
        "id": "BUfpIkeAqH3f",
        "colab_type": "code",
        "outputId": "6e8fa0ac-e3ad-48aa-fb5a-0c5007308539",
        "colab": {
          "base_uri": "https://localhost:8080/",
          "height": 51
        }
      },
      "source": [
        "get_avg_price(14)"
      ],
      "execution_count": 0,
      "outputs": [
        {
          "output_type": "stream",
          "text": [
            "The average price for last 14 days is\n"
          ],
          "name": "stdout"
        },
        {
          "output_type": "execute_result",
          "data": {
            "text/plain": [
              "3612.7064285714287"
            ]
          },
          "metadata": {
            "tags": []
          },
          "execution_count": 34
        }
      ]
    },
    {
      "cell_type": "code",
      "metadata": {
        "id": "svFb0dqcqKw0",
        "colab_type": "code",
        "outputId": "bca23f5c-3079-4253-e381-9b18a383d752",
        "colab": {
          "base_uri": "https://localhost:8080/",
          "height": 51
        }
      },
      "source": [
        "get_avg_price(30)"
      ],
      "execution_count": 0,
      "outputs": [
        {
          "output_type": "stream",
          "text": [
            "The average price for last 30 days is\n"
          ],
          "name": "stdout"
        },
        {
          "output_type": "execute_result",
          "data": {
            "text/plain": [
              "3276.4036666666666"
            ]
          },
          "metadata": {
            "tags": []
          },
          "execution_count": 35
        }
      ]
    },
    {
      "cell_type": "code",
      "metadata": {
        "id": "Bf-c4HMZq4rf",
        "colab_type": "code",
        "outputId": "296e22ac-e0d1-4b17-cc20-823858c319b6",
        "colab": {
          "base_uri": "https://localhost:8080/",
          "height": 51
        }
      },
      "source": [
        "get_avg_price(90)"
      ],
      "execution_count": 0,
      "outputs": [
        {
          "output_type": "stream",
          "text": [
            "The average price for last 90 days is\n"
          ],
          "name": "stdout"
        },
        {
          "output_type": "execute_result",
          "data": {
            "text/plain": [
              "3870.551444444444"
            ]
          },
          "metadata": {
            "tags": []
          },
          "execution_count": 36
        }
      ]
    },
    {
      "cell_type": "code",
      "metadata": {
        "id": "WfStNoktqnSU",
        "colab_type": "code",
        "outputId": "3a731a98-3eb4-4ff7-8c04-b3b8487513be",
        "colab": {
          "base_uri": "https://localhost:8080/",
          "height": 51
        }
      },
      "source": [
        "get_avg_price(180)"
      ],
      "execution_count": 0,
      "outputs": [
        {
          "output_type": "stream",
          "text": [
            "The average price for last 180 days is\n"
          ],
          "name": "stdout"
        },
        {
          "output_type": "execute_result",
          "data": {
            "text/plain": [
              "3897.248666666667"
            ]
          },
          "metadata": {
            "tags": []
          },
          "execution_count": 37
        }
      ]
    },
    {
      "cell_type": "code",
      "metadata": {
        "id": "mi-AbExxqpoP",
        "colab_type": "code",
        "outputId": "5ac2feb2-0e9e-441c-8c62-5bb3af5336eb",
        "colab": {
          "base_uri": "https://localhost:8080/",
          "height": 51
        }
      },
      "source": [
        "get_avg_price(365)"
      ],
      "execution_count": 0,
      "outputs": [
        {
          "output_type": "stream",
          "text": [
            "The average price for last 365 days is\n"
          ],
          "name": "stdout"
        },
        {
          "output_type": "execute_result",
          "data": {
            "text/plain": [
              "4409.267150684932"
            ]
          },
          "metadata": {
            "tags": []
          },
          "execution_count": 38
        }
      ]
    },
    {
      "cell_type": "code",
      "metadata": {
        "id": "vBJ_PmfZqtfZ",
        "colab_type": "code",
        "outputId": "fef17009-3378-4a29-8d0f-8d749957dd2d",
        "colab": {
          "base_uri": "https://localhost:8080/",
          "height": 68
        }
      },
      "source": [
        "days= int(input(\"Enter the number of days\"))\n",
        "get_avg_price(days)"
      ],
      "execution_count": 0,
      "outputs": [
        {
          "output_type": "stream",
          "text": [
            "Enter the number of days7\n",
            "The average price for last 7 days is\n"
          ],
          "name": "stdout"
        },
        {
          "output_type": "execute_result",
          "data": {
            "text/plain": [
              "4768.707142857143"
            ]
          },
          "metadata": {
            "tags": []
          },
          "execution_count": 39
        }
      ]
    },
    {
      "cell_type": "markdown",
      "metadata": {
        "id": "hf6d21SGllPg",
        "colab_type": "text"
      },
      "source": [
        "**A custom function which takes in number of days as a parameter is written here to return the profit/loss percentage of price over last N days.**\n",
        "\n",
        "**Where, profit/loss percentage over last N days=  percentage change between the closing prices of the 2 days**"
      ]
    },
    {
      "cell_type": "code",
      "metadata": {
        "id": "p2sJZpZirKEU",
        "colab_type": "code",
        "colab": {}
      },
      "source": [
        "def get_pr_loss_perc(days):\n",
        "  date_value= data['Date'][493] - pd.to_timedelta(days, unit='D')\n",
        " \n",
        "  print(\"The profit loss percentage for last {} days is\".format(days))\n",
        "  for i in range(0, 494):\n",
        "    if date_value > data['Date'][i]:\n",
        "      data_n_days= data[:][i+1 : 494]\n",
        "     \n",
        "      pr_loss_change= (data_n_days['Close Price'].pct_change() * 100).fillna(0)\n",
        "      \n",
        "    elif date_value == data['Date'][i]:\n",
        "      data_n_days = data[:][i : 494]\n",
        "      \n",
        "      pr_loss_change= (data_n_days['Close Price'].pct_change() * 100).fillna(0)\n",
        "      \n",
        "  return pr_loss_change"
      ],
      "execution_count": 0,
      "outputs": []
    },
    {
      "cell_type": "markdown",
      "metadata": {
        "id": "G660poBWl3ri",
        "colab_type": "text"
      },
      "source": [
        "**Below are calculated average prices over the time period of 1 week, 2 weeks, 1 month, 3 months, 6 months and 1 year**. \n",
        "\n",
        "**A positive value indicate a profit has been recorded and a negative value indicates a loss.**"
      ]
    },
    {
      "cell_type": "code",
      "metadata": {
        "id": "7_lGVasEwg7n",
        "colab_type": "code",
        "outputId": "16c612e9-ccfe-4d82-8258-ba2496ecdfca",
        "colab": {
          "base_uri": "https://localhost:8080/",
          "height": 153
        }
      },
      "source": [
        "get_pr_loss_perc(7)"
      ],
      "execution_count": 0,
      "outputs": [
        {
          "output_type": "stream",
          "text": [
            "The profit loss percentage for last 7 days is\n"
          ],
          "name": "stdout"
        },
        {
          "output_type": "execute_result",
          "data": {
            "text/plain": [
              "488    0.000000\n",
              "489   -1.848258\n",
              "490   -1.416099\n",
              "491   -0.327577\n",
              "492    0.237614\n",
              "493   -1.283344\n",
              "Name: Close Price, dtype: float64"
            ]
          },
          "metadata": {
            "tags": []
          },
          "execution_count": 41
        }
      ]
    },
    {
      "cell_type": "code",
      "metadata": {
        "id": "YF4ogmFKi6_h",
        "colab_type": "code",
        "outputId": "5a6cdd2e-775d-4b49-de91-b5a2891a84f3",
        "colab": {
          "base_uri": "https://localhost:8080/",
          "height": 204
        }
      },
      "source": [
        "get_pr_loss_perc(14)"
      ],
      "execution_count": 0,
      "outputs": [
        {
          "output_type": "stream",
          "text": [
            "The profit loss percentage for last 14 days is\n"
          ],
          "name": "stdout"
        },
        {
          "output_type": "execute_result",
          "data": {
            "text/plain": [
              "485    0.000000\n",
              "486   -1.106867\n",
              "487   -0.239966\n",
              "488   -0.015802\n",
              "489   -1.848258\n",
              "490   -1.416099\n",
              "491   -0.327577\n",
              "492    0.237614\n",
              "493   -1.283344\n",
              "Name: Close Price, dtype: float64"
            ]
          },
          "metadata": {
            "tags": []
          },
          "execution_count": 42
        }
      ]
    },
    {
      "cell_type": "code",
      "metadata": {
        "id": "oAg7hxvAjKf7",
        "colab_type": "code",
        "outputId": "8e2a4c90-5d17-4761-9f7d-7faf064b128c",
        "colab": {
          "base_uri": "https://localhost:8080/",
          "height": 340
        }
      },
      "source": [
        "get_pr_loss_perc(30)"
      ],
      "execution_count": 0,
      "outputs": [
        {
          "output_type": "stream",
          "text": [
            "The profit loss percentage for last 30 days is\n"
          ],
          "name": "stdout"
        },
        {
          "output_type": "execute_result",
          "data": {
            "text/plain": [
              "477    0.000000\n",
              "478   -0.548327\n",
              "479   -0.656646\n",
              "480   -0.753624\n",
              "481   -0.708892\n",
              "482    0.320136\n",
              "483   -0.356259\n",
              "484   -0.622718\n",
              "485   -1.564418\n",
              "486   -1.106867\n",
              "487   -0.239966\n",
              "488   -0.015802\n",
              "489   -1.848258\n",
              "490   -1.416099\n",
              "491   -0.327577\n",
              "492    0.237614\n",
              "493   -1.283344\n",
              "Name: Close Price, dtype: float64"
            ]
          },
          "metadata": {
            "tags": []
          },
          "execution_count": 43
        }
      ]
    },
    {
      "cell_type": "code",
      "metadata": {
        "id": "uy-tORY9kfjM",
        "colab_type": "code",
        "outputId": "d28b8822-9202-4164-faf7-305fecb21fe4",
        "colab": {
          "base_uri": "https://localhost:8080/",
          "height": 1054
        }
      },
      "source": [
        "get_pr_loss_perc(90)"
      ],
      "execution_count": 0,
      "outputs": [
        {
          "output_type": "stream",
          "text": [
            "The profit loss percentage for last 90 days is\n"
          ],
          "name": "stdout"
        },
        {
          "output_type": "execute_result",
          "data": {
            "text/plain": [
              "435    0.000000\n",
              "436   -0.146028\n",
              "437    0.175128\n",
              "438   -1.607642\n",
              "439   -1.244665\n",
              "440    0.372819\n",
              "441    0.023099\n",
              "442    0.896965\n",
              "443    0.634470\n",
              "444    0.473080\n",
              "445    2.673898\n",
              "446    0.688767\n",
              "447    0.482605\n",
              "448    2.011802\n",
              "449    3.648606\n",
              "450    0.217640\n",
              "451    3.278904\n",
              "452   -0.172838\n",
              "453   -0.002394\n",
              "454   -0.610384\n",
              "455   -0.155741\n",
              "456   -0.814492\n",
              "457    0.069715\n",
              "458   -0.558953\n",
              "459    0.822777\n",
              "460    1.852705\n",
              "461   -1.221660\n",
              "462   -1.955541\n",
              "463   -0.665121\n",
              "464   -1.058786\n",
              "465    0.397543\n",
              "466    0.927248\n",
              "467    1.867891\n",
              "468    0.033911\n",
              "469    0.062150\n",
              "470   -1.607634\n",
              "471    0.009018\n",
              "472   -0.904180\n",
              "473    0.675016\n",
              "474    0.024650\n",
              "475    0.235764\n",
              "476   -0.324540\n",
              "477   -0.283663\n",
              "478   -0.548327\n",
              "479   -0.656646\n",
              "480   -0.753624\n",
              "481   -0.708892\n",
              "482    0.320136\n",
              "483   -0.356259\n",
              "484   -0.622718\n",
              "485   -1.564418\n",
              "486   -1.106867\n",
              "487   -0.239966\n",
              "488   -0.015802\n",
              "489   -1.848258\n",
              "490   -1.416099\n",
              "491   -0.327577\n",
              "492    0.237614\n",
              "493   -1.283344\n",
              "Name: Close Price, dtype: float64"
            ]
          },
          "metadata": {
            "tags": []
          },
          "execution_count": 44
        }
      ]
    },
    {
      "cell_type": "code",
      "metadata": {
        "id": "vn2xqgnlkSLL",
        "colab_type": "code",
        "outputId": "4b3aa438-30eb-4cfd-9732-7e8bc0cdb8a1",
        "colab": {
          "base_uri": "https://localhost:8080/",
          "height": 1088
        }
      },
      "source": [
        "get_pr_loss_perc(180)"
      ],
      "execution_count": 0,
      "outputs": [
        {
          "output_type": "stream",
          "text": [
            "The profit loss percentage for last 180 days is\n"
          ],
          "name": "stdout"
        },
        {
          "output_type": "execute_result",
          "data": {
            "text/plain": [
              "373    0.000000\n",
              "374   -0.617088\n",
              "375    0.477437\n",
              "376   -0.970379\n",
              "377   -0.412362\n",
              "378    0.365804\n",
              "379    0.066651\n",
              "380   -1.282386\n",
              "381   -0.327110\n",
              "382   -0.566395\n",
              "383    0.357629\n",
              "384    0.192346\n",
              "385   -0.288822\n",
              "386   -0.585333\n",
              "387   -0.249864\n",
              "388   -0.261757\n",
              "389   -0.934198\n",
              "390   -1.671097\n",
              "391    0.251579\n",
              "392    2.802250\n",
              "393    0.450127\n",
              "394    0.043949\n",
              "395   -0.457388\n",
              "396   -0.686206\n",
              "397    0.559380\n",
              "398    0.063252\n",
              "399   -0.031173\n",
              "400    0.049372\n",
              "401   -1.041504\n",
              "402    0.013123\n",
              "         ...   \n",
              "464   -1.058786\n",
              "465    0.397543\n",
              "466    0.927248\n",
              "467    1.867891\n",
              "468    0.033911\n",
              "469    0.062150\n",
              "470   -1.607634\n",
              "471    0.009018\n",
              "472   -0.904180\n",
              "473    0.675016\n",
              "474    0.024650\n",
              "475    0.235764\n",
              "476   -0.324540\n",
              "477   -0.283663\n",
              "478   -0.548327\n",
              "479   -0.656646\n",
              "480   -0.753624\n",
              "481   -0.708892\n",
              "482    0.320136\n",
              "483   -0.356259\n",
              "484   -0.622718\n",
              "485   -1.564418\n",
              "486   -1.106867\n",
              "487   -0.239966\n",
              "488   -0.015802\n",
              "489   -1.848258\n",
              "490   -1.416099\n",
              "491   -0.327577\n",
              "492    0.237614\n",
              "493   -1.283344\n",
              "Name: Close Price, Length: 121, dtype: float64"
            ]
          },
          "metadata": {
            "tags": []
          },
          "execution_count": 45
        }
      ]
    },
    {
      "cell_type": "code",
      "metadata": {
        "id": "ax4G88K02wy3",
        "colab_type": "code",
        "outputId": "7edc9f80-0477-4812-c3bc-50dfc617cb88",
        "colab": {
          "base_uri": "https://localhost:8080/",
          "height": 1088
        }
      },
      "source": [
        "get_pr_loss_perc(365)"
      ],
      "execution_count": 0,
      "outputs": [
        {
          "output_type": "stream",
          "text": [
            "The profit loss percentage for last 365 days is\n"
          ],
          "name": "stdout"
        },
        {
          "output_type": "execute_result",
          "data": {
            "text/plain": [
              "248    0.000000\n",
              "249   -1.013995\n",
              "250    2.917711\n",
              "251   -0.776879\n",
              "252   -2.057380\n",
              "253   -3.373686\n",
              "254    0.185761\n",
              "255   -1.770640\n",
              "256   -1.901459\n",
              "257    1.366596\n",
              "258    4.858390\n",
              "259   -1.831106\n",
              "260   -1.022182\n",
              "261   -2.491071\n",
              "262   -0.860117\n",
              "263   -2.555940\n",
              "264   -2.403084\n",
              "265    1.770129\n",
              "266    2.374893\n",
              "267    1.883556\n",
              "268    0.258005\n",
              "269    1.394390\n",
              "270   -0.898209\n",
              "271   -0.362056\n",
              "272   -1.883697\n",
              "273   -0.667616\n",
              "274   -1.720784\n",
              "275   -0.511317\n",
              "276    0.135182\n",
              "277    0.618322\n",
              "         ...   \n",
              "464   -1.058786\n",
              "465    0.397543\n",
              "466    0.927248\n",
              "467    1.867891\n",
              "468    0.033911\n",
              "469    0.062150\n",
              "470   -1.607634\n",
              "471    0.009018\n",
              "472   -0.904180\n",
              "473    0.675016\n",
              "474    0.024650\n",
              "475    0.235764\n",
              "476   -0.324540\n",
              "477   -0.283663\n",
              "478   -0.548327\n",
              "479   -0.656646\n",
              "480   -0.753624\n",
              "481   -0.708892\n",
              "482    0.320136\n",
              "483   -0.356259\n",
              "484   -0.622718\n",
              "485   -1.564418\n",
              "486   -1.106867\n",
              "487   -0.239966\n",
              "488   -0.015802\n",
              "489   -1.848258\n",
              "490   -1.416099\n",
              "491   -0.327577\n",
              "492    0.237614\n",
              "493   -1.283344\n",
              "Name: Close Price, Length: 246, dtype: float64"
            ]
          },
          "metadata": {
            "tags": []
          },
          "execution_count": 46
        }
      ]
    },
    {
      "cell_type": "code",
      "metadata": {
        "id": "HlQjy513232h",
        "colab_type": "code",
        "outputId": "e2839280-318a-4b32-f455-b1871aa797cc",
        "colab": {
          "base_uri": "https://localhost:8080/",
          "height": 136
        }
      },
      "source": [
        "days= int(input(\"Enter the number of days\"))\n",
        "get_pr_loss_perc(days)"
      ],
      "execution_count": 0,
      "outputs": [
        {
          "output_type": "stream",
          "text": [
            "Enter the number of days5\n",
            "The profit loss percentage for last 5 days is\n"
          ],
          "name": "stdout"
        },
        {
          "output_type": "execute_result",
          "data": {
            "text/plain": [
              "490    0.000000\n",
              "491   -0.327577\n",
              "492    0.237614\n",
              "493   -1.283344\n",
              "Name: Close Price, dtype: float64"
            ]
          },
          "metadata": {
            "tags": []
          },
          "execution_count": 47
        }
      ]
    },
    {
      "cell_type": "markdown",
      "metadata": {
        "id": "Z9JetA3SCcaA",
        "colab_type": "text"
      },
      "source": [
        "\n",
        "\n",
        "---\n",
        "\n",
        "\n",
        "## Query 1.6 \n",
        "    Add a column 'Day_Perc_Change' where the values are the daily change in percentages i.e. the percentage change between 2 consecutive day's closing prices. Instead of using the basic mathematical formula for computing the same, use 'pct_change()' function provided by Pandas for dataframes. You will note that the first entry of the column will have a ‘Nan’ value. Why does this happen? Either remove the first row, or set the entry to 0 before proceeding."
      ]
    },
    {
      "cell_type": "markdown",
      "metadata": {
        "id": "YnNZYYJ_mIWE",
        "colab_type": "text"
      },
      "source": [
        "**We are using pandas function pct_change( ) to calculate percantage change in closing prices.**"
      ]
    },
    {
      "cell_type": "code",
      "metadata": {
        "id": "E9EXxeWrnlVv",
        "colab_type": "code",
        "outputId": "869d60d5-99e5-44b1-f33b-c1361cffdcb8",
        "colab": {
          "base_uri": "https://localhost:8080/",
          "height": 119
        }
      },
      "source": [
        "#using pct_change on Close Price\n",
        "data_change= data['Close Price'].pct_change()\n",
        "\n",
        "data_change.head()"
      ],
      "execution_count": 0,
      "outputs": [
        {
          "output_type": "execute_result",
          "data": {
            "text/plain": [
              "0         NaN\n",
              "1   -0.005256\n",
              "2    0.010338\n",
              "3   -0.020012\n",
              "4   -0.004786\n",
              "Name: Close Price, dtype: float64"
            ]
          },
          "metadata": {
            "tags": []
          },
          "execution_count": 48
        }
      ]
    },
    {
      "cell_type": "code",
      "metadata": {
        "id": "R8x_ejTponvu",
        "colab_type": "code",
        "outputId": "3ec98faa-c791-464f-d9ad-dabeda9d8cb4",
        "colab": {
          "base_uri": "https://localhost:8080/",
          "height": 119
        }
      },
      "source": [
        "#removing the first row\n",
        "#data_change = data_change[1: 493]\n",
        "data_change.head()\n",
        "\n",
        "#changing NaN to zero\n",
        "data_change= data_change.fillna(0)\n",
        "data_change.head()"
      ],
      "execution_count": 0,
      "outputs": [
        {
          "output_type": "execute_result",
          "data": {
            "text/plain": [
              "0    0.000000\n",
              "1   -0.005256\n",
              "2    0.010338\n",
              "3   -0.020012\n",
              "4   -0.004786\n",
              "Name: Close Price, dtype: float64"
            ]
          },
          "metadata": {
            "tags": []
          },
          "execution_count": 49
        }
      ]
    },
    {
      "cell_type": "code",
      "metadata": {
        "id": "PxgWGXtOrqYy",
        "colab_type": "code",
        "colab": {}
      },
      "source": [
        "#we will multiply that value with 100 to get actucal percantage change and replace null values with 0.\n",
        "data['Day_Perc_Change']= (data['Close Price'].pct_change() * 100).fillna(0)"
      ],
      "execution_count": 0,
      "outputs": []
    },
    {
      "cell_type": "markdown",
      "metadata": {
        "id": "lAH_KzItmuI_",
        "colab_type": "text"
      },
      "source": [
        "**We can see that Day_Perc_Chnage has been sucessfully added to our original data frame.**"
      ]
    },
    {
      "cell_type": "code",
      "metadata": {
        "id": "IbIkvK2rsHGn",
        "colab_type": "code",
        "outputId": "94343b7d-279c-434d-eca8-85d8a5ad0027",
        "colab": {
          "base_uri": "https://localhost:8080/",
          "height": 351
        }
      },
      "source": [
        "data.describe()"
      ],
      "execution_count": 0,
      "outputs": [
        {
          "output_type": "execute_result",
          "data": {
            "text/html": [
              "<div>\n",
              "<style scoped>\n",
              "    .dataframe tbody tr th:only-of-type {\n",
              "        vertical-align: middle;\n",
              "    }\n",
              "\n",
              "    .dataframe tbody tr th {\n",
              "        vertical-align: top;\n",
              "    }\n",
              "\n",
              "    .dataframe thead th {\n",
              "        text-align: right;\n",
              "    }\n",
              "</style>\n",
              "<table border=\"1\" class=\"dataframe\">\n",
              "  <thead>\n",
              "    <tr style=\"text-align: right;\">\n",
              "      <th></th>\n",
              "      <th>Prev Close</th>\n",
              "      <th>Open Price</th>\n",
              "      <th>High Price</th>\n",
              "      <th>Low Price</th>\n",
              "      <th>Last Price</th>\n",
              "      <th>Close Price</th>\n",
              "      <th>Average Price</th>\n",
              "      <th>Total Traded Quantity</th>\n",
              "      <th>Turnover</th>\n",
              "      <th>No. of Trades</th>\n",
              "      <th>Deliverable Qty</th>\n",
              "      <th>% Dly Qt to Traded Qty</th>\n",
              "      <th>month</th>\n",
              "      <th>year</th>\n",
              "      <th>pr_vol</th>\n",
              "      <th>Day_Perc_Change</th>\n",
              "    </tr>\n",
              "  </thead>\n",
              "  <tbody>\n",
              "    <tr>\n",
              "      <th>count</th>\n",
              "      <td>494.000000</td>\n",
              "      <td>494.000000</td>\n",
              "      <td>494.000000</td>\n",
              "      <td>494.000000</td>\n",
              "      <td>494.000000</td>\n",
              "      <td>494.000000</td>\n",
              "      <td>494.000000</td>\n",
              "      <td>494.000000</td>\n",
              "      <td>4.940000e+02</td>\n",
              "      <td>494.000000</td>\n",
              "      <td>494.000000</td>\n",
              "      <td>494.000000</td>\n",
              "      <td>494.000000</td>\n",
              "      <td>494.000000</td>\n",
              "      <td>4.940000e+02</td>\n",
              "      <td>494.000000</td>\n",
              "    </tr>\n",
              "    <tr>\n",
              "      <th>mean</th>\n",
              "      <td>6282.411640</td>\n",
              "      <td>6292.694332</td>\n",
              "      <td>6381.254251</td>\n",
              "      <td>6209.717105</td>\n",
              "      <td>6282.211437</td>\n",
              "      <td>6284.197267</td>\n",
              "      <td>6292.729899</td>\n",
              "      <td>6104.172065</td>\n",
              "      <td>3.936248e+07</td>\n",
              "      <td>1340.325911</td>\n",
              "      <td>3778.125506</td>\n",
              "      <td>63.735931</td>\n",
              "      <td>6.485830</td>\n",
              "      <td>2017.858300</td>\n",
              "      <td>3.936248e+07</td>\n",
              "      <td>0.047080</td>\n",
              "    </tr>\n",
              "    <tr>\n",
              "      <th>std</th>\n",
              "      <td>977.684756</td>\n",
              "      <td>979.732187</td>\n",
              "      <td>995.233583</td>\n",
              "      <td>956.189419</td>\n",
              "      <td>973.272163</td>\n",
              "      <td>975.321352</td>\n",
              "      <td>976.206285</td>\n",
              "      <td>7039.116612</td>\n",
              "      <td>4.608108e+07</td>\n",
              "      <td>1213.791291</td>\n",
              "      <td>4777.258890</td>\n",
              "      <td>12.650891</td>\n",
              "      <td>3.455131</td>\n",
              "      <td>0.694927</td>\n",
              "      <td>4.608108e+07</td>\n",
              "      <td>1.682300</td>\n",
              "    </tr>\n",
              "    <tr>\n",
              "      <th>min</th>\n",
              "      <td>4360.350000</td>\n",
              "      <td>4336.550000</td>\n",
              "      <td>4416.000000</td>\n",
              "      <td>4316.500000</td>\n",
              "      <td>4355.000000</td>\n",
              "      <td>4360.350000</td>\n",
              "      <td>4390.880000</td>\n",
              "      <td>566.000000</td>\n",
              "      <td>3.239942e+06</td>\n",
              "      <td>218.000000</td>\n",
              "      <td>384.000000</td>\n",
              "      <td>27.610000</td>\n",
              "      <td>1.000000</td>\n",
              "      <td>2017.000000</td>\n",
              "      <td>3.239942e+06</td>\n",
              "      <td>-5.872291</td>\n",
              "    </tr>\n",
              "    <tr>\n",
              "      <th>25%</th>\n",
              "      <td>5714.962500</td>\n",
              "      <td>5724.212500</td>\n",
              "      <td>5789.000000</td>\n",
              "      <td>5672.062500</td>\n",
              "      <td>5717.137500</td>\n",
              "      <td>5714.962500</td>\n",
              "      <td>5722.772500</td>\n",
              "      <td>2201.000000</td>\n",
              "      <td>1.314080e+07</td>\n",
              "      <td>591.250000</td>\n",
              "      <td>1480.750000</td>\n",
              "      <td>55.610000</td>\n",
              "      <td>4.000000</td>\n",
              "      <td>2017.000000</td>\n",
              "      <td>1.314080e+07</td>\n",
              "      <td>-0.813051</td>\n",
              "    </tr>\n",
              "    <tr>\n",
              "      <th>50%</th>\n",
              "      <td>5948.675000</td>\n",
              "      <td>5967.650000</td>\n",
              "      <td>6050.000000</td>\n",
              "      <td>5875.000000</td>\n",
              "      <td>5946.000000</td>\n",
              "      <td>5948.675000</td>\n",
              "      <td>5950.125000</td>\n",
              "      <td>3954.000000</td>\n",
              "      <td>2.464435e+07</td>\n",
              "      <td>976.500000</td>\n",
              "      <td>2463.500000</td>\n",
              "      <td>64.075000</td>\n",
              "      <td>6.500000</td>\n",
              "      <td>2018.000000</td>\n",
              "      <td>2.464435e+07</td>\n",
              "      <td>-0.128510</td>\n",
              "    </tr>\n",
              "    <tr>\n",
              "      <th>75%</th>\n",
              "      <td>6774.900000</td>\n",
              "      <td>6745.275000</td>\n",
              "      <td>6893.000000</td>\n",
              "      <td>6607.825000</td>\n",
              "      <td>6785.750000</td>\n",
              "      <td>6774.900000</td>\n",
              "      <td>6749.005000</td>\n",
              "      <td>6892.750000</td>\n",
              "      <td>4.496040e+07</td>\n",
              "      <td>1645.000000</td>\n",
              "      <td>4223.750000</td>\n",
              "      <td>71.877500</td>\n",
              "      <td>9.000000</td>\n",
              "      <td>2018.000000</td>\n",
              "      <td>4.496041e+07</td>\n",
              "      <td>0.583554</td>\n",
              "    </tr>\n",
              "    <tr>\n",
              "      <th>max</th>\n",
              "      <td>9249.900000</td>\n",
              "      <td>9300.000000</td>\n",
              "      <td>9383.550000</td>\n",
              "      <td>9106.000000</td>\n",
              "      <td>9236.000000</td>\n",
              "      <td>9249.900000</td>\n",
              "      <td>9282.660000</td>\n",
              "      <td>62697.000000</td>\n",
              "      <td>3.794485e+08</td>\n",
              "      <td>12808.000000</td>\n",
              "      <td>56218.000000</td>\n",
              "      <td>97.880000</td>\n",
              "      <td>12.000000</td>\n",
              "      <td>2019.000000</td>\n",
              "      <td>3.794483e+08</td>\n",
              "      <td>9.346517</td>\n",
              "    </tr>\n",
              "  </tbody>\n",
              "</table>\n",
              "</div>"
            ],
            "text/plain": [
              "        Prev Close   Open Price  ...        pr_vol  Day_Perc_Change\n",
              "count   494.000000   494.000000  ...  4.940000e+02       494.000000\n",
              "mean   6282.411640  6292.694332  ...  3.936248e+07         0.047080\n",
              "std     977.684756   979.732187  ...  4.608108e+07         1.682300\n",
              "min    4360.350000  4336.550000  ...  3.239942e+06        -5.872291\n",
              "25%    5714.962500  5724.212500  ...  1.314080e+07        -0.813051\n",
              "50%    5948.675000  5967.650000  ...  2.464435e+07        -0.128510\n",
              "75%    6774.900000  6745.275000  ...  4.496041e+07         0.583554\n",
              "max    9249.900000  9300.000000  ...  3.794483e+08         9.346517\n",
              "\n",
              "[8 rows x 16 columns]"
            ]
          },
          "metadata": {
            "tags": []
          },
          "execution_count": 51
        }
      ]
    },
    {
      "cell_type": "markdown",
      "metadata": {
        "id": "yRupHwWWCoBQ",
        "colab_type": "text"
      },
      "source": [
        "## Query 1.7 \n",
        "      Add another column 'Trend' whose values are:\n",
        "    \n",
        "    'Slight or No change' for 'Day_Perc_Change' in between -0.5 and 0.5\n",
        "  \n",
        "    'Slight positive' for 'Day_Perc_Change' in between 0.5 and 1\n",
        "  \n",
        "    'Slight negative' for 'Day_Perc_Change' in between -0.5 and -1\n",
        "  \n",
        "    'Positive' for 'Day_Perc_Change' in between 1 and 3\n",
        "  \n",
        "    'Negative' for 'Day_Perc_Change' in between -1 and -3\n",
        "  \n",
        "    'Among top gainers' for 'Day_Perc_Change' in between 3 and 7\n",
        "  \n",
        "    'Among top losers' for 'Day_Perc_Change' in between -3 and -7\n",
        "  \n",
        "    'Bull run' for 'Day_Perc_Change' >7\n",
        "  \n",
        "    'Bear drop' for 'Day_Perc_Change' <-7"
      ]
    },
    {
      "cell_type": "code",
      "metadata": {
        "id": "qDSz-qDRy1mh",
        "colab_type": "code",
        "outputId": "f3a1db51-4187-45b4-e65c-91c20dd3a7f0",
        "colab": {
          "base_uri": "https://localhost:8080/",
          "height": 629
        }
      },
      "source": [
        "#we can use conditional statement for each of different trend\n",
        "\n",
        "data['trend']= 'Trend Value'\n",
        "for i in range(0, 494):\n",
        "  if (data['Day_Perc_Change'][i]<0.5 and data['Day_Perc_Change'][i] > -0.5):\n",
        "    data['trend'][i]= 'Slight or No Change'\n",
        "    \n",
        "  elif (data['Day_Perc_Change'][i]< 1 and data['Day_Perc_Change'][i] > 0.5):\n",
        "    data['trend'][i]= 'Slight Positive'\n",
        "    \n",
        "  elif (data['Day_Perc_Change'][i]< -0.5 and data['Day_Perc_Change'][i] > -1):\n",
        "    data['trend'][i]= 'Slight Negative'\n",
        "  \n",
        "  elif (data['Day_Perc_Change'][i]< 3 and data['Day_Perc_Change'][i] > 1):\n",
        "    data['trend'][i]= 'Positive'\n",
        "  \n",
        "  elif (data['Day_Perc_Change'][i]< -1 and data['Day_Perc_Change'][i] > -3):\n",
        "    data['trend'][i]= 'Negative'\n",
        "  \n",
        "  elif (data['Day_Perc_Change'][i]< 7 and data['Day_Perc_Change'][i] > 3):\n",
        "    data['trend'][i]= 'Among Top Gainers'\n",
        "    \n",
        "  elif (data['Day_Perc_Change'][i]< -3 and data['Day_Perc_Change'][i] > -7):\n",
        "    data['trend'][i]= 'Among Top Losers'\n",
        "  \n",
        "  elif (data['Day_Perc_Change'][i] > 7):\n",
        "    data['trend'][i]= 'Bull run'\n",
        "  \n",
        "  elif (data['Day_Perc_Change'][i]< -7):\n",
        "    data['trend'][i]= 'Bear Run'\n"
      ],
      "execution_count": 0,
      "outputs": [
        {
          "output_type": "stream",
          "text": [
            "/usr/local/lib/python3.6/dist-packages/ipykernel_launcher.py:5: SettingWithCopyWarning: \n",
            "A value is trying to be set on a copy of a slice from a DataFrame\n",
            "\n",
            "See the caveats in the documentation: http://pandas.pydata.org/pandas-docs/stable/indexing.html#indexing-view-versus-copy\n",
            "  \"\"\"\n",
            "/usr/local/lib/python3.6/dist-packages/ipykernel_launcher.py:11: SettingWithCopyWarning: \n",
            "A value is trying to be set on a copy of a slice from a DataFrame\n",
            "\n",
            "See the caveats in the documentation: http://pandas.pydata.org/pandas-docs/stable/indexing.html#indexing-view-versus-copy\n",
            "  # This is added back by InteractiveShellApp.init_path()\n",
            "/usr/local/lib/python3.6/dist-packages/ipykernel_launcher.py:14: SettingWithCopyWarning: \n",
            "A value is trying to be set on a copy of a slice from a DataFrame\n",
            "\n",
            "See the caveats in the documentation: http://pandas.pydata.org/pandas-docs/stable/indexing.html#indexing-view-versus-copy\n",
            "  \n",
            "/usr/local/lib/python3.6/dist-packages/ipykernel_launcher.py:17: SettingWithCopyWarning: \n",
            "A value is trying to be set on a copy of a slice from a DataFrame\n",
            "\n",
            "See the caveats in the documentation: http://pandas.pydata.org/pandas-docs/stable/indexing.html#indexing-view-versus-copy\n",
            "/usr/local/lib/python3.6/dist-packages/ipykernel_launcher.py:20: SettingWithCopyWarning: \n",
            "A value is trying to be set on a copy of a slice from a DataFrame\n",
            "\n",
            "See the caveats in the documentation: http://pandas.pydata.org/pandas-docs/stable/indexing.html#indexing-view-versus-copy\n",
            "/usr/local/lib/python3.6/dist-packages/ipykernel_launcher.py:8: SettingWithCopyWarning: \n",
            "A value is trying to be set on a copy of a slice from a DataFrame\n",
            "\n",
            "See the caveats in the documentation: http://pandas.pydata.org/pandas-docs/stable/indexing.html#indexing-view-versus-copy\n",
            "  \n",
            "/usr/local/lib/python3.6/dist-packages/ipykernel_launcher.py:26: SettingWithCopyWarning: \n",
            "A value is trying to be set on a copy of a slice from a DataFrame\n",
            "\n",
            "See the caveats in the documentation: http://pandas.pydata.org/pandas-docs/stable/indexing.html#indexing-view-versus-copy\n",
            "/usr/local/lib/python3.6/dist-packages/ipykernel_launcher.py:23: SettingWithCopyWarning: \n",
            "A value is trying to be set on a copy of a slice from a DataFrame\n",
            "\n",
            "See the caveats in the documentation: http://pandas.pydata.org/pandas-docs/stable/indexing.html#indexing-view-versus-copy\n"
          ],
          "name": "stderr"
        }
      ]
    },
    {
      "cell_type": "code",
      "metadata": {
        "id": "Rgl5I2_T2QKP",
        "colab_type": "code",
        "outputId": "58c0f846-99de-411b-c03f-459e8d6e5aee",
        "colab": {
          "base_uri": "https://localhost:8080/",
          "height": 394
        }
      },
      "source": [
        "data.head()"
      ],
      "execution_count": 0,
      "outputs": [
        {
          "output_type": "execute_result",
          "data": {
            "text/html": [
              "<div>\n",
              "<style scoped>\n",
              "    .dataframe tbody tr th:only-of-type {\n",
              "        vertical-align: middle;\n",
              "    }\n",
              "\n",
              "    .dataframe tbody tr th {\n",
              "        vertical-align: top;\n",
              "    }\n",
              "\n",
              "    .dataframe thead th {\n",
              "        text-align: right;\n",
              "    }\n",
              "</style>\n",
              "<table border=\"1\" class=\"dataframe\">\n",
              "  <thead>\n",
              "    <tr style=\"text-align: right;\">\n",
              "      <th></th>\n",
              "      <th>Symbol</th>\n",
              "      <th>Series</th>\n",
              "      <th>Date</th>\n",
              "      <th>Prev Close</th>\n",
              "      <th>Open Price</th>\n",
              "      <th>High Price</th>\n",
              "      <th>Low Price</th>\n",
              "      <th>Last Price</th>\n",
              "      <th>Close Price</th>\n",
              "      <th>Average Price</th>\n",
              "      <th>Total Traded Quantity</th>\n",
              "      <th>Turnover</th>\n",
              "      <th>No. of Trades</th>\n",
              "      <th>Deliverable Qty</th>\n",
              "      <th>% Dly Qt to Traded Qty</th>\n",
              "      <th>month</th>\n",
              "      <th>year</th>\n",
              "      <th>pr_vol</th>\n",
              "      <th>Day_Perc_Change</th>\n",
              "      <th>trend</th>\n",
              "    </tr>\n",
              "  </thead>\n",
              "  <tbody>\n",
              "    <tr>\n",
              "      <th>0</th>\n",
              "      <td>LAXMIMACH</td>\n",
              "      <td>EQ</td>\n",
              "      <td>2017-05-15</td>\n",
              "      <td>4552.40</td>\n",
              "      <td>4619.95</td>\n",
              "      <td>4670.0</td>\n",
              "      <td>4550.05</td>\n",
              "      <td>4606.0</td>\n",
              "      <td>4614.05</td>\n",
              "      <td>4629.76</td>\n",
              "      <td>4275</td>\n",
              "      <td>19792243.95</td>\n",
              "      <td>1097</td>\n",
              "      <td>2447</td>\n",
              "      <td>57.24</td>\n",
              "      <td>5</td>\n",
              "      <td>2017</td>\n",
              "      <td>19792224.00</td>\n",
              "      <td>0.000000</td>\n",
              "      <td>Slight or No Change</td>\n",
              "    </tr>\n",
              "    <tr>\n",
              "      <th>1</th>\n",
              "      <td>LAXMIMACH</td>\n",
              "      <td>EQ</td>\n",
              "      <td>2017-05-16</td>\n",
              "      <td>4614.05</td>\n",
              "      <td>4566.05</td>\n",
              "      <td>4650.0</td>\n",
              "      <td>4564.10</td>\n",
              "      <td>4582.0</td>\n",
              "      <td>4589.80</td>\n",
              "      <td>4612.18</td>\n",
              "      <td>4467</td>\n",
              "      <td>20602592.70</td>\n",
              "      <td>805</td>\n",
              "      <td>2961</td>\n",
              "      <td>66.29</td>\n",
              "      <td>5</td>\n",
              "      <td>2017</td>\n",
              "      <td>20602608.06</td>\n",
              "      <td>-0.525569</td>\n",
              "      <td>Slight Negative</td>\n",
              "    </tr>\n",
              "    <tr>\n",
              "      <th>2</th>\n",
              "      <td>LAXMIMACH</td>\n",
              "      <td>EQ</td>\n",
              "      <td>2017-05-17</td>\n",
              "      <td>4589.80</td>\n",
              "      <td>4500.00</td>\n",
              "      <td>4675.2</td>\n",
              "      <td>4500.00</td>\n",
              "      <td>4610.0</td>\n",
              "      <td>4637.25</td>\n",
              "      <td>4608.88</td>\n",
              "      <td>6320</td>\n",
              "      <td>29128119.85</td>\n",
              "      <td>1035</td>\n",
              "      <td>2876</td>\n",
              "      <td>45.51</td>\n",
              "      <td>5</td>\n",
              "      <td>2017</td>\n",
              "      <td>29128121.60</td>\n",
              "      <td>1.033814</td>\n",
              "      <td>Positive</td>\n",
              "    </tr>\n",
              "    <tr>\n",
              "      <th>3</th>\n",
              "      <td>LAXMIMACH</td>\n",
              "      <td>EQ</td>\n",
              "      <td>2017-05-18</td>\n",
              "      <td>4637.25</td>\n",
              "      <td>4599.95</td>\n",
              "      <td>4624.8</td>\n",
              "      <td>4515.10</td>\n",
              "      <td>4515.1</td>\n",
              "      <td>4544.45</td>\n",
              "      <td>4567.74</td>\n",
              "      <td>4500</td>\n",
              "      <td>20554835.90</td>\n",
              "      <td>831</td>\n",
              "      <td>2776</td>\n",
              "      <td>61.69</td>\n",
              "      <td>5</td>\n",
              "      <td>2017</td>\n",
              "      <td>20554830.00</td>\n",
              "      <td>-2.001186</td>\n",
              "      <td>Negative</td>\n",
              "    </tr>\n",
              "    <tr>\n",
              "      <th>4</th>\n",
              "      <td>LAXMIMACH</td>\n",
              "      <td>EQ</td>\n",
              "      <td>2017-05-19</td>\n",
              "      <td>4544.45</td>\n",
              "      <td>4586.90</td>\n",
              "      <td>4648.0</td>\n",
              "      <td>4490.00</td>\n",
              "      <td>4521.0</td>\n",
              "      <td>4522.70</td>\n",
              "      <td>4556.21</td>\n",
              "      <td>4190</td>\n",
              "      <td>19090528.50</td>\n",
              "      <td>990</td>\n",
              "      <td>1944</td>\n",
              "      <td>46.40</td>\n",
              "      <td>5</td>\n",
              "      <td>2017</td>\n",
              "      <td>19090519.90</td>\n",
              "      <td>-0.478606</td>\n",
              "      <td>Slight or No Change</td>\n",
              "    </tr>\n",
              "  </tbody>\n",
              "</table>\n",
              "</div>"
            ],
            "text/plain": [
              "      Symbol Series  ... Day_Perc_Change                trend\n",
              "0  LAXMIMACH     EQ  ...        0.000000  Slight or No Change\n",
              "1  LAXMIMACH     EQ  ...       -0.525569      Slight Negative\n",
              "2  LAXMIMACH     EQ  ...        1.033814             Positive\n",
              "3  LAXMIMACH     EQ  ...       -2.001186             Negative\n",
              "4  LAXMIMACH     EQ  ...       -0.478606  Slight or No Change\n",
              "\n",
              "[5 rows x 20 columns]"
            ]
          },
          "metadata": {
            "tags": []
          },
          "execution_count": 53
        }
      ]
    },
    {
      "cell_type": "code",
      "metadata": {
        "id": "d5BwHCpP4vvu",
        "colab_type": "code",
        "outputId": "ba67eb94-36d0-4184-ba05-589dd98e13f4",
        "colab": {
          "base_uri": "https://localhost:8080/",
          "height": 68
        }
      },
      "source": [
        "data['trend'].unique()"
      ],
      "execution_count": 0,
      "outputs": [
        {
          "output_type": "execute_result",
          "data": {
            "text/plain": [
              "array(['Slight or No Change', 'Slight Negative', 'Positive', 'Negative',\n",
              "       'Among Top Gainers', 'Slight Positive', 'Bull run',\n",
              "       'Among Top Losers'], dtype=object)"
            ]
          },
          "metadata": {
            "tags": []
          },
          "execution_count": 54
        }
      ]
    },
    {
      "cell_type": "markdown",
      "metadata": {
        "id": "oYN4gN5cDH-l",
        "colab_type": "text"
      },
      "source": [
        "## Query 1.8 \n",
        "    Find the average and median values of the column 'Total Traded Quantity' for each of the types of 'Trend'.\n",
        "    {Hint : use 'groupby()' on the 'Trend' column and then calculate the average and median values of the column 'Total Traded Quantity'}"
      ]
    },
    {
      "cell_type": "markdown",
      "metadata": {
        "id": "wihy6W0snEY3",
        "colab_type": "text"
      },
      "source": [
        "**We will group our data by trend and then we will get the statistical insights from our data.**"
      ]
    },
    {
      "cell_type": "code",
      "metadata": {
        "id": "yLGUHszj5k4F",
        "colab_type": "code",
        "colab": {}
      },
      "source": [
        "#new dataframe\n",
        "group_by_trend= data.groupby([(data['trend'])])"
      ],
      "execution_count": 0,
      "outputs": []
    },
    {
      "cell_type": "code",
      "metadata": {
        "id": "GeuvJvexmWOC",
        "colab_type": "code",
        "outputId": "9992c84a-16a1-499c-d8bf-47a7e8c6fc69",
        "colab": {
          "base_uri": "https://localhost:8080/",
          "height": 328
        }
      },
      "source": [
        "group_by_trend['Total Traded Quantity'].describe()"
      ],
      "execution_count": 0,
      "outputs": [
        {
          "output_type": "execute_result",
          "data": {
            "text/html": [
              "<div>\n",
              "<style scoped>\n",
              "    .dataframe tbody tr th:only-of-type {\n",
              "        vertical-align: middle;\n",
              "    }\n",
              "\n",
              "    .dataframe tbody tr th {\n",
              "        vertical-align: top;\n",
              "    }\n",
              "\n",
              "    .dataframe thead th {\n",
              "        text-align: right;\n",
              "    }\n",
              "</style>\n",
              "<table border=\"1\" class=\"dataframe\">\n",
              "  <thead>\n",
              "    <tr style=\"text-align: right;\">\n",
              "      <th></th>\n",
              "      <th>count</th>\n",
              "      <th>mean</th>\n",
              "      <th>std</th>\n",
              "      <th>min</th>\n",
              "      <th>25%</th>\n",
              "      <th>50%</th>\n",
              "      <th>75%</th>\n",
              "      <th>max</th>\n",
              "    </tr>\n",
              "    <tr>\n",
              "      <th>trend</th>\n",
              "      <th></th>\n",
              "      <th></th>\n",
              "      <th></th>\n",
              "      <th></th>\n",
              "      <th></th>\n",
              "      <th></th>\n",
              "      <th></th>\n",
              "      <th></th>\n",
              "    </tr>\n",
              "  </thead>\n",
              "  <tbody>\n",
              "    <tr>\n",
              "      <th>Among Top Gainers</th>\n",
              "      <td>22.0</td>\n",
              "      <td>20246.227273</td>\n",
              "      <td>13978.635045</td>\n",
              "      <td>5268.0</td>\n",
              "      <td>9037.50</td>\n",
              "      <td>18644.0</td>\n",
              "      <td>24138.25</td>\n",
              "      <td>62697.0</td>\n",
              "    </tr>\n",
              "    <tr>\n",
              "      <th>Among Top Losers</th>\n",
              "      <td>11.0</td>\n",
              "      <td>8520.272727</td>\n",
              "      <td>3205.946072</td>\n",
              "      <td>3831.0</td>\n",
              "      <td>6499.50</td>\n",
              "      <td>8205.0</td>\n",
              "      <td>9931.00</td>\n",
              "      <td>14800.0</td>\n",
              "    </tr>\n",
              "    <tr>\n",
              "      <th>Bull run</th>\n",
              "      <td>2.0</td>\n",
              "      <td>44747.000000</td>\n",
              "      <td>20463.670248</td>\n",
              "      <td>30277.0</td>\n",
              "      <td>37512.00</td>\n",
              "      <td>44747.0</td>\n",
              "      <td>51982.00</td>\n",
              "      <td>59217.0</td>\n",
              "    </tr>\n",
              "    <tr>\n",
              "      <th>Negative</th>\n",
              "      <td>91.0</td>\n",
              "      <td>5418.098901</td>\n",
              "      <td>3809.170834</td>\n",
              "      <td>1112.0</td>\n",
              "      <td>3234.50</td>\n",
              "      <td>4618.0</td>\n",
              "      <td>6673.00</td>\n",
              "      <td>24252.0</td>\n",
              "    </tr>\n",
              "    <tr>\n",
              "      <th>Positive</th>\n",
              "      <td>66.0</td>\n",
              "      <td>8669.848485</td>\n",
              "      <td>7569.942559</td>\n",
              "      <td>804.0</td>\n",
              "      <td>3493.75</td>\n",
              "      <td>6431.0</td>\n",
              "      <td>10764.25</td>\n",
              "      <td>46230.0</td>\n",
              "    </tr>\n",
              "    <tr>\n",
              "      <th>Slight Negative</th>\n",
              "      <td>71.0</td>\n",
              "      <td>3732.802817</td>\n",
              "      <td>2302.619556</td>\n",
              "      <td>760.0</td>\n",
              "      <td>2180.50</td>\n",
              "      <td>3208.0</td>\n",
              "      <td>4439.50</td>\n",
              "      <td>13114.0</td>\n",
              "    </tr>\n",
              "    <tr>\n",
              "      <th>Slight Positive</th>\n",
              "      <td>42.0</td>\n",
              "      <td>6212.023810</td>\n",
              "      <td>6550.136686</td>\n",
              "      <td>985.0</td>\n",
              "      <td>2138.00</td>\n",
              "      <td>4109.5</td>\n",
              "      <td>6870.25</td>\n",
              "      <td>29664.0</td>\n",
              "    </tr>\n",
              "    <tr>\n",
              "      <th>Slight or No Change</th>\n",
              "      <td>189.0</td>\n",
              "      <td>4209.714286</td>\n",
              "      <td>4397.672229</td>\n",
              "      <td>566.0</td>\n",
              "      <td>1678.00</td>\n",
              "      <td>2864.0</td>\n",
              "      <td>4948.00</td>\n",
              "      <td>31202.0</td>\n",
              "    </tr>\n",
              "  </tbody>\n",
              "</table>\n",
              "</div>"
            ],
            "text/plain": [
              "                     count          mean  ...       75%      max\n",
              "trend                                     ...                   \n",
              "Among Top Gainers     22.0  20246.227273  ...  24138.25  62697.0\n",
              "Among Top Losers      11.0   8520.272727  ...   9931.00  14800.0\n",
              "Bull run               2.0  44747.000000  ...  51982.00  59217.0\n",
              "Negative              91.0   5418.098901  ...   6673.00  24252.0\n",
              "Positive              66.0   8669.848485  ...  10764.25  46230.0\n",
              "Slight Negative       71.0   3732.802817  ...   4439.50  13114.0\n",
              "Slight Positive       42.0   6212.023810  ...   6870.25  29664.0\n",
              "Slight or No Change  189.0   4209.714286  ...   4948.00  31202.0\n",
              "\n",
              "[8 rows x 8 columns]"
            ]
          },
          "metadata": {
            "tags": []
          },
          "execution_count": 56
        }
      ]
    },
    {
      "cell_type": "code",
      "metadata": {
        "id": "2XB6dQGW6Epj",
        "colab_type": "code",
        "outputId": "80179f05-a04b-4702-a4ad-2444d7139d22",
        "colab": {
          "base_uri": "https://localhost:8080/",
          "height": 425
        }
      },
      "source": [
        "print(\"The value of average of Total Traded Quantity of each Trend \\n{}\\n\\n\".format(group_by_trend['Total Traded Quantity'].mean()))\n",
        "print(\"The value of median of Total Traded Quantity of each Trend \\n{}\".format(group_by_trend['Total Traded Quantity'].median()))"
      ],
      "execution_count": 0,
      "outputs": [
        {
          "output_type": "stream",
          "text": [
            "The value of average of Total Traded Quantity of each Trend \n",
            "trend\n",
            "Among Top Gainers      20246.227273\n",
            "Among Top Losers        8520.272727\n",
            "Bull run               44747.000000\n",
            "Negative                5418.098901\n",
            "Positive                8669.848485\n",
            "Slight Negative         3732.802817\n",
            "Slight Positive         6212.023810\n",
            "Slight or No Change     4209.714286\n",
            "Name: Total Traded Quantity, dtype: float64\n",
            "\n",
            "\n",
            "The value of median of Total Traded Quantity of each Trend \n",
            "trend\n",
            "Among Top Gainers      18644.0\n",
            "Among Top Losers        8205.0\n",
            "Bull run               44747.0\n",
            "Negative                4618.0\n",
            "Positive                6431.0\n",
            "Slight Negative         3208.0\n",
            "Slight Positive         4109.5\n",
            "Slight or No Change     2864.0\n",
            "Name: Total Traded Quantity, dtype: float64\n"
          ],
          "name": "stdout"
        }
      ]
    },
    {
      "cell_type": "markdown",
      "metadata": {
        "id": "iEiBo-pvDQOd",
        "colab_type": "text"
      },
      "source": [
        "## Query 1.9 \n",
        "    SAVE the dataframe with the additional columns computed as a csv file week2.csv. In Module 2, you are going to get familiar with matplotlib, the python module which is used to visualize data."
      ]
    },
    {
      "cell_type": "code",
      "metadata": {
        "id": "QYRFbCL87Swb",
        "colab_type": "code",
        "colab": {}
      },
      "source": [
        "#using pandas to save our updated dataframe.\n",
        "week_2_csv= data.to_csv('week2.csv')"
      ],
      "execution_count": 0,
      "outputs": []
    },
    {
      "cell_type": "code",
      "metadata": {
        "id": "0AQcAaJZ771v",
        "colab_type": "code",
        "colab": {}
      },
      "source": [
        "from google.colab import files\n",
        "files.download(\"week2.csv\")"
      ],
      "execution_count": 0,
      "outputs": []
    }
  ]
}