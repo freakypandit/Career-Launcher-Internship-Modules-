{
  "nbformat": 4,
  "nbformat_minor": 0,
  "metadata": {
    "colab": {
      "name": "Module 3 -Regression -Beta Calculation.ipynb",
      "provenance": [],
      "collapsed_sections": []
    },
    "kernelspec": {
      "name": "python3",
      "display_name": "Python 3"
    }
  },
  "cells": [
    {
      "cell_type": "markdown",
      "metadata": {
        "id": "kmNCXHJeRPRV",
        "colab_type": "text"
      },
      "source": [
        "##Module 3 -\n",
        "\n",
        "### Solution notebook for module 3"
      ]
    },
    {
      "cell_type": "code",
      "metadata": {
        "id": "T78FlghhALBi",
        "colab_type": "code",
        "outputId": "132e2172-d922-46a5-8e62-fb1cbd665930",
        "colab": {
          "base_uri": "https://localhost:8080/",
          "height": 34
        }
      },
      "source": [
        "# Run this cell to mount your Google Drive.\n",
        "from google.colab import drive\n",
        "drive.mount('/content/drive')"
      ],
      "execution_count": 0,
      "outputs": [
        {
          "output_type": "stream",
          "text": [
            "Drive already mounted at /content/drive; to attempt to forcibly remount, call drive.mount(\"/content/drive\", force_remount=True).\n"
          ],
          "name": "stdout"
        }
      ]
    },
    {
      "cell_type": "markdown",
      "metadata": {
        "id": "NePU-47JRBHs",
        "colab_type": "text"
      },
      "source": [
        "\n",
        "\n",
        "---\n",
        "\n",
        "\n",
        "##Query 3.1 \n",
        "\n",
        "    Import the file 'gold.csv' (you will find this in the intro section to download or in '/Data/gold.csv' if you are using the jupyter notebook), which contains the data of the last 2 years price action of Indian (MCX) gold standard. Explore the dataframe. You'd see 2 unique columns - 'Pred' and 'new'. One of the 2 columns is a linear combination of the OHLC prices with varying coefficients while the other is a polynomial function of the same inputs. Also, one of the 2 columns is partially filled.\n",
        "    \n",
        "    -- Using linear regression, find the coefficients of the inputs and using the same trained model, complete the entire column.\n",
        "    \n",
        "    -- Also, try to fit the other column as well using a new linear regression model. Check if the predictions are accurate. Mention which column is a linear function and which is polynomial.\n",
        "    (Hint: Plotting a histogram & distplot helps in recognizing the discrepencies in prediction, if any.)"
      ]
    },
    {
      "cell_type": "code",
      "metadata": {
        "id": "a0-iMNpd6i6E",
        "colab_type": "code",
        "colab": {}
      },
      "source": [
        "import pandas as pd\n",
        "gold= pd.read_csv('GOLD.csv')"
      ],
      "execution_count": 0,
      "outputs": []
    },
    {
      "cell_type": "code",
      "metadata": {
        "id": "xMV3pFE_BOyp",
        "colab_type": "code",
        "outputId": "78a7c584-ccb2-43ad-ebc1-c5bed62e0758",
        "colab": {
          "base_uri": "https://localhost:8080/",
          "height": 204
        }
      },
      "source": [
        "gold.head()"
      ],
      "execution_count": 0,
      "outputs": [
        {
          "output_type": "execute_result",
          "data": {
            "text/html": [
              "<div>\n",
              "<style scoped>\n",
              "    .dataframe tbody tr th:only-of-type {\n",
              "        vertical-align: middle;\n",
              "    }\n",
              "\n",
              "    .dataframe tbody tr th {\n",
              "        vertical-align: top;\n",
              "    }\n",
              "\n",
              "    .dataframe thead th {\n",
              "        text-align: right;\n",
              "    }\n",
              "</style>\n",
              "<table border=\"1\" class=\"dataframe\">\n",
              "  <thead>\n",
              "    <tr style=\"text-align: right;\">\n",
              "      <th></th>\n",
              "      <th>Date</th>\n",
              "      <th>Price</th>\n",
              "      <th>Open</th>\n",
              "      <th>High</th>\n",
              "      <th>Low</th>\n",
              "      <th>Vol.</th>\n",
              "      <th>Change %</th>\n",
              "      <th>Pred</th>\n",
              "      <th>new</th>\n",
              "    </tr>\n",
              "  </thead>\n",
              "  <tbody>\n",
              "    <tr>\n",
              "      <th>0</th>\n",
              "      <td>May 04, 2017</td>\n",
              "      <td>28060</td>\n",
              "      <td>28400</td>\n",
              "      <td>28482</td>\n",
              "      <td>28025</td>\n",
              "      <td>0.08K</td>\n",
              "      <td>-1.79%</td>\n",
              "      <td>738.0</td>\n",
              "      <td>117.570740</td>\n",
              "    </tr>\n",
              "    <tr>\n",
              "      <th>1</th>\n",
              "      <td>May 05, 2017</td>\n",
              "      <td>28184</td>\n",
              "      <td>28136</td>\n",
              "      <td>28382</td>\n",
              "      <td>28135</td>\n",
              "      <td>0.06K</td>\n",
              "      <td>0.44%</td>\n",
              "      <td>-146.0</td>\n",
              "      <td>295.430176</td>\n",
              "    </tr>\n",
              "    <tr>\n",
              "      <th>2</th>\n",
              "      <td>May 08, 2017</td>\n",
              "      <td>28119</td>\n",
              "      <td>28145</td>\n",
              "      <td>28255</td>\n",
              "      <td>28097</td>\n",
              "      <td>7.85K</td>\n",
              "      <td>-0.23%</td>\n",
              "      <td>30.0</td>\n",
              "      <td>132.123714</td>\n",
              "    </tr>\n",
              "    <tr>\n",
              "      <th>3</th>\n",
              "      <td>May 09, 2017</td>\n",
              "      <td>27981</td>\n",
              "      <td>28125</td>\n",
              "      <td>28192</td>\n",
              "      <td>27947</td>\n",
              "      <td>10.10K</td>\n",
              "      <td>-0.49%</td>\n",
              "      <td>357.0</td>\n",
              "      <td>101.298064</td>\n",
              "    </tr>\n",
              "    <tr>\n",
              "      <th>4</th>\n",
              "      <td>May 10, 2017</td>\n",
              "      <td>28007</td>\n",
              "      <td>28060</td>\n",
              "      <td>28146</td>\n",
              "      <td>27981</td>\n",
              "      <td>9.28K</td>\n",
              "      <td>0.09%</td>\n",
              "      <td>124.0</td>\n",
              "      <td>112.153318</td>\n",
              "    </tr>\n",
              "  </tbody>\n",
              "</table>\n",
              "</div>"
            ],
            "text/plain": [
              "           Date  Price   Open   High    Low    Vol. Change %   Pred         new\n",
              "0  May 04, 2017  28060  28400  28482  28025   0.08K   -1.79%  738.0  117.570740\n",
              "1  May 05, 2017  28184  28136  28382  28135   0.06K    0.44% -146.0  295.430176\n",
              "2  May 08, 2017  28119  28145  28255  28097   7.85K   -0.23%   30.0  132.123714\n",
              "3  May 09, 2017  27981  28125  28192  27947  10.10K   -0.49%  357.0  101.298064\n",
              "4  May 10, 2017  28007  28060  28146  27981   9.28K    0.09%  124.0  112.153318"
            ]
          },
          "metadata": {
            "tags": []
          },
          "execution_count": 53
        }
      ]
    },
    {
      "cell_type": "markdown",
      "metadata": {
        "id": "8ZS_PXfxSXiU",
        "colab_type": "text"
      },
      "source": [
        "**we can see the columns gold[''Pred] and gold['new'] in the dataframe above.**\n",
        "\n",
        "**To find out which one is partially filled we can use pandas info( ) function.**"
      ]
    },
    {
      "cell_type": "code",
      "metadata": {
        "id": "tyKNPX8hSuip",
        "colab_type": "code",
        "outputId": "ae210208-2a63-4c53-96e2-9b75c843474f",
        "colab": {
          "base_uri": "https://localhost:8080/",
          "height": 255
        }
      },
      "source": [
        "gold.info()"
      ],
      "execution_count": 0,
      "outputs": [
        {
          "output_type": "stream",
          "text": [
            "<class 'pandas.core.frame.DataFrame'>\n",
            "RangeIndex: 512 entries, 0 to 511\n",
            "Data columns (total 9 columns):\n",
            "Date        512 non-null object\n",
            "Price       512 non-null int64\n",
            "Open        512 non-null int64\n",
            "High        512 non-null int64\n",
            "Low         512 non-null int64\n",
            "Vol.        512 non-null object\n",
            "Change %    512 non-null object\n",
            "Pred        411 non-null float64\n",
            "new         512 non-null float64\n",
            "dtypes: float64(2), int64(4), object(3)\n",
            "memory usage: 36.1+ KB\n"
          ],
          "name": "stdout"
        }
      ]
    },
    {
      "cell_type": "markdown",
      "metadata": {
        "id": "pfD3eVe5SyRI",
        "colab_type": "text"
      },
      "source": [
        "**As we can see above that Pred is the column that is partially filled, we can use the filled portion of this column in training data and make rest of it as testing dataset. The prediction on this test set can then be used to fill the entire column.**"
      ]
    },
    {
      "cell_type": "code",
      "metadata": {
        "id": "2EJvcvWmAxyk",
        "colab_type": "code",
        "outputId": "e0c51ef6-dba0-4d2f-8740-4a4db34fc561",
        "colab": {
          "base_uri": "https://localhost:8080/",
          "height": 34
        }
      },
      "source": [
        "#to generate the training data by dropping rows with any empty column.\n",
        "gold_train= gold.dropna()\n",
        "\n",
        "#testing data will be generated by taking rows with any empty column.\n",
        "gold_test= gold[pd.isnull(gold).any(axis= 1)]\n",
        "\n",
        "#just to check \n",
        "print('The training data has {} samples, and testing data has {} samples.'.format(len(gold_train), len(gold_test)))"
      ],
      "execution_count": 0,
      "outputs": [
        {
          "output_type": "stream",
          "text": [
            "The training data has 411 samples, and testing data has 101 samples.\n"
          ],
          "name": "stdout"
        }
      ]
    },
    {
      "cell_type": "markdown",
      "metadata": {
        "id": "ryQLHqR3T_Ss",
        "colab_type": "text"
      },
      "source": [
        "**We can now take our OHLC (open, high, low and close ) as features and both Pred and new as labels to train our linear regression model on.**\n",
        "\n",
        "**NOTE : the training will be done using the training data we generated earlier.**"
      ]
    },
    {
      "cell_type": "code",
      "metadata": {
        "id": "sSKxFqVMB6J9",
        "colab_type": "code",
        "outputId": "48f58f28-7d77-43eb-d7d6-0a57f38398b6",
        "colab": {
          "base_uri": "https://localhost:8080/",
          "height": 272
        }
      },
      "source": [
        "#features for our model.\n",
        "X = gold_train.iloc[:, 1: 5].values\n",
        "\n",
        "#our label\n",
        "y = gold_train.iloc[:, 7: 8].values\n",
        "\n",
        "#jsut to check\n",
        "print(\"The features are -- \\n {0}\\n\\nThe labels are -- \\n {1}\".format(gold_train.iloc[:, 1: 5].head(), gold_train.iloc[:, 7: 8].head()))"
      ],
      "execution_count": 0,
      "outputs": [
        {
          "output_type": "stream",
          "text": [
            "The features are -- \n",
            "    Price   Open   High    Low\n",
            "0  28060  28400  28482  28025\n",
            "1  28184  28136  28382  28135\n",
            "2  28119  28145  28255  28097\n",
            "3  27981  28125  28192  27947\n",
            "4  28007  28060  28146  27981\n",
            "\n",
            "The labels are -- \n",
            "     Pred\n",
            "0  738.0\n",
            "1 -146.0\n",
            "2   30.0\n",
            "3  357.0\n",
            "4  124.0\n"
          ],
          "name": "stdout"
        }
      ]
    },
    {
      "cell_type": "markdown",
      "metadata": {
        "id": "iKlFPub8WkL3",
        "colab_type": "text"
      },
      "source": [
        "**So we have set our features to be OHLC and our label is Pred right now.**"
      ]
    },
    {
      "cell_type": "code",
      "metadata": {
        "id": "qkdgNZLKWtxi",
        "colab_type": "code",
        "colab": {}
      },
      "source": [
        "import sklearn\n",
        "from sklearn.model_selection import train_test_split\n",
        "from sklearn.linear_model import LinearRegression\n",
        "from sklearn.preprocessing import StandardScaler"
      ],
      "execution_count": 0,
      "outputs": []
    },
    {
      "cell_type": "code",
      "metadata": {
        "id": "4LMR8OT5MMBW",
        "colab_type": "code",
        "outputId": "78fe61ac-abaf-475e-bf59-ed391bf15ce3",
        "colab": {
          "base_uri": "https://localhost:8080/",
          "height": 34
        }
      },
      "source": [
        "#splitting data in training and validation set\n",
        "X_train, X_val, y_train, y_val = train_test_split(X, y, test_size=0.2, random_state=0)\n",
        "\n",
        "# Fitting Simple Linear Regression to the Training set\n",
        "regressor_pred = LinearRegression()\n",
        "regressor_pred.fit(X_train, y_train)\n",
        "\n",
        "# check the score on test set, the output is the the probablity for correct prediction.\n",
        "print(\"The accuracy of test set is {}\".format(regressor_pred.score(X_val, y_val) * 100))"
      ],
      "execution_count": 0,
      "outputs": [
        {
          "output_type": "stream",
          "text": [
            "The accuracy of test set is 100.0\n"
          ],
          "name": "stdout"
        }
      ]
    },
    {
      "cell_type": "markdown",
      "metadata": {
        "id": "IxK31e2wYPkP",
        "colab_type": "text"
      },
      "source": [
        "**The accuracy on test set is 100, which mean our LINEAR REGRESSION model is able to predict correctly everytime, thus suggesting a linear mapping between inputs and output.**\n",
        "\n",
        "**The result also suggest that Pred is the output, that is linear combination of OHLC input.**"
      ]
    },
    {
      "cell_type": "code",
      "metadata": {
        "id": "doa4Uc-rPFH4",
        "colab_type": "code",
        "outputId": "fbbd71c4-e7c5-4f13-f993-a3f4f4e0434f",
        "colab": {
          "base_uri": "https://localhost:8080/",
          "height": 51
        }
      },
      "source": [
        "#to find the cofficient of the features in trained model.\n",
        "print('The cofficient of the inputs are {}' .format(regressor_pred.coef_))\n",
        "\n",
        "#to find the interceptt of the features in trained model.\n",
        "print('The intercept of the inputs are {}' .format(regressor_pred.intercept_))"
      ],
      "execution_count": 0,
      "outputs": [
        {
          "output_type": "stream",
          "text": [
            "The cofficient of the inputs are [[ 2.  3. -1. -4.]]\n",
            "The intercept of the inputs are [6.03108674e-11]\n"
          ],
          "name": "stdout"
        }
      ]
    },
    {
      "cell_type": "markdown",
      "metadata": {
        "id": "axt_bTKXYONZ",
        "colab_type": "text"
      },
      "source": [
        "**We can see that the cofficients are integer numbers thus for linear equation. Thus suggesting that Pred is infact linear combination of inputs.**\n",
        "\n",
        " **coef_1 * low + coef_2 * high + coef_3 * open + coef_4 * price(close) + intercept = Pred.**\n",
        " \n",
        " **The next task would be to complete the entire column using the same trained model, we will use regressor_pred as that was the column that had empty rows.**\n",
        " "
      ]
    },
    {
      "cell_type": "code",
      "metadata": {
        "id": "nbyLW-n9fPLU",
        "colab_type": "code",
        "colab": {}
      },
      "source": [
        "#predict the values of Pred for all empty column using gold_test column used earlier.\n",
        "Pred= regressor_pred.predict(gold_test.iloc[:, 1: 5].values)"
      ],
      "execution_count": 0,
      "outputs": []
    },
    {
      "cell_type": "code",
      "metadata": {
        "id": "WbRMO7R_faCm",
        "colab_type": "code",
        "outputId": "c81d81fd-6f0a-496d-8163-bc1a8bdc8df1",
        "colab": {
          "base_uri": "https://localhost:8080/",
          "height": 119
        }
      },
      "source": [
        "#update the rows in gold_test\n",
        "gold_test['Pred']= Pred"
      ],
      "execution_count": 0,
      "outputs": [
        {
          "output_type": "stream",
          "text": [
            "/usr/local/lib/python3.6/dist-packages/ipykernel_launcher.py:1: SettingWithCopyWarning: \n",
            "A value is trying to be set on a copy of a slice from a DataFrame.\n",
            "Try using .loc[row_indexer,col_indexer] = value instead\n",
            "\n",
            "See the caveats in the documentation: http://pandas.pydata.org/pandas-docs/stable/indexing.html#indexing-view-versus-copy\n",
            "  \"\"\"Entry point for launching an IPython kernel.\n"
          ],
          "name": "stderr"
        }
      ]
    },
    {
      "cell_type": "code",
      "metadata": {
        "id": "9TIN8nKgfgXM",
        "colab_type": "code",
        "colab": {}
      },
      "source": [
        "#append gold_test to out original data.\n",
        "gold [ 411 : ]= gold_test"
      ],
      "execution_count": 0,
      "outputs": []
    },
    {
      "cell_type": "code",
      "metadata": {
        "id": "xoyfe-kbfhHp",
        "colab_type": "code",
        "outputId": "34edf2f5-bd26-4bf6-d0b6-fab5a0416ef7",
        "colab": {
          "base_uri": "https://localhost:8080/",
          "height": 297
        }
      },
      "source": [
        "gold.describe()"
      ],
      "execution_count": 0,
      "outputs": [
        {
          "output_type": "execute_result",
          "data": {
            "text/html": [
              "<div>\n",
              "<style scoped>\n",
              "    .dataframe tbody tr th:only-of-type {\n",
              "        vertical-align: middle;\n",
              "    }\n",
              "\n",
              "    .dataframe tbody tr th {\n",
              "        vertical-align: top;\n",
              "    }\n",
              "\n",
              "    .dataframe thead th {\n",
              "        text-align: right;\n",
              "    }\n",
              "</style>\n",
              "<table border=\"1\" class=\"dataframe\">\n",
              "  <thead>\n",
              "    <tr style=\"text-align: right;\">\n",
              "      <th></th>\n",
              "      <th>Price</th>\n",
              "      <th>Open</th>\n",
              "      <th>High</th>\n",
              "      <th>Low</th>\n",
              "      <th>Pred</th>\n",
              "      <th>new</th>\n",
              "    </tr>\n",
              "  </thead>\n",
              "  <tbody>\n",
              "    <tr>\n",
              "      <th>count</th>\n",
              "      <td>512.000000</td>\n",
              "      <td>512.000000</td>\n",
              "      <td>512.000000</td>\n",
              "      <td>512.000000</td>\n",
              "      <td>512.000000</td>\n",
              "      <td>512.000000</td>\n",
              "    </tr>\n",
              "    <tr>\n",
              "      <th>mean</th>\n",
              "      <td>30364.583984</td>\n",
              "      <td>30368.412109</td>\n",
              "      <td>30491.089844</td>\n",
              "      <td>30243.320312</td>\n",
              "      <td>370.033203</td>\n",
              "      <td>245.161859</td>\n",
              "    </tr>\n",
              "    <tr>\n",
              "      <th>std</th>\n",
              "      <td>1284.378623</td>\n",
              "      <td>1296.856656</td>\n",
              "      <td>1307.031684</td>\n",
              "      <td>1271.936410</td>\n",
              "      <td>341.296591</td>\n",
              "      <td>205.788897</td>\n",
              "    </tr>\n",
              "    <tr>\n",
              "      <th>min</th>\n",
              "      <td>27812.000000</td>\n",
              "      <td>27805.000000</td>\n",
              "      <td>27887.000000</td>\n",
              "      <td>27620.000000</td>\n",
              "      <td>-146.000000</td>\n",
              "      <td>11.109814</td>\n",
              "    </tr>\n",
              "    <tr>\n",
              "      <th>25%</th>\n",
              "      <td>29432.500000</td>\n",
              "      <td>29436.750000</td>\n",
              "      <td>29499.750000</td>\n",
              "      <td>29345.750000</td>\n",
              "      <td>164.000000</td>\n",
              "      <td>101.369172</td>\n",
              "    </tr>\n",
              "    <tr>\n",
              "      <th>50%</th>\n",
              "      <td>30427.500000</td>\n",
              "      <td>30399.500000</td>\n",
              "      <td>30545.000000</td>\n",
              "      <td>30286.000000</td>\n",
              "      <td>322.000000</td>\n",
              "      <td>184.537244</td>\n",
              "    </tr>\n",
              "    <tr>\n",
              "      <th>75%</th>\n",
              "      <td>31271.750000</td>\n",
              "      <td>31300.000000</td>\n",
              "      <td>31447.500000</td>\n",
              "      <td>31160.750000</td>\n",
              "      <td>495.000000</td>\n",
              "      <td>320.835031</td>\n",
              "    </tr>\n",
              "    <tr>\n",
              "      <th>max</th>\n",
              "      <td>33753.000000</td>\n",
              "      <td>34247.000000</td>\n",
              "      <td>34400.000000</td>\n",
              "      <td>33680.000000</td>\n",
              "      <td>3024.000000</td>\n",
              "      <td>1407.321485</td>\n",
              "    </tr>\n",
              "  </tbody>\n",
              "</table>\n",
              "</div>"
            ],
            "text/plain": [
              "              Price          Open  ...         Pred          new\n",
              "count    512.000000    512.000000  ...   512.000000   512.000000\n",
              "mean   30364.583984  30368.412109  ...   370.033203   245.161859\n",
              "std     1284.378623   1296.856656  ...   341.296591   205.788897\n",
              "min    27812.000000  27805.000000  ...  -146.000000    11.109814\n",
              "25%    29432.500000  29436.750000  ...   164.000000   101.369172\n",
              "50%    30427.500000  30399.500000  ...   322.000000   184.537244\n",
              "75%    31271.750000  31300.000000  ...   495.000000   320.835031\n",
              "max    33753.000000  34247.000000  ...  3024.000000  1407.321485\n",
              "\n",
              "[8 rows x 6 columns]"
            ]
          },
          "metadata": {
            "tags": []
          },
          "execution_count": 63
        }
      ]
    },
    {
      "cell_type": "markdown",
      "metadata": {
        "id": "Qyqr-ZX_fn_A",
        "colab_type": "text"
      },
      "source": [
        "**We have found correct value of Pred for all the empty rows and updated our dataset.**"
      ]
    },
    {
      "cell_type": "markdown",
      "metadata": {
        "id": "HaHlRGp3Zz8n",
        "colab_type": "text"
      },
      "source": [
        "**Our next step would be to set new column as a output and find if we have a linear mapping from inputs to output.**"
      ]
    },
    {
      "cell_type": "code",
      "metadata": {
        "id": "ALLvvbUWaR5t",
        "colab_type": "code",
        "outputId": "cd63d4fe-7ee4-455b-bfe7-a0d1db15758d",
        "colab": {
          "base_uri": "https://localhost:8080/",
          "height": 272
        }
      },
      "source": [
        "#features for our model.\n",
        "X = gold_train.iloc[:, 1: 5].values\n",
        "\n",
        "#our label\n",
        "y = gold_train.iloc[:, 8 : ].values\n",
        "\n",
        "#jsut to check\n",
        "print(\"The features are -- \\n {0}\\n\\nThe labels are -- \\n {1}\".format(gold_train.iloc[:, 1: 5].head(), gold_train.iloc[:, 8: ].head()))"
      ],
      "execution_count": 0,
      "outputs": [
        {
          "output_type": "stream",
          "text": [
            "The features are -- \n",
            "    Price   Open   High    Low\n",
            "0  28060  28400  28482  28025\n",
            "1  28184  28136  28382  28135\n",
            "2  28119  28145  28255  28097\n",
            "3  27981  28125  28192  27947\n",
            "4  28007  28060  28146  27981\n",
            "\n",
            "The labels are -- \n",
            "           new\n",
            "0  117.570740\n",
            "1  295.430176\n",
            "2  132.123714\n",
            "3  101.298064\n",
            "4  112.153318\n"
          ],
          "name": "stdout"
        }
      ]
    },
    {
      "cell_type": "code",
      "metadata": {
        "id": "k7ubDCTBRK40",
        "colab_type": "code",
        "outputId": "a8bd3efa-e7ad-4f33-9be1-cc1468626b48",
        "colab": {
          "base_uri": "https://localhost:8080/",
          "height": 34
        }
      },
      "source": [
        "#splitting data in training and validation set\n",
        "X_train, X_val, y_train, y_val = train_test_split(X, y, test_size=0.2, random_state=0)\n",
        "\n",
        "# Fitting Simple Linear Regression to the Training set\n",
        "regressor_new = LinearRegression()\n",
        "regressor_new.fit(X_train, y_train)\n",
        "\n",
        "# check the score on test set, the output is the the probablity for correct prediction.\n",
        "print(\"The accuracy of test set is {}\".format(regressor_new.score(X_val, y_val) * 100))"
      ],
      "execution_count": 0,
      "outputs": [
        {
          "output_type": "stream",
          "text": [
            "The accuracy of test set is 99.99924790346442\n"
          ],
          "name": "stdout"
        }
      ]
    },
    {
      "cell_type": "markdown",
      "metadata": {
        "id": "DyqxyD2gacR4",
        "colab_type": "text"
      },
      "source": [
        "**The accuracy on test set is 99.99.. , which mean our LINEAR REGRESSION model is able to predict correctly ALMOST everytime, however this drop in accuracy suggest that there are some higher powers involved in our equation. Thus this mapping is NOT strictly LINEAR**\n",
        "\n",
        "**The result also suggest that new is the output, that is NOT a linear combination of OHLC input.**"
      ]
    },
    {
      "cell_type": "code",
      "metadata": {
        "id": "e0HCWKFnbhkk",
        "colab_type": "code",
        "outputId": "930d17e5-2c44-4458-b987-de4131ab5718",
        "colab": {
          "base_uri": "https://localhost:8080/",
          "height": 51
        }
      },
      "source": [
        "#to find the cofficient of the features in trained model.\n",
        "print('The cofficient of the inputs are {}' .format(regressor_new.coef_))\n",
        "\n",
        "#to find the cofficient of the features in trained model.\n",
        "print('The cofficient of the inputs are {}' .format(regressor_new.intercept_))"
      ],
      "execution_count": 0,
      "outputs": [
        {
          "output_type": "stream",
          "text": [
            "The cofficient of the inputs are [[ 1.01216926 -1.00112185  1.00522654 -1.01630605]]\n",
            "The cofficient of the inputs are [-0.41905518]\n"
          ],
          "name": "stdout"
        }
      ]
    },
    {
      "cell_type": "markdown",
      "metadata": {
        "id": "NSSqfs_6bnFc",
        "colab_type": "text"
      },
      "source": [
        "**We can see that the cofficients are floating point numbers. Thus suggesting that new is not a linear combination of inputs.**"
      ]
    },
    {
      "cell_type": "code",
      "metadata": {
        "id": "dwjNADu_axex",
        "colab_type": "code",
        "outputId": "a40551dd-b5fe-4bfe-fa4a-a6199b1e5750",
        "colab": {
          "base_uri": "https://localhost:8080/",
          "height": 300
        }
      },
      "source": [
        "import seaborn as sns\n",
        "sns.distplot(gold['Pred'])\n"
      ],
      "execution_count": 0,
      "outputs": [
        {
          "output_type": "execute_result",
          "data": {
            "text/plain": [
              "<matplotlib.axes._subplots.AxesSubplot at 0x7f1aaabf8a20>"
            ]
          },
          "metadata": {
            "tags": []
          },
          "execution_count": 67
        },
        {
          "output_type": "display_data",
          "data": {
            "image/png": "[encoded data removed]",
            "text/plain": [
              "<Figure size 432x288 with 1 Axes>"
            ]
          },
          "metadata": {
            "tags": []
          }
        }
      ]
    },
    {
      "cell_type": "code",
      "metadata": {
        "id": "JUkpW86DhIjj",
        "colab_type": "code",
        "outputId": "6c495f24-0ff3-4bb8-8e51-01c605cb5021",
        "colab": {
          "base_uri": "https://localhost:8080/",
          "height": 300
        }
      },
      "source": [
        "sns.distplot(gold['new'])"
      ],
      "execution_count": 0,
      "outputs": [
        {
          "output_type": "execute_result",
          "data": {
            "text/plain": [
              "<matplotlib.axes._subplots.AxesSubplot at 0x7f1aaaafb8d0>"
            ]
          },
          "metadata": {
            "tags": []
          },
          "execution_count": 68
        },
        {
          "output_type": "display_data",
          "data": {
            "image/png": "[encoded data removed]",
            "text/plain": [
              "<Figure size 432x288 with 1 Axes>"
            ]
          },
          "metadata": {
            "tags": []
          }
        }
      ]
    },
    {
      "cell_type": "markdown",
      "metadata": {
        "id": "rbQbLUv5heQe",
        "colab_type": "text"
      },
      "source": [
        "**The distplot also suggest that the the data points are evenly distributed in case of Pred, and somewhat skewed in case of new, thus suggesting that the predictions in case of Pred are infact more accurate than in case of new.**"
      ]
    },
    {
      "cell_type": "markdown",
      "metadata": {
        "id": "WUx-FS5Bdy4o",
        "colab_type": "text"
      },
      "source": [
        "\n",
        "\n",
        "---\n",
        "\n",
        "\n",
        "##Query3.2 \n",
        "    Import the stock of your choosing AND the Nifty index. \n",
        "    \n",
        "    Using linear regression (OLS), calculate -\n",
        "    -- The daily Beta value for the past 3 months. (Daily= Daily returns)\n",
        "    -- The monthly Beta value. (Monthly= Monthly returns)\n",
        "    \n",
        "    \n",
        "    Refrain from using the (covariance(x,y)/variance(x)) formula. \n",
        "    \n",
        "    Attempt the question using regression.(Regression Reference) \n",
        "    Were the Beta values more or less than 1 ? What if it was negative ? \n",
        "    Discuss. Include a brief writeup in the bottom of your jupyter notebook with your inferences from the Beta values and regression results."
      ]
    },
    {
      "cell_type": "code",
      "metadata": {
        "id": "4R_qNnG2MP94",
        "colab_type": "code",
        "colab": {}
      },
      "source": [
        "#import the datasets\n",
        "Laxmi= pd.read_csv('LAXMIMACH.csv')\n",
        "nifty50= pd.read_csv('Nifty50.csv')"
      ],
      "execution_count": 0,
      "outputs": []
    },
    {
      "cell_type": "code",
      "metadata": {
        "id": "3p1XmfFje-w9",
        "colab_type": "code",
        "colab": {}
      },
      "source": [
        "Laxmi_3_mo= Laxmi[:][432 : 494]\n",
        "nifty50_3_mo= nifty50[:][432 : 494]"
      ],
      "execution_count": 0,
      "outputs": []
    },
    {
      "cell_type": "markdown",
      "metadata": {
        "id": "Lyn-zwCp9Gxa",
        "colab_type": "text"
      },
      "source": [
        "**We will get data for last 3 months, on average a quarter is taken to be 63 days longer.**"
      ]
    },
    {
      "cell_type": "code",
      "metadata": {
        "id": "Ef18DYhSxD7B",
        "colab_type": "code",
        "colab": {}
      },
      "source": [
        "daily_prices = pd.concat([Laxmi_3_mo['Close Price'], nifty50_3_mo['Close']], axis=1)\n",
        "daily_prices.columns = ['Laxmi', 'nifty50']"
      ],
      "execution_count": 0,
      "outputs": []
    },
    {
      "cell_type": "markdown",
      "metadata": {
        "id": "RVXSN1v-90_-",
        "colab_type": "text"
      },
      "source": [
        "**We will create a new dataframe called daily_prices with closing prices of LAXMIMACH and our index that is, Nifty50.**\n",
        "\n",
        "**The next step would be to calculate the daily percentage changes for both the columns and drop all NaN from our updated dataframe.**"
      ]
    },
    {
      "cell_type": "code",
      "metadata": {
        "id": "wcRJahvUgwQL",
        "colab_type": "code",
        "outputId": "5d86078e-9428-44f0-8064-363af4d8f919",
        "colab": {
          "base_uri": "https://localhost:8080/",
          "height": 204
        }
      },
      "source": [
        "daily_returns = daily_prices.pct_change(1)\n",
        "clean_daily_returns = daily_returns.dropna(axis=0)  # drop first missing row\n",
        "print(clean_daily_returns.head(10))"
      ],
      "execution_count": 0,
      "outputs": [
        {
          "output_type": "stream",
          "text": [
            "        Laxmi   nifty50\n",
            "433 -0.006529 -0.011365\n",
            "434 -0.007550 -0.005007\n",
            "435 -0.015285 -0.005271\n",
            "436 -0.001460 -0.003485\n",
            "437  0.001751 -0.004410\n",
            "438 -0.016076 -0.002015\n",
            "439 -0.012447 -0.007781\n",
            "440  0.003728 -0.003440\n",
            "441  0.000231  0.012363\n",
            "442  0.008970  0.005067\n"
          ],
          "name": "stdout"
        }
      ]
    },
    {
      "cell_type": "markdown",
      "metadata": {
        "id": "RJshKTXm-Q-i",
        "colab_type": "text"
      },
      "source": [
        "**Good! Now that we have a clean set of daily returns on LAXMIMACH and Nifty 50. Let’s go ahead and make the Ordinary Least Square (OLS)Regression with Statsmodels.**\n"
      ]
    },
    {
      "cell_type": "code",
      "metadata": {
        "id": "KFtpPDh6g5ub",
        "colab_type": "code",
        "outputId": "ca371622-d816-4d9c-f973-2e12925f4ed4",
        "colab": {
          "base_uri": "https://localhost:8080/",
          "height": 496
        }
      },
      "source": [
        "import statsmodels.api as sm\n",
        "# split dependent and independent variable\n",
        "X = clean_daily_returns['nifty50']\n",
        "y = clean_daily_returns['Laxmi']\n",
        "\n",
        "# Add a constant to the independent value\n",
        "X1 = sm.add_constant(X)\n",
        "\n",
        "# make regression model \n",
        "model = sm.OLS(y, X1)\n",
        "\n",
        "# fit model and print results\n",
        "results = model.fit()\n",
        "print(results.summary())"
      ],
      "execution_count": 0,
      "outputs": [
        {
          "output_type": "stream",
          "text": [
            "                            OLS Regression Results                            \n",
            "==============================================================================\n",
            "Dep. Variable:                  Laxmi   R-squared:                       0.157\n",
            "Model:                            OLS   Adj. R-squared:                  0.142\n",
            "Method:                 Least Squares   F-statistic:                     10.95\n",
            "Date:                Fri, 12 Jul 2019   Prob (F-statistic):            0.00160\n",
            "Time:                        05:41:25   Log-Likelihood:                 191.61\n",
            "No. Observations:                  61   AIC:                            -379.2\n",
            "Df Residuals:                      59   BIC:                            -375.0\n",
            "Df Model:                           1                                         \n",
            "Covariance Type:            nonrobust                                         \n",
            "==============================================================================\n",
            "                 coef    std err          t      P>|t|      [0.025      0.975]\n",
            "------------------------------------------------------------------------------\n",
            "const         -0.0008      0.001     -0.621      0.537      -0.004       0.002\n",
            "nifty50        0.6544      0.198      3.309      0.002       0.259       1.050\n",
            "==============================================================================\n",
            "Omnibus:                       18.994   Durbin-Watson:                   1.467\n",
            "Prob(Omnibus):                  0.000   Jarque-Bera (JB):               24.425\n",
            "Skew:                           1.263   Prob(JB):                     4.97e-06\n",
            "Kurtosis:                       4.796   Cond. No.                         145.\n",
            "==============================================================================\n",
            "\n",
            "Warnings:\n",
            "[1] Standard Errors assume that the covariance matrix of the errors is correctly specified.\n"
          ],
          "name": "stdout"
        },
        {
          "output_type": "stream",
          "text": [
            "/usr/local/lib/python3.6/dist-packages/numpy/core/fromnumeric.py:2389: FutureWarning: Method .ptp is deprecated and will be removed in a future version. Use numpy.ptp instead.\n",
            "  return ptp(axis=axis, out=out, **kwargs)\n"
          ],
          "name": "stderr"
        }
      ]
    },
    {
      "cell_type": "code",
      "metadata": {
        "id": "eCYUcTVDr9Wa",
        "colab_type": "code",
        "outputId": "c005f49d-e1e5-4a22-81b3-f4ba8346fbb1",
        "colab": {
          "base_uri": "https://localhost:8080/",
          "height": 34
        }
      },
      "source": [
        "# alternatively scipy linear regression\n",
        "from scipy import stats\n",
        "slope, intercept, r_value, p_value, std_err = stats.linregress(X, y)\n",
        "\n",
        "#the slope of the regression lines denotes the beta.\n",
        "print(slope)"
      ],
      "execution_count": 0,
      "outputs": [
        {
          "output_type": "stream",
          "text": [
            "0.6543587998923448\n"
          ],
          "name": "stdout"
        }
      ]
    },
    {
      "cell_type": "markdown",
      "metadata": {
        "id": "mrhCJz5Yna8j",
        "colab_type": "text"
      },
      "source": [
        "###Interpretation of a Beta result\n",
        "\n",
        "    A stock with a beta of:\n",
        "    -> zero indicates no correlation with the chosen benchmark (e.g. NASDAQ index )\n",
        "    -> one indicates a stock has the same volatility as the market\n",
        "    -> more than one indicates a stock that’s more volatile than its benchmark\n",
        "    -> less than one is less volatile than the benchmark\n",
        "    -> 1.5 is 50% more volatile than the benchmark\n",
        "\n"
      ]
    },
    {
      "cell_type": "markdown",
      "metadata": {
        "id": "EOVpR_aWnuGk",
        "colab_type": "text"
      },
      "source": [
        "**Thus value of beta is 0.6544, As you can see from the summary, the coefficient value for (LAXMIMACH) is 0.6544. This suggest that the Laxmimach have be LESS volatile than Nifty 50 over the course of last 3 months.**\n",
        "\n",
        "**In this method, we regress the company’s stock returns against the market’s returns. The beta (β) is represented by the slope of the regression line.**\n",
        "\n",
        " **stock_return= 0.6543 * market_return + (- 0.0008)**"
      ]
    },
    {
      "cell_type": "markdown",
      "metadata": {
        "id": "SpWZrmxq-dzI",
        "colab_type": "text"
      },
      "source": [
        "**Next step would be to do the same for monthly beta values, that is to find out the beta values monthly returns for last 3 years.**\n",
        "\n",
        "**We would group both our datasets by months and years, to get monthly closing prices for both the data sets and calculate monthly percentage change.**"
      ]
    },
    {
      "cell_type": "code",
      "metadata": {
        "id": "jqrMmKPEt88L",
        "colab_type": "code",
        "colab": {}
      },
      "source": [
        "Laxmi['Date']= pd.to_datetime(Laxmi['Date'])\n",
        "\n",
        "nifty50['Date']= pd.to_datetime(nifty50['Date'])"
      ],
      "execution_count": 0,
      "outputs": []
    },
    {
      "cell_type": "code",
      "metadata": {
        "id": "_LfSBl0NvZWb",
        "colab_type": "code",
        "outputId": "994a7318-57a0-45ba-a618-12e3711348cb",
        "colab": {
          "base_uri": "https://localhost:8080/",
          "height": 102
        }
      },
      "source": [
        "#initialize a new column and provide 0 value to each of its row.\n",
        "Laxmi['month']= 0\n",
        "\n",
        "#now for entire length of data we would replce the 0 with month value\n",
        "#we can get month value from data['Date']\n",
        "for i in range (0, 494):\n",
        "  Laxmi['month'][i]= Laxmi['Date'][i].month"
      ],
      "execution_count": 0,
      "outputs": [
        {
          "output_type": "stream",
          "text": [
            "/usr/local/lib/python3.6/dist-packages/ipykernel_launcher.py:6: SettingWithCopyWarning: \n",
            "A value is trying to be set on a copy of a slice from a DataFrame\n",
            "\n",
            "See the caveats in the documentation: http://pandas.pydata.org/pandas-docs/stable/indexing.html#indexing-view-versus-copy\n",
            "  \n"
          ],
          "name": "stderr"
        }
      ]
    },
    {
      "cell_type": "code",
      "metadata": {
        "id": "3uMCLSkGxQxj",
        "colab_type": "code",
        "outputId": "7727b71c-2515-436e-8164-9510df568781",
        "colab": {
          "base_uri": "https://localhost:8080/",
          "height": 102
        }
      },
      "source": [
        "#initialize a new column and provide 0 value to each of its row.\n",
        "nifty50['month']= 0\n",
        "\n",
        "#now for entire length of data we would replce the 0 with month value\n",
        "#we can get month value from data['Date']\n",
        "for i in range (0, 494):\n",
        "  nifty50['month'][i]= nifty50['Date'][i].month"
      ],
      "execution_count": 0,
      "outputs": [
        {
          "output_type": "stream",
          "text": [
            "/usr/local/lib/python3.6/dist-packages/ipykernel_launcher.py:6: SettingWithCopyWarning: \n",
            "A value is trying to be set on a copy of a slice from a DataFrame\n",
            "\n",
            "See the caveats in the documentation: http://pandas.pydata.org/pandas-docs/stable/indexing.html#indexing-view-versus-copy\n",
            "  \n"
          ],
          "name": "stderr"
        }
      ]
    },
    {
      "cell_type": "code",
      "metadata": {
        "id": "7FrP_bNiwDbr",
        "colab_type": "code",
        "outputId": "7ce48d0a-e55b-4410-e8d6-609aa00f09d0",
        "colab": {
          "base_uri": "https://localhost:8080/",
          "height": 102
        }
      },
      "source": [
        "#initialize a new column and provide 0 value to each of its row.\n",
        "Laxmi['year']= 0\n",
        "\n",
        "#now for entire length of data we would replce the 0 with month value\n",
        "#we can get month value from data['Date']\n",
        "for i in range (0, 494):\n",
        "  Laxmi['year'][i]= Laxmi['Date'][i].year"
      ],
      "execution_count": 0,
      "outputs": [
        {
          "output_type": "stream",
          "text": [
            "/usr/local/lib/python3.6/dist-packages/ipykernel_launcher.py:6: SettingWithCopyWarning: \n",
            "A value is trying to be set on a copy of a slice from a DataFrame\n",
            "\n",
            "See the caveats in the documentation: http://pandas.pydata.org/pandas-docs/stable/indexing.html#indexing-view-versus-copy\n",
            "  \n"
          ],
          "name": "stderr"
        }
      ]
    },
    {
      "cell_type": "code",
      "metadata": {
        "id": "rOyqYwV8xtyd",
        "colab_type": "code",
        "outputId": "4da72b10-ac4d-4b34-8bf6-83b4305c43dc",
        "colab": {
          "base_uri": "https://localhost:8080/",
          "height": 102
        }
      },
      "source": [
        "#initialize a new column and provide 0 value to each of its row.\n",
        "nifty50['year']= 0\n",
        "\n",
        "#now for entire length of data we would replce the 0 with month value\n",
        "#we can get month value from data['Date']\n",
        "for i in range (0, 494):\n",
        "  nifty50['year'][i]= nifty50['Date'][i].year"
      ],
      "execution_count": 0,
      "outputs": [
        {
          "output_type": "stream",
          "text": [
            "/usr/local/lib/python3.6/dist-packages/ipykernel_launcher.py:6: SettingWithCopyWarning: \n",
            "A value is trying to be set on a copy of a slice from a DataFrame\n",
            "\n",
            "See the caveats in the documentation: http://pandas.pydata.org/pandas-docs/stable/indexing.html#indexing-view-versus-copy\n",
            "  \n"
          ],
          "name": "stderr"
        }
      ]
    },
    {
      "cell_type": "code",
      "metadata": {
        "id": "zeElNVsxvlm9",
        "colab_type": "code",
        "outputId": "7d4c3d0f-aa53-427e-a7c5-102e36ecbc69",
        "colab": {
          "base_uri": "https://localhost:8080/",
          "height": 340
        }
      },
      "source": [
        "Laxmi.head()"
      ],
      "execution_count": 0,
      "outputs": [
        {
          "output_type": "execute_result",
          "data": {
            "text/html": [
              "<div>\n",
              "<style scoped>\n",
              "    .dataframe tbody tr th:only-of-type {\n",
              "        vertical-align: middle;\n",
              "    }\n",
              "\n",
              "    .dataframe tbody tr th {\n",
              "        vertical-align: top;\n",
              "    }\n",
              "\n",
              "    .dataframe thead th {\n",
              "        text-align: right;\n",
              "    }\n",
              "</style>\n",
              "<table border=\"1\" class=\"dataframe\">\n",
              "  <thead>\n",
              "    <tr style=\"text-align: right;\">\n",
              "      <th></th>\n",
              "      <th>Symbol</th>\n",
              "      <th>Series</th>\n",
              "      <th>Date</th>\n",
              "      <th>Prev Close</th>\n",
              "      <th>Open Price</th>\n",
              "      <th>High Price</th>\n",
              "      <th>Low Price</th>\n",
              "      <th>Last Price</th>\n",
              "      <th>Close Price</th>\n",
              "      <th>Average Price</th>\n",
              "      <th>Total Traded Quantity</th>\n",
              "      <th>Turnover</th>\n",
              "      <th>No. of Trades</th>\n",
              "      <th>Deliverable Qty</th>\n",
              "      <th>% Dly Qt to Traded Qty</th>\n",
              "      <th>month</th>\n",
              "      <th>year</th>\n",
              "    </tr>\n",
              "  </thead>\n",
              "  <tbody>\n",
              "    <tr>\n",
              "      <th>0</th>\n",
              "      <td>LAXMIMACH</td>\n",
              "      <td>EQ</td>\n",
              "      <td>2017-05-15</td>\n",
              "      <td>4552.40</td>\n",
              "      <td>4619.95</td>\n",
              "      <td>4670.0</td>\n",
              "      <td>4550.05</td>\n",
              "      <td>4606.0</td>\n",
              "      <td>4614.05</td>\n",
              "      <td>4629.76</td>\n",
              "      <td>4275</td>\n",
              "      <td>19792243.95</td>\n",
              "      <td>1097</td>\n",
              "      <td>2447</td>\n",
              "      <td>57.24</td>\n",
              "      <td>5</td>\n",
              "      <td>2017</td>\n",
              "    </tr>\n",
              "    <tr>\n",
              "      <th>1</th>\n",
              "      <td>LAXMIMACH</td>\n",
              "      <td>EQ</td>\n",
              "      <td>2017-05-16</td>\n",
              "      <td>4614.05</td>\n",
              "      <td>4566.05</td>\n",
              "      <td>4650.0</td>\n",
              "      <td>4564.10</td>\n",
              "      <td>4582.0</td>\n",
              "      <td>4589.80</td>\n",
              "      <td>4612.18</td>\n",
              "      <td>4467</td>\n",
              "      <td>20602592.70</td>\n",
              "      <td>805</td>\n",
              "      <td>2961</td>\n",
              "      <td>66.29</td>\n",
              "      <td>5</td>\n",
              "      <td>2017</td>\n",
              "    </tr>\n",
              "    <tr>\n",
              "      <th>2</th>\n",
              "      <td>LAXMIMACH</td>\n",
              "      <td>EQ</td>\n",
              "      <td>2017-05-17</td>\n",
              "      <td>4589.80</td>\n",
              "      <td>4500.00</td>\n",
              "      <td>4675.2</td>\n",
              "      <td>4500.00</td>\n",
              "      <td>4610.0</td>\n",
              "      <td>4637.25</td>\n",
              "      <td>4608.88</td>\n",
              "      <td>6320</td>\n",
              "      <td>29128119.85</td>\n",
              "      <td>1035</td>\n",
              "      <td>2876</td>\n",
              "      <td>45.51</td>\n",
              "      <td>5</td>\n",
              "      <td>2017</td>\n",
              "    </tr>\n",
              "    <tr>\n",
              "      <th>3</th>\n",
              "      <td>LAXMIMACH</td>\n",
              "      <td>EQ</td>\n",
              "      <td>2017-05-18</td>\n",
              "      <td>4637.25</td>\n",
              "      <td>4599.95</td>\n",
              "      <td>4624.8</td>\n",
              "      <td>4515.10</td>\n",
              "      <td>4515.1</td>\n",
              "      <td>4544.45</td>\n",
              "      <td>4567.74</td>\n",
              "      <td>4500</td>\n",
              "      <td>20554835.90</td>\n",
              "      <td>831</td>\n",
              "      <td>2776</td>\n",
              "      <td>61.69</td>\n",
              "      <td>5</td>\n",
              "      <td>2017</td>\n",
              "    </tr>\n",
              "    <tr>\n",
              "      <th>4</th>\n",
              "      <td>LAXMIMACH</td>\n",
              "      <td>EQ</td>\n",
              "      <td>2017-05-19</td>\n",
              "      <td>4544.45</td>\n",
              "      <td>4586.90</td>\n",
              "      <td>4648.0</td>\n",
              "      <td>4490.00</td>\n",
              "      <td>4521.0</td>\n",
              "      <td>4522.70</td>\n",
              "      <td>4556.21</td>\n",
              "      <td>4190</td>\n",
              "      <td>19090528.50</td>\n",
              "      <td>990</td>\n",
              "      <td>1944</td>\n",
              "      <td>46.40</td>\n",
              "      <td>5</td>\n",
              "      <td>2017</td>\n",
              "    </tr>\n",
              "  </tbody>\n",
              "</table>\n",
              "</div>"
            ],
            "text/plain": [
              "      Symbol Series       Date  ...  % Dly Qt to Traded Qty  month  year\n",
              "0  LAXMIMACH     EQ 2017-05-15  ...                   57.24      5  2017\n",
              "1  LAXMIMACH     EQ 2017-05-16  ...                   66.29      5  2017\n",
              "2  LAXMIMACH     EQ 2017-05-17  ...                   45.51      5  2017\n",
              "3  LAXMIMACH     EQ 2017-05-18  ...                   61.69      5  2017\n",
              "4  LAXMIMACH     EQ 2017-05-19  ...                   46.40      5  2017\n",
              "\n",
              "[5 rows x 17 columns]"
            ]
          },
          "metadata": {
            "tags": []
          },
          "execution_count": 80
        }
      ]
    },
    {
      "cell_type": "code",
      "metadata": {
        "id": "BKpawbFivtaZ",
        "colab_type": "code",
        "colab": {}
      },
      "source": [
        "#to group both the datasets by months and years.\n",
        "Laxmi=Laxmi.groupby([(Laxmi['year']),(Laxmi['month'])]).sum()\n",
        "\n",
        "nifty50=nifty50.groupby([(nifty50['year']),(nifty50['month'])]).sum()"
      ],
      "execution_count": 0,
      "outputs": []
    },
    {
      "cell_type": "code",
      "metadata": {
        "id": "1nBk4lahv2pL",
        "colab_type": "code",
        "outputId": "8e74e7c5-d008-428a-a131-8bd5540400b2",
        "colab": {
          "base_uri": "https://localhost:8080/",
          "height": 235
        }
      },
      "source": [
        "nifty50.head()"
      ],
      "execution_count": 0,
      "outputs": [
        {
          "output_type": "execute_result",
          "data": {
            "text/html": [
              "<div>\n",
              "<style scoped>\n",
              "    .dataframe tbody tr th:only-of-type {\n",
              "        vertical-align: middle;\n",
              "    }\n",
              "\n",
              "    .dataframe tbody tr th {\n",
              "        vertical-align: top;\n",
              "    }\n",
              "\n",
              "    .dataframe thead th {\n",
              "        text-align: right;\n",
              "    }\n",
              "</style>\n",
              "<table border=\"1\" class=\"dataframe\">\n",
              "  <thead>\n",
              "    <tr style=\"text-align: right;\">\n",
              "      <th></th>\n",
              "      <th></th>\n",
              "      <th>Open</th>\n",
              "      <th>High</th>\n",
              "      <th>Low</th>\n",
              "      <th>Close</th>\n",
              "      <th>Shares Traded</th>\n",
              "      <th>Turnover (Rs. Cr)</th>\n",
              "    </tr>\n",
              "    <tr>\n",
              "      <th>year</th>\n",
              "      <th>month</th>\n",
              "      <th></th>\n",
              "      <th></th>\n",
              "      <th></th>\n",
              "      <th></th>\n",
              "      <th></th>\n",
              "      <th></th>\n",
              "    </tr>\n",
              "  </thead>\n",
              "  <tbody>\n",
              "    <tr>\n",
              "      <th rowspan=\"5\" valign=\"top\">2017</th>\n",
              "      <th>5</th>\n",
              "      <td>123350.50</td>\n",
              "      <td>123923.35</td>\n",
              "      <td>122926.70</td>\n",
              "      <td>123481.25</td>\n",
              "      <td>3033425674</td>\n",
              "      <td>152111.08</td>\n",
              "    </tr>\n",
              "    <tr>\n",
              "      <th>6</th>\n",
              "      <td>202049.90</td>\n",
              "      <td>202510.25</td>\n",
              "      <td>201219.75</td>\n",
              "      <td>201746.05</td>\n",
              "      <td>3667933334</td>\n",
              "      <td>194462.80</td>\n",
              "    </tr>\n",
              "    <tr>\n",
              "      <th>7</th>\n",
              "      <td>206712.80</td>\n",
              "      <td>207362.90</td>\n",
              "      <td>205982.35</td>\n",
              "      <td>206852.50</td>\n",
              "      <td>3849451776</td>\n",
              "      <td>208783.83</td>\n",
              "    </tr>\n",
              "    <tr>\n",
              "      <th>8</th>\n",
              "      <td>208332.50</td>\n",
              "      <td>208864.70</td>\n",
              "      <td>207149.85</td>\n",
              "      <td>207924.85</td>\n",
              "      <td>4296596163</td>\n",
              "      <td>223540.74</td>\n",
              "    </tr>\n",
              "    <tr>\n",
              "      <th>9</th>\n",
              "      <td>209966.65</td>\n",
              "      <td>210486.50</td>\n",
              "      <td>208772.15</td>\n",
              "      <td>209536.25</td>\n",
              "      <td>4294085247</td>\n",
              "      <td>218201.28</td>\n",
              "    </tr>\n",
              "  </tbody>\n",
              "</table>\n",
              "</div>"
            ],
            "text/plain": [
              "                 Open       High  ...  Shares Traded  Turnover (Rs. Cr)\n",
              "year month                        ...                                  \n",
              "2017 5      123350.50  123923.35  ...     3033425674          152111.08\n",
              "     6      202049.90  202510.25  ...     3667933334          194462.80\n",
              "     7      206712.80  207362.90  ...     3849451776          208783.83\n",
              "     8      208332.50  208864.70  ...     4296596163          223540.74\n",
              "     9      209966.65  210486.50  ...     4294085247          218201.28\n",
              "\n",
              "[5 rows x 6 columns]"
            ]
          },
          "metadata": {
            "tags": []
          },
          "execution_count": 82
        }
      ]
    },
    {
      "cell_type": "code",
      "metadata": {
        "id": "85K_O8TMpcfh",
        "colab_type": "code",
        "colab": {}
      },
      "source": [
        "#make a new dataframe with closing prices for both the datasets.\n",
        "monthly_prices = pd.concat([Laxmi['Close Price'], nifty50['Close']], axis=1)\n",
        "monthly_prices.columns = ['Laxmi', 'nifty50']"
      ],
      "execution_count": 0,
      "outputs": []
    },
    {
      "cell_type": "code",
      "metadata": {
        "id": "Ly4ACZb-qNlo",
        "colab_type": "code",
        "outputId": "1a360aed-17d0-4b12-8ab6-22dc144bcc7a",
        "colab": {
          "base_uri": "https://localhost:8080/",
          "height": 235
        }
      },
      "source": [
        "monthly_prices.head(5)"
      ],
      "execution_count": 0,
      "outputs": [
        {
          "output_type": "execute_result",
          "data": {
            "text/html": [
              "<div>\n",
              "<style scoped>\n",
              "    .dataframe tbody tr th:only-of-type {\n",
              "        vertical-align: middle;\n",
              "    }\n",
              "\n",
              "    .dataframe tbody tr th {\n",
              "        vertical-align: top;\n",
              "    }\n",
              "\n",
              "    .dataframe thead th {\n",
              "        text-align: right;\n",
              "    }\n",
              "</style>\n",
              "<table border=\"1\" class=\"dataframe\">\n",
              "  <thead>\n",
              "    <tr style=\"text-align: right;\">\n",
              "      <th></th>\n",
              "      <th></th>\n",
              "      <th>Laxmi</th>\n",
              "      <th>nifty50</th>\n",
              "    </tr>\n",
              "    <tr>\n",
              "      <th>year</th>\n",
              "      <th>month</th>\n",
              "      <th></th>\n",
              "      <th></th>\n",
              "    </tr>\n",
              "  </thead>\n",
              "  <tbody>\n",
              "    <tr>\n",
              "      <th rowspan=\"5\" valign=\"top\">2017</th>\n",
              "      <th>5</th>\n",
              "      <td>58758.95</td>\n",
              "      <td>123481.25</td>\n",
              "    </tr>\n",
              "    <tr>\n",
              "      <th>6</th>\n",
              "      <td>106507.35</td>\n",
              "      <td>201746.05</td>\n",
              "    </tr>\n",
              "    <tr>\n",
              "      <th>7</th>\n",
              "      <td>113280.40</td>\n",
              "      <td>206852.50</td>\n",
              "    </tr>\n",
              "    <tr>\n",
              "      <th>8</th>\n",
              "      <td>125756.05</td>\n",
              "      <td>207924.85</td>\n",
              "    </tr>\n",
              "    <tr>\n",
              "      <th>9</th>\n",
              "      <td>124913.60</td>\n",
              "      <td>209536.25</td>\n",
              "    </tr>\n",
              "  </tbody>\n",
              "</table>\n",
              "</div>"
            ],
            "text/plain": [
              "                Laxmi    nifty50\n",
              "year month                      \n",
              "2017 5       58758.95  123481.25\n",
              "     6      106507.35  201746.05\n",
              "     7      113280.40  206852.50\n",
              "     8      125756.05  207924.85\n",
              "     9      124913.60  209536.25"
            ]
          },
          "metadata": {
            "tags": []
          },
          "execution_count": 84
        }
      ]
    },
    {
      "cell_type": "code",
      "metadata": {
        "id": "bWOWFSZB0UJy",
        "colab_type": "code",
        "outputId": "93bb8cf6-153a-43ed-cb9f-a5c13cd5674f",
        "colab": {
          "base_uri": "https://localhost:8080/",
          "height": 136
        }
      },
      "source": [
        "#calculate percentage changes in monthly prices for both the datasets.\n",
        "#don't forget to drop all the null values from the new dataframe.\n",
        "monthly_returns = monthly_prices.pct_change(1)\n",
        "clean_monthly_returns = monthly_returns.dropna(axis=0) *100  # drop first missing row\n",
        "print(clean_monthly_returns.head(5))"
      ],
      "execution_count": 0,
      "outputs": [
        {
          "output_type": "stream",
          "text": [
            "                Laxmi    nifty50\n",
            "year month                      \n",
            "2017 6      81.261493  63.381930\n",
            "     7       6.359232   2.531128\n",
            "     8      11.013070   0.518413\n",
            "     9      -0.669908   0.774992\n",
            "     10     -6.279500  -3.227461\n"
          ],
          "name": "stdout"
        }
      ]
    },
    {
      "cell_type": "markdown",
      "metadata": {
        "id": "JIHzmADb_kZU",
        "colab_type": "text"
      },
      "source": [
        "**Good! Now that we have a clean set of monthly returns on LAXMIMACH and Nifty 50. Let’s go ahead and make the Ordinary Least Square (OLS)Regression with Statsmodels.**\n"
      ]
    },
    {
      "cell_type": "code",
      "metadata": {
        "id": "07VXi2xz0juj",
        "colab_type": "code",
        "outputId": "6b93c786-96af-47c1-c5f4-3a5cdc295dd6",
        "colab": {
          "base_uri": "https://localhost:8080/",
          "height": 496
        }
      },
      "source": [
        "import statsmodels.api as sm\n",
        "# split dependent and independent variable\n",
        "X = clean_monthly_returns['nifty50']\n",
        "y = clean_monthly_returns['Laxmi']\n",
        "\n",
        "# Add a constant to the independent value\n",
        "X1 = sm.add_constant(X)\n",
        "\n",
        "# make regression model \n",
        "model = sm.OLS(y, X1)\n",
        "\n",
        "# fit model and print results\n",
        "results = model.fit()\n",
        "print(results.summary())"
      ],
      "execution_count": 0,
      "outputs": [
        {
          "output_type": "stream",
          "text": [
            "                            OLS Regression Results                            \n",
            "==============================================================================\n",
            "Dep. Variable:                  Laxmi   R-squared:                       0.916\n",
            "Model:                            OLS   Adj. R-squared:                  0.912\n",
            "Method:                 Least Squares   F-statistic:                     238.5\n",
            "Date:                Fri, 12 Jul 2019   Prob (F-statistic):           2.74e-13\n",
            "Time:                        05:45:16   Log-Likelihood:                -80.383\n",
            "No. Observations:                  24   AIC:                             164.8\n",
            "Df Residuals:                      22   BIC:                             167.1\n",
            "Df Model:                           1                                         \n",
            "Covariance Type:            nonrobust                                         \n",
            "==============================================================================\n",
            "                 coef    std err          t      P>|t|      [0.025      0.975]\n",
            "------------------------------------------------------------------------------\n",
            "const          0.7036      1.471      0.478      0.637      -2.347       3.754\n",
            "nifty50        1.1618      0.075     15.442      0.000       1.006       1.318\n",
            "==============================================================================\n",
            "Omnibus:                        1.485   Durbin-Watson:                   1.268\n",
            "Prob(Omnibus):                  0.476   Jarque-Bera (JB):                1.100\n",
            "Skew:                           0.271   Prob(JB):                        0.577\n",
            "Kurtosis:                       2.102   Cond. No.                         19.6\n",
            "==============================================================================\n",
            "\n",
            "Warnings:\n",
            "[1] Standard Errors assume that the covariance matrix of the errors is correctly specified.\n"
          ],
          "name": "stdout"
        },
        {
          "output_type": "stream",
          "text": [
            "/usr/local/lib/python3.6/dist-packages/numpy/core/fromnumeric.py:2389: FutureWarning: Method .ptp is deprecated and will be removed in a future version. Use numpy.ptp instead.\n",
            "  return ptp(axis=axis, out=out, **kwargs)\n"
          ],
          "name": "stderr"
        }
      ]
    },
    {
      "cell_type": "code",
      "metadata": {
        "id": "gK_fEql404fe",
        "colab_type": "code",
        "outputId": "8cf4fa67-ae25-4c28-8693-197c22e6ac99",
        "colab": {
          "base_uri": "https://localhost:8080/",
          "height": 34
        }
      },
      "source": [
        "# alternatively scipy linear regression\n",
        "from scipy import stats\n",
        "slope, intercept, r_value, p_value, std_err = stats.linregress(X, y)\n",
        "\n",
        "print(slope)"
      ],
      "execution_count": 0,
      "outputs": [
        {
          "output_type": "stream",
          "text": [
            "1.1617715669800723\n"
          ],
          "name": "stdout"
        }
      ]
    },
    {
      "cell_type": "markdown",
      "metadata": {
        "id": "G3kM5V4topeQ",
        "colab_type": "text"
      },
      "source": [
        "**As you can see from the summary, the coefficient value for (LAXMIMACH) is 1.1635, which is also confirmed by the slope of our linear mapping.**\n",
        "\n",
        "**Thus we can infer that our beta value for our monthly returns over the last 3 years is greater than 1, thus suggesting thet our stock i.e. LAXMIMACH is MORE volatile than it's benchmark i.e. Nifty 50.**\n",
        "\n",
        "**In this method, we regress the company’s stock returns against the market’s returns. The beta (β) is represented by the slope of the regression line.**\n",
        "\n",
        " **stock_return= 1.1617 * market_return + (0.7036)**\n",
        " \n",
        "**High-beta stocks are supposed to be riskier but provide a potential for higher returns; low-beta stocks pose less risk but also lower returns, we can understand that for last 3 months our stocks is infact less volatile than market index, we can confirm this by seeing the trend in our stocks for last 3 months, but over the last 3 years our stock has shown higher volitality over the monthly returns and thus offer high returns at the cost of high risk.**"
      ]
    }
  ]
}