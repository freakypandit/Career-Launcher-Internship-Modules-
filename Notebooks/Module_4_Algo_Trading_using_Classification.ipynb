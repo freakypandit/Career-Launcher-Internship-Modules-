{
  "nbformat": 4,
  "nbformat_minor": 0,
  "metadata": {
    "colab": {
      "name": "Module 4 - Algo Trading using Classification.ipynb",
      "provenance": [],
      "collapsed_sections": []
    },
    "kernelspec": {
      "name": "python3",
      "display_name": "Python 3"
    }
  },
  "cells": [
    {
      "cell_type": "markdown",
      "metadata": {
        "id": "jaWCwgSMxRcj",
        "colab_type": "text"
      },
      "source": [
        "##Module 4 -\n",
        "\n",
        "### Solution notebook for module 4"
      ]
    },
    {
      "cell_type": "code",
      "metadata": {
        "id": "eiUAG3ae9sUx",
        "colab_type": "code",
        "outputId": "c89e9f42-c138-4644-df39-dca8405b7f7e",
        "colab": {
          "base_uri": "https://localhost:8080/",
          "height": 34
        }
      },
      "source": [
        "# Run this cell to mount your Google Drive.\n",
        "from google.colab import drive\n",
        "drive.mount('/content/drive')"
      ],
      "execution_count": 0,
      "outputs": [
        {
          "output_type": "stream",
          "text": [
            "Drive already mounted at /content/drive; to attempt to forcibly remount, call drive.mount(\"/content/drive\", force_remount=True).\n"
          ],
          "name": "stdout"
        }
      ]
    },
    {
      "cell_type": "markdown",
      "metadata": {
        "id": "SfrKF8rKxeoe",
        "colab_type": "text"
      },
      "source": [
        "\n",
        "\n",
        "---\n",
        "\n",
        "\n",
        "##Query 4.1\n",
        "\n",
        "    -- Import the csv file of the stock which contained the Bollinger columns as well.\n",
        "    Create a new column 'Call' , whose entries are - \n",
        "      - 'Buy' if the stock price is below the lower Bollinger band \n",
        "      - 'Hold Buy/ Liquidate Short' if the stock price is between the lower and middle Bollinger band \n",
        "      - 'Hold Short/ Liquidate Buy' if the stock price is between the middle and upper Bollinger band \n",
        "      - 'Short' if the stock price is above the upper Bollinger band\n",
        "    \n",
        "    -- Now train a classification model with the 3 bollinger columns and the stock price as inputs and 'Calls' as output. Check the accuracy on a test set. (There are many classifier models to choose from, try each one out and compare the accuracy for each)\n",
        "    \n",
        "    -- Import another stock data and create the bollinger columns. Using the already defined model, predict the daily calls for this new stock."
      ]
    },
    {
      "cell_type": "code",
      "metadata": {
        "id": "saPtJqE5yP8G",
        "colab_type": "code",
        "colab": {}
      },
      "source": [
        "#imports for our notebook\n",
        "\n",
        "import numpy as np\n",
        "import pandas as pd\n",
        "import sklearn\n",
        "\n",
        "import seaborn as sns\n",
        "import matplotlib.pyplot as plt\n",
        "%matplotlib inline\n",
        "%config InlineBackend.figure_format='retina'\n",
        "plt.rcParams['figure.figsize'] = (20,8)"
      ],
      "execution_count": 0,
      "outputs": []
    },
    {
      "cell_type": "code",
      "metadata": {
        "id": "zG6BnfiGBqkQ",
        "colab_type": "code",
        "outputId": "4824bcde-bcf0-4aaf-c487-a848c97c83d7",
        "colab": {
          "base_uri": "https://localhost:8080/",
          "height": 357
        }
      },
      "source": [
        "#load our data\n",
        "data= pd.read_csv('drive/My Drive/LAXMIMACH.csv')\n",
        "data.info()"
      ],
      "execution_count": 0,
      "outputs": [
        {
          "output_type": "stream",
          "text": [
            "<class 'pandas.core.frame.DataFrame'>\n",
            "RangeIndex: 494 entries, 0 to 493\n",
            "Data columns (total 15 columns):\n",
            "Symbol                    494 non-null object\n",
            "Series                    494 non-null object\n",
            "Date                      494 non-null object\n",
            "Prev Close                494 non-null float64\n",
            "Open Price                494 non-null float64\n",
            "High Price                494 non-null float64\n",
            "Low Price                 494 non-null float64\n",
            "Last Price                494 non-null float64\n",
            "Close Price               494 non-null float64\n",
            "Average Price             494 non-null float64\n",
            "Total Traded Quantity     494 non-null int64\n",
            "Turnover                  494 non-null float64\n",
            "No. of Trades             494 non-null int64\n",
            "Deliverable Qty           494 non-null int64\n",
            "% Dly Qt to Traded Qty    494 non-null float64\n",
            "dtypes: float64(9), int64(3), object(3)\n",
            "memory usage: 58.0+ KB\n"
          ],
          "name": "stdout"
        }
      ]
    },
    {
      "cell_type": "markdown",
      "metadata": {
        "id": "6JEoTOV0ywTc",
        "colab_type": "text"
      },
      "source": [
        "**The next task would be to add bollinger bands to this dataframe, we will add 3 bollinger bands, an upper band, a lower band and a moving average as a middle band.**\n",
        "\n",
        "**Edit 1: I did not save bollinger values with data earlier (saved them in different file), so instead of importing that data , i'll add the column to this file as well.**"
      ]
    },
    {
      "cell_type": "code",
      "metadata": {
        "id": "2oD2NRMjBydM",
        "colab_type": "code",
        "colab": {}
      },
      "source": [
        "#the piece of code here is same as that used earlier to build bollinger bands.\n",
        "band_dur= 14\n",
        "no_of_std= 2\n",
        "\n",
        "rolling_mean = data['Close Price'].rolling(window= band_dur).mean()\n",
        "rolling_std = data['Close Price'].rolling(window= band_dur).std()\n",
        "\n",
        "#middle band\n",
        "data['Rolling_Avg']= rolling_mean\n",
        "\n",
        "#upper band\n",
        "data['Upper Band'] = rolling_mean + (rolling_std * no_of_std)\n",
        "\n",
        "#lower band\n",
        "data['Lower Band'] = rolling_mean - (rolling_std * no_of_std) "
      ],
      "execution_count": 0,
      "outputs": []
    },
    {
      "cell_type": "code",
      "metadata": {
        "id": "7UgyikT8z6hO",
        "colab_type": "code",
        "outputId": "649bfa4c-6ac4-4d87-c6b8-341190ecc187",
        "colab": {
          "base_uri": "https://localhost:8080/",
          "height": 351
        }
      },
      "source": [
        "data.describe()"
      ],
      "execution_count": 0,
      "outputs": [
        {
          "output_type": "execute_result",
          "data": {
            "text/html": [
              "<div>\n",
              "<style scoped>\n",
              "    .dataframe tbody tr th:only-of-type {\n",
              "        vertical-align: middle;\n",
              "    }\n",
              "\n",
              "    .dataframe tbody tr th {\n",
              "        vertical-align: top;\n",
              "    }\n",
              "\n",
              "    .dataframe thead th {\n",
              "        text-align: right;\n",
              "    }\n",
              "</style>\n",
              "<table border=\"1\" class=\"dataframe\">\n",
              "  <thead>\n",
              "    <tr style=\"text-align: right;\">\n",
              "      <th></th>\n",
              "      <th>Prev Close</th>\n",
              "      <th>Open Price</th>\n",
              "      <th>High Price</th>\n",
              "      <th>Low Price</th>\n",
              "      <th>Last Price</th>\n",
              "      <th>Close Price</th>\n",
              "      <th>Average Price</th>\n",
              "      <th>Total Traded Quantity</th>\n",
              "      <th>Turnover</th>\n",
              "      <th>No. of Trades</th>\n",
              "      <th>Deliverable Qty</th>\n",
              "      <th>% Dly Qt to Traded Qty</th>\n",
              "      <th>Rolling_Avg</th>\n",
              "      <th>Upper Band</th>\n",
              "      <th>Lower Band</th>\n",
              "    </tr>\n",
              "  </thead>\n",
              "  <tbody>\n",
              "    <tr>\n",
              "      <th>count</th>\n",
              "      <td>494.000000</td>\n",
              "      <td>494.000000</td>\n",
              "      <td>494.000000</td>\n",
              "      <td>494.000000</td>\n",
              "      <td>494.000000</td>\n",
              "      <td>494.000000</td>\n",
              "      <td>494.000000</td>\n",
              "      <td>494.000000</td>\n",
              "      <td>4.940000e+02</td>\n",
              "      <td>494.000000</td>\n",
              "      <td>494.000000</td>\n",
              "      <td>494.000000</td>\n",
              "      <td>481.000000</td>\n",
              "      <td>481.000000</td>\n",
              "      <td>481.000000</td>\n",
              "    </tr>\n",
              "    <tr>\n",
              "      <th>mean</th>\n",
              "      <td>6282.411640</td>\n",
              "      <td>6292.694332</td>\n",
              "      <td>6381.254251</td>\n",
              "      <td>6209.717105</td>\n",
              "      <td>6282.211437</td>\n",
              "      <td>6284.197267</td>\n",
              "      <td>6292.729899</td>\n",
              "      <td>6104.172065</td>\n",
              "      <td>3.936248e+07</td>\n",
              "      <td>1340.325911</td>\n",
              "      <td>3778.125506</td>\n",
              "      <td>63.735931</td>\n",
              "      <td>6317.113120</td>\n",
              "      <td>6643.970455</td>\n",
              "      <td>5990.255785</td>\n",
              "    </tr>\n",
              "    <tr>\n",
              "      <th>std</th>\n",
              "      <td>977.684756</td>\n",
              "      <td>979.732187</td>\n",
              "      <td>995.233583</td>\n",
              "      <td>956.189419</td>\n",
              "      <td>973.272163</td>\n",
              "      <td>975.321352</td>\n",
              "      <td>976.206285</td>\n",
              "      <td>7039.116612</td>\n",
              "      <td>4.608108e+07</td>\n",
              "      <td>1213.791291</td>\n",
              "      <td>4777.258890</td>\n",
              "      <td>12.650891</td>\n",
              "      <td>945.026449</td>\n",
              "      <td>1045.670005</td>\n",
              "      <td>880.583029</td>\n",
              "    </tr>\n",
              "    <tr>\n",
              "      <th>min</th>\n",
              "      <td>4360.350000</td>\n",
              "      <td>4336.550000</td>\n",
              "      <td>4416.000000</td>\n",
              "      <td>4316.500000</td>\n",
              "      <td>4355.000000</td>\n",
              "      <td>4360.350000</td>\n",
              "      <td>4390.880000</td>\n",
              "      <td>566.000000</td>\n",
              "      <td>3.239942e+06</td>\n",
              "      <td>218.000000</td>\n",
              "      <td>384.000000</td>\n",
              "      <td>27.610000</td>\n",
              "      <td>4536.760714</td>\n",
              "      <td>4763.803127</td>\n",
              "      <td>4112.593834</td>\n",
              "    </tr>\n",
              "    <tr>\n",
              "      <th>25%</th>\n",
              "      <td>5714.962500</td>\n",
              "      <td>5724.212500</td>\n",
              "      <td>5789.000000</td>\n",
              "      <td>5672.062500</td>\n",
              "      <td>5717.137500</td>\n",
              "      <td>5714.962500</td>\n",
              "      <td>5722.772500</td>\n",
              "      <td>2201.000000</td>\n",
              "      <td>1.314080e+07</td>\n",
              "      <td>591.250000</td>\n",
              "      <td>1480.750000</td>\n",
              "      <td>55.610000</td>\n",
              "      <td>5757.771429</td>\n",
              "      <td>5915.447492</td>\n",
              "      <td>5512.640787</td>\n",
              "    </tr>\n",
              "    <tr>\n",
              "      <th>50%</th>\n",
              "      <td>5948.675000</td>\n",
              "      <td>5967.650000</td>\n",
              "      <td>6050.000000</td>\n",
              "      <td>5875.000000</td>\n",
              "      <td>5946.000000</td>\n",
              "      <td>5948.675000</td>\n",
              "      <td>5950.125000</td>\n",
              "      <td>3954.000000</td>\n",
              "      <td>2.464435e+07</td>\n",
              "      <td>976.500000</td>\n",
              "      <td>2463.500000</td>\n",
              "      <td>64.075000</td>\n",
              "      <td>5947.617857</td>\n",
              "      <td>6210.344570</td>\n",
              "      <td>5697.370097</td>\n",
              "    </tr>\n",
              "    <tr>\n",
              "      <th>75%</th>\n",
              "      <td>6774.900000</td>\n",
              "      <td>6745.275000</td>\n",
              "      <td>6893.000000</td>\n",
              "      <td>6607.825000</td>\n",
              "      <td>6785.750000</td>\n",
              "      <td>6774.900000</td>\n",
              "      <td>6749.005000</td>\n",
              "      <td>6892.750000</td>\n",
              "      <td>4.496040e+07</td>\n",
              "      <td>1645.000000</td>\n",
              "      <td>4223.750000</td>\n",
              "      <td>71.877500</td>\n",
              "      <td>6880.214286</td>\n",
              "      <td>7301.552331</td>\n",
              "      <td>6249.876674</td>\n",
              "    </tr>\n",
              "    <tr>\n",
              "      <th>max</th>\n",
              "      <td>9249.900000</td>\n",
              "      <td>9300.000000</td>\n",
              "      <td>9383.550000</td>\n",
              "      <td>9106.000000</td>\n",
              "      <td>9236.000000</td>\n",
              "      <td>9249.900000</td>\n",
              "      <td>9282.660000</td>\n",
              "      <td>62697.000000</td>\n",
              "      <td>3.794485e+08</td>\n",
              "      <td>12808.000000</td>\n",
              "      <td>56218.000000</td>\n",
              "      <td>97.880000</td>\n",
              "      <td>8839.600000</td>\n",
              "      <td>9594.580690</td>\n",
              "      <td>8363.635360</td>\n",
              "    </tr>\n",
              "  </tbody>\n",
              "</table>\n",
              "</div>"
            ],
            "text/plain": [
              "        Prev Close   Open Price  ...   Upper Band   Lower Band\n",
              "count   494.000000   494.000000  ...   481.000000   481.000000\n",
              "mean   6282.411640  6292.694332  ...  6643.970455  5990.255785\n",
              "std     977.684756   979.732187  ...  1045.670005   880.583029\n",
              "min    4360.350000  4336.550000  ...  4763.803127  4112.593834\n",
              "25%    5714.962500  5724.212500  ...  5915.447492  5512.640787\n",
              "50%    5948.675000  5967.650000  ...  6210.344570  5697.370097\n",
              "75%    6774.900000  6745.275000  ...  7301.552331  6249.876674\n",
              "max    9249.900000  9300.000000  ...  9594.580690  8363.635360\n",
              "\n",
              "[8 rows x 15 columns]"
            ]
          },
          "metadata": {
            "tags": []
          },
          "execution_count": 280
        }
      ]
    },
    {
      "cell_type": "code",
      "metadata": {
        "id": "Hxa1WnYw0MOK",
        "colab_type": "code",
        "outputId": "16738fa8-b098-4848-e001-210968110947",
        "colab": {
          "base_uri": "https://localhost:8080/",
          "height": 85
        }
      },
      "source": [
        "missing_data= data.isnull().sum()/len(data)\n",
        "missing_data= missing_data[missing_data > 0]\n",
        "\n",
        "missing_data=missing_data.sort_values()\n",
        "\n",
        "print(missing_data)"
      ],
      "execution_count": 0,
      "outputs": [
        {
          "output_type": "stream",
          "text": [
            "Rolling_Avg    0.026316\n",
            "Upper Band     0.026316\n",
            "Lower Band     0.026316\n",
            "dtype: float64\n"
          ],
          "name": "stdout"
        }
      ]
    },
    {
      "cell_type": "markdown",
      "metadata": {
        "id": "3R6S_ll00A5G",
        "colab_type": "text"
      },
      "source": [
        "**We can see that we added three columns but we have some missing values in these columns. So we need to handle these missing values before further operation.**\n",
        "\n",
        "**We will remove these rows, as filling these with 0 might result in unwanted outliers.**"
      ]
    },
    {
      "cell_type": "code",
      "metadata": {
        "id": "m48JiTkR0_tO",
        "colab_type": "code",
        "outputId": "4e730e2a-ca32-40b9-d6f4-9234d5058735",
        "colab": {
          "base_uri": "https://localhost:8080/",
          "height": 85
        }
      },
      "source": [
        "#removing all rows with NULL values in any column\n",
        "data= data.dropna()\n",
        "\n",
        "#to reset the index back to 0.\n",
        "data.index -= 13\n",
        "\n",
        "data.index"
      ],
      "execution_count": 0,
      "outputs": [
        {
          "output_type": "execute_result",
          "data": {
            "text/plain": [
              "Int64Index([  0,   1,   2,   3,   4,   5,   6,   7,   8,   9,\n",
              "            ...\n",
              "            471, 472, 473, 474, 475, 476, 477, 478, 479, 480],\n",
              "           dtype='int64', length=481)"
            ]
          },
          "metadata": {
            "tags": []
          },
          "execution_count": 282
        }
      ]
    },
    {
      "cell_type": "markdown",
      "metadata": {
        "id": "05SpCrKb1JY4",
        "colab_type": "text"
      },
      "source": [
        "**The first task is to create a new column 'call', below given code does that.**"
      ]
    },
    {
      "cell_type": "code",
      "metadata": {
        "id": "jL12eSj4Fadj",
        "colab_type": "code",
        "outputId": "da38c6b0-c53a-460c-91d2-42890c9f4f65",
        "colab": {
          "base_uri": "https://localhost:8080/",
          "height": 357
        }
      },
      "source": [
        "data['call']= 'Call'\n",
        "\n",
        "for i in range(0, 480):\n",
        "  \n",
        "  #we will use conditional statements to fill values in the new column\n",
        "  if (data['Close Price'][i] < data['Lower Band'][i]):\n",
        "    data['call'][i]= 'Buy'\n",
        "    \n",
        "  elif (data['Close Price'][i] > data['Lower Band'][i] and data['Close Price'][i] < data['Rolling_Avg'][i]):\n",
        "    data['call'][i]= 'Hold Buy/ Liquidate Short'\n",
        "    \n",
        "  elif (data['Close Price'][i] < data['Upper Band'][i] and data['Close Price'][i] > data['Rolling_Avg'][i]):\n",
        "    data['call'][i]= 'Hold Short/ Liquidate Buy'\n",
        "      \n",
        "  elif (data['Close Price'][i] > data['Upper Band'][i]):\n",
        "    data['call'][i]= 'Short'\n",
        "  \n",
        "  else:\n",
        "    data['call'][i]= None"
      ],
      "execution_count": 0,
      "outputs": [
        {
          "output_type": "stream",
          "text": [
            "/usr/local/lib/python3.6/dist-packages/ipykernel_launcher.py:13: SettingWithCopyWarning: \n",
            "A value is trying to be set on a copy of a slice from a DataFrame\n",
            "\n",
            "See the caveats in the documentation: http://pandas.pydata.org/pandas-docs/stable/indexing.html#indexing-view-versus-copy\n",
            "  del sys.path[0]\n",
            "/usr/local/lib/python3.6/dist-packages/ipykernel_launcher.py:16: SettingWithCopyWarning: \n",
            "A value is trying to be set on a copy of a slice from a DataFrame\n",
            "\n",
            "See the caveats in the documentation: http://pandas.pydata.org/pandas-docs/stable/indexing.html#indexing-view-versus-copy\n",
            "  app.launch_new_instance()\n",
            "/usr/local/lib/python3.6/dist-packages/ipykernel_launcher.py:10: SettingWithCopyWarning: \n",
            "A value is trying to be set on a copy of a slice from a DataFrame\n",
            "\n",
            "See the caveats in the documentation: http://pandas.pydata.org/pandas-docs/stable/indexing.html#indexing-view-versus-copy\n",
            "  # Remove the CWD from sys.path while we load stuff.\n",
            "/usr/local/lib/python3.6/dist-packages/ipykernel_launcher.py:7: SettingWithCopyWarning: \n",
            "A value is trying to be set on a copy of a slice from a DataFrame\n",
            "\n",
            "See the caveats in the documentation: http://pandas.pydata.org/pandas-docs/stable/indexing.html#indexing-view-versus-copy\n",
            "  import sys\n"
          ],
          "name": "stderr"
        }
      ]
    },
    {
      "cell_type": "markdown",
      "metadata": {
        "id": "QLFUma4n4R9G",
        "colab_type": "text"
      },
      "source": [
        "**Now that we have sucessfully created the call column we can proceed further.**"
      ]
    },
    {
      "cell_type": "code",
      "metadata": {
        "id": "ZEWuTmpudg6O",
        "colab_type": "code",
        "outputId": "06c6e765-10fe-4770-fd3a-5023daced7ca",
        "colab": {
          "base_uri": "https://localhost:8080/",
          "height": 425
        }
      },
      "source": [
        "#to check first 5 rows of dataframe.\n",
        "data.head(5)\n",
        "\n",
        "#to chek our dataframe\n",
        "data.info()"
      ],
      "execution_count": 0,
      "outputs": [
        {
          "output_type": "stream",
          "text": [
            "<class 'pandas.core.frame.DataFrame'>\n",
            "Int64Index: 481 entries, 0 to 480\n",
            "Data columns (total 19 columns):\n",
            "Symbol                    481 non-null object\n",
            "Series                    481 non-null object\n",
            "Date                      481 non-null object\n",
            "Prev Close                481 non-null float64\n",
            "Open Price                481 non-null float64\n",
            "High Price                481 non-null float64\n",
            "Low Price                 481 non-null float64\n",
            "Last Price                481 non-null float64\n",
            "Close Price               481 non-null float64\n",
            "Average Price             481 non-null float64\n",
            "Total Traded Quantity     481 non-null int64\n",
            "Turnover                  481 non-null float64\n",
            "No. of Trades             481 non-null int64\n",
            "Deliverable Qty           481 non-null int64\n",
            "% Dly Qt to Traded Qty    481 non-null float64\n",
            "Rolling_Avg               481 non-null float64\n",
            "Upper Band                481 non-null float64\n",
            "Lower Band                481 non-null float64\n",
            "call                      481 non-null object\n",
            "dtypes: float64(12), int64(3), object(4)\n",
            "memory usage: 95.2+ KB\n"
          ],
          "name": "stdout"
        }
      ]
    },
    {
      "cell_type": "markdown",
      "metadata": {
        "id": "pPdBSJAR4tfD",
        "colab_type": "text"
      },
      "source": [
        "**The next task is to build a classification model with the 3 bollinger bands and stock price as input and call as output, to do so we would first create a new dataframe which would contain only those columns which are relevent to us for building a classification model.**"
      ]
    },
    {
      "cell_type": "code",
      "metadata": {
        "id": "HGZdjFahpU4u",
        "colab_type": "code",
        "colab": {}
      },
      "source": [
        "#data_trade is a new column with all the relevant values.\n",
        "data_trade = pd.concat([data['Close Price'], data['Rolling_Avg'], data['Lower Band'], data['Upper Band'], data['call']], axis=1)\n",
        "data_trade.columns = ['Price', 'Rolling Avg', 'Lower Band', 'Upper Band', 'call']"
      ],
      "execution_count": 0,
      "outputs": []
    },
    {
      "cell_type": "markdown",
      "metadata": {
        "id": "2m8qpueZ5bW-",
        "colab_type": "text"
      },
      "source": [
        "**Now that we have created the new dataframe, we would extract our features and label from it, and seperate it in training and testing set.**\n",
        "\n",
        "\n"
      ]
    },
    {
      "cell_type": "code",
      "metadata": {
        "id": "mJR1HvsV5ZO6",
        "colab_type": "code",
        "outputId": "a51177c1-5cfb-41ae-b8a0-d0cda5c80441",
        "colab": {
          "base_uri": "https://localhost:8080/",
          "height": 187
        }
      },
      "source": [
        "data_trade.info()"
      ],
      "execution_count": 0,
      "outputs": [
        {
          "output_type": "stream",
          "text": [
            "<class 'pandas.core.frame.DataFrame'>\n",
            "Int64Index: 481 entries, 0 to 480\n",
            "Data columns (total 5 columns):\n",
            "Price          481 non-null float64\n",
            "Rolling Avg    481 non-null float64\n",
            "Lower Band     481 non-null float64\n",
            "Upper Band     481 non-null float64\n",
            "call           481 non-null object\n",
            "dtypes: float64(4), object(1)\n",
            "memory usage: 42.5+ KB\n"
          ],
          "name": "stdout"
        }
      ]
    },
    {
      "cell_type": "code",
      "metadata": {
        "id": "KFBPk2u-gSq1",
        "colab_type": "code",
        "outputId": "6e569f72-8205-4846-f52a-5b29fcecb836",
        "colab": {
          "base_uri": "https://localhost:8080/",
          "height": 272
        }
      },
      "source": [
        "#features for our model.\n",
        "X = data_trade.iloc[:, 0: 4].values\n",
        "\n",
        "#our label\n",
        "y = data_trade.iloc[:, 4: 5].values\n",
        "\n",
        "#just to check\n",
        "print(\"The features are -- \\n {0}\\n\\nThe labels are -- \\n {1}\".format(data_trade.iloc[:, 0: 4].head(), data_trade.iloc[:, 4:5].head()))"
      ],
      "execution_count": 0,
      "outputs": [
        {
          "output_type": "stream",
          "text": [
            "The features are -- \n",
            "      Price  Rolling Avg   Lower Band   Upper Band\n",
            "0  4755.70  4536.760714  4309.718302  4763.803127\n",
            "1  4952.05  4560.903571  4244.256178  4877.550964\n",
            "2  5076.90  4595.696429  4175.318277  5016.074580\n",
            "3  5059.35  4625.846429  4137.567052  5114.125806\n",
            "4  5047.95  4661.810714  4127.368527  5196.252901\n",
            "\n",
            "The labels are -- \n",
            "                         call\n",
            "0  Hold Short/ Liquidate Buy\n",
            "1                      Short\n",
            "2                      Short\n",
            "3  Hold Short/ Liquidate Buy\n",
            "4  Hold Short/ Liquidate Buy\n"
          ],
          "name": "stdout"
        }
      ]
    },
    {
      "cell_type": "markdown",
      "metadata": {
        "id": "P-fG17pL7M9f",
        "colab_type": "text"
      },
      "source": [
        "**We can see that we have our features and labels, now we can build a model.**"
      ]
    },
    {
      "cell_type": "code",
      "metadata": {
        "id": "b73di2VMrzos",
        "colab_type": "code",
        "colab": {}
      },
      "source": [
        "# Splitting the dataset into the Training set and Test set\n",
        "from sklearn.model_selection import train_test_split\n",
        "X_train, X_test, y_train, y_test = train_test_split(X, y, test_size=0.25, random_state=0)"
      ],
      "execution_count": 0,
      "outputs": []
    },
    {
      "cell_type": "code",
      "metadata": {
        "id": "69ColEjz70lX",
        "colab_type": "code",
        "outputId": "2baf07f6-1736-434b-df4e-c4f6a53fd618",
        "colab": {
          "base_uri": "https://localhost:8080/",
          "height": 343
        }
      },
      "source": [
        "# Fitting Logistic Regression to the Training set\n",
        "from sklearn.linear_model import LogisticRegression\n",
        "classifier = LogisticRegression(random_state=0)\n",
        "classifier.fit(X_train, y_train)\n",
        "\n",
        "# Fitting naive bayse to the Training set\n",
        "from sklearn.naive_bayes import GaussianNB\n",
        "classifier_gauss = GaussianNB()\n",
        "classifier_gauss.fit(X_train, y_train)\n",
        "\n",
        "# Fitting support vector classification to the Training set\n",
        "from sklearn.svm import SVC\n",
        "classifier_svc = SVC(kernel='linear', random_state=0)\n",
        "classifier_svc.fit(X_train, y_train)\n",
        "\n",
        "# Fitting decision tree to Training set\n",
        "from sklearn.tree import DecisionTreeClassifier\n",
        "classifier_tree= DecisionTreeClassifier(random_state=0, max_depth=2)\n",
        "classifier_tree.fit(X_train, y_train)\n",
        "\n",
        "# Fitting random forest to the Training set\n",
        "from sklearn.ensemble import RandomForestClassifier\n",
        "classifier_rf = RandomForestClassifier(n_estimators=10, criterion='entropy', random_state=0)\n",
        "classifier_rf.fit(X_train, y_train)"
      ],
      "execution_count": 0,
      "outputs": [
        {
          "output_type": "stream",
          "text": [
            "/usr/local/lib/python3.6/dist-packages/sklearn/linear_model/logistic.py:432: FutureWarning: Default solver will be changed to 'lbfgs' in 0.22. Specify a solver to silence this warning.\n",
            "  FutureWarning)\n",
            "/usr/local/lib/python3.6/dist-packages/sklearn/utils/validation.py:724: DataConversionWarning: A column-vector y was passed when a 1d array was expected. Please change the shape of y to (n_samples, ), for example using ravel().\n",
            "  y = column_or_1d(y, warn=True)\n",
            "/usr/local/lib/python3.6/dist-packages/sklearn/linear_model/logistic.py:469: FutureWarning: Default multi_class will be changed to 'auto' in 0.22. Specify the multi_class option to silence this warning.\n",
            "  \"this warning.\", FutureWarning)\n",
            "/usr/local/lib/python3.6/dist-packages/sklearn/utils/validation.py:724: DataConversionWarning: A column-vector y was passed when a 1d array was expected. Please change the shape of y to (n_samples, ), for example using ravel().\n",
            "  y = column_or_1d(y, warn=True)\n",
            "/usr/local/lib/python3.6/dist-packages/sklearn/utils/validation.py:724: DataConversionWarning: A column-vector y was passed when a 1d array was expected. Please change the shape of y to (n_samples, ), for example using ravel().\n",
            "  y = column_or_1d(y, warn=True)\n",
            "/usr/local/lib/python3.6/dist-packages/ipykernel_launcher.py:23: DataConversionWarning: A column-vector y was passed when a 1d array was expected. Please change the shape of y to (n_samples,), for example using ravel().\n"
          ],
          "name": "stderr"
        },
        {
          "output_type": "execute_result",
          "data": {
            "text/plain": [
              "RandomForestClassifier(bootstrap=True, class_weight=None, criterion='entropy',\n",
              "                       max_depth=None, max_features='auto', max_leaf_nodes=None,\n",
              "                       min_impurity_decrease=0.0, min_impurity_split=None,\n",
              "                       min_samples_leaf=1, min_samples_split=2,\n",
              "                       min_weight_fraction_leaf=0.0, n_estimators=10,\n",
              "                       n_jobs=None, oob_score=False, random_state=0, verbose=0,\n",
              "                       warm_start=False)"
            ]
          },
          "metadata": {
            "tags": []
          },
          "execution_count": 289
        }
      ]
    },
    {
      "cell_type": "code",
      "metadata": {
        "id": "rl8uZHpc7xo9",
        "colab_type": "code",
        "outputId": "97b66d80-2795-4756-c2da-79cc0d556820",
        "colab": {
          "base_uri": "https://localhost:8080/",
          "height": 102
        }
      },
      "source": [
        "# Predicting the Test set result for logistic regression\n",
        "print(\"The test accuracy for logistic regression is {}\".format(classifier.score(X_test, y_test) * 100))\n",
        "\n",
        "# Predicting the Test set result for naive bayes\n",
        "print(\"The test accuracy for naive bayes is {}\".format(classifier_gauss.score(X_test, y_test) * 100))\n",
        "\n",
        "# Predicting the Test set result for support vector machine\n",
        "print(\"The test accuracy for support vector classification is {}\".format(classifier_svc.score(X_test, y_test) * 100))\n",
        "\n",
        "# Predicting the Test set result for decision tree\n",
        "print(\"The test accuracy for decision tree classifier is {}\".format(classifier_tree.score(X_test, y_test) * 100))\n",
        "\n",
        "# Predicting the Test set result for random forest\n",
        "print(\"The test accuracy for random forest classifier is {}\".format(classifier_rf.score(X_test, y_test) * 100))\n"
      ],
      "execution_count": 0,
      "outputs": [
        {
          "output_type": "stream",
          "text": [
            "The test accuracy for logistic regression is 88.42975206611571\n",
            "The test accuracy for naive bayes is 47.93388429752066\n",
            "The test accuracy for support vector classification is 99.17355371900827\n",
            "The test accuracy for decision tree classifier is 51.2396694214876\n",
            "The test accuracy for random forest classifier is 77.68595041322314\n"
          ],
          "name": "stdout"
        }
      ]
    },
    {
      "cell_type": "markdown",
      "metadata": {
        "id": "m5e7THF9EffK",
        "colab_type": "text"
      },
      "source": [
        "**We can see that we are getting the most accuracy on test set for support vector machine, 99% accuracy, thus we can say that support vector classifier is the optimal model here.**\n",
        "\n",
        "**To understand the mislabelling between classes, we can plot confusion matrices for each of the classifier as well.**"
      ]
    },
    {
      "cell_type": "code",
      "metadata": {
        "id": "loVeCXr9s0D7",
        "colab_type": "code",
        "outputId": "c84a0a97-509d-4286-bc2e-770f6f41e301",
        "colab": {
          "base_uri": "https://localhost:8080/",
          "height": 515
        }
      },
      "source": [
        "import seaborn as sns\n",
        "import matplotlib.pyplot as plt\n",
        "from sklearn.metrics import confusion_matrix\n",
        "mat = confusion_matrix(y_test, classifier.predict(X_test))\n",
        "sns.heatmap(mat.T, square=True, annot=True, fmt='d', cbar=True)\n",
        "plt.xlabel('true label')\n",
        "plt.ylabel('predicted label')"
      ],
      "execution_count": 0,
      "outputs": [
        {
          "output_type": "execute_result",
          "data": {
            "text/plain": [
              "Text(616.9200000000001, 0.5, 'predicted label')"
            ]
          },
          "metadata": {
            "tags": []
          },
          "execution_count": 291
        },
        {
          "output_type": "display_data",
          "data": {
            "image/png": "[encoded data removed]",
            "text/plain": [
              "<Figure size 1440x576 with 2 Axes>"
            ]
          },
          "metadata": {
            "tags": [],
            "image/png": {
              "width": 576,
              "height": 481
            }
          }
        }
      ]
    },
    {
      "cell_type": "code",
      "metadata": {
        "id": "h-AtDs3CwfxG",
        "colab_type": "code",
        "outputId": "dd361476-0c0b-45f2-c463-40e653e1080d",
        "colab": {
          "base_uri": "https://localhost:8080/",
          "height": 515
        }
      },
      "source": [
        "import seaborn as sns\n",
        "import matplotlib.pyplot as plt\n",
        "from sklearn.metrics import confusion_matrix\n",
        "mat = confusion_matrix(y_test, classifier_gauss.predict(X_test))\n",
        "sns.heatmap(mat.T, square=True, annot=True, fmt='d', cbar=True)\n",
        "plt.xlabel('true label')\n",
        "plt.ylabel('predicted label')"
      ],
      "execution_count": 0,
      "outputs": [
        {
          "output_type": "execute_result",
          "data": {
            "text/plain": [
              "Text(616.9200000000001, 0.5, 'predicted label')"
            ]
          },
          "metadata": {
            "tags": []
          },
          "execution_count": 292
        },
        {
          "output_type": "display_data",
          "data": {
            "image/png": "[encoded data removed]",
            "text/plain": [
              "<Figure size 1440x576 with 2 Axes>"
            ]
          },
          "metadata": {
            "tags": [],
            "image/png": {
              "width": 576,
              "height": 481
            }
          }
        }
      ]
    },
    {
      "cell_type": "code",
      "metadata": {
        "id": "2P1qct2DxZZr",
        "colab_type": "code",
        "outputId": "c6d55481-7a41-49cb-e30f-a6da410f9754",
        "colab": {
          "base_uri": "https://localhost:8080/",
          "height": 515
        }
      },
      "source": [
        "import seaborn as sns\n",
        "import matplotlib.pyplot as plt\n",
        "from sklearn.metrics import confusion_matrix\n",
        "mat = confusion_matrix(y_test, classifier_svc.predict(X_test))\n",
        "sns.heatmap(mat.T, square=True, annot=True, fmt='d', cbar=True)\n",
        "plt.xlabel('true label')\n",
        "plt.ylabel('predicted label')"
      ],
      "execution_count": 0,
      "outputs": [
        {
          "output_type": "execute_result",
          "data": {
            "text/plain": [
              "Text(616.9200000000001, 0.5, 'predicted label')"
            ]
          },
          "metadata": {
            "tags": []
          },
          "execution_count": 293
        },
        {
          "output_type": "display_data",
          "data": {
            "image/png": "[encoded data removed]",
            "text/plain": [
              "<Figure size 1440x576 with 2 Axes>"
            ]
          },
          "metadata": {
            "tags": [],
            "image/png": {
              "width": 576,
              "height": 481
            }
          }
        }
      ]
    },
    {
      "cell_type": "code",
      "metadata": {
        "id": "YBVprxonzhCh",
        "colab_type": "code",
        "outputId": "0773a2da-f73b-4c8d-a586-2320039e14d2",
        "colab": {
          "base_uri": "https://localhost:8080/",
          "height": 515
        }
      },
      "source": [
        "import seaborn as sns\n",
        "import matplotlib.pyplot as plt\n",
        "from sklearn.metrics import confusion_matrix\n",
        "mat = confusion_matrix(y_test, classifier_rf.predict(X_test))\n",
        "sns.heatmap(mat.T, square=True, annot=True, fmt='d', cbar=True)\n",
        "plt.xlabel('true label')\n",
        "plt.ylabel('predicted label')"
      ],
      "execution_count": 0,
      "outputs": [
        {
          "output_type": "execute_result",
          "data": {
            "text/plain": [
              "Text(616.9200000000001, 0.5, 'predicted label')"
            ]
          },
          "metadata": {
            "tags": []
          },
          "execution_count": 294
        },
        {
          "output_type": "display_data",
          "data": {
            "image/png": "[encoded data removed]",
            "text/plain": [
              "<Figure size 1440x576 with 2 Axes>"
            ]
          },
          "metadata": {
            "tags": [],
            "image/png": {
              "width": 576,
              "height": 481
            }
          }
        }
      ]
    },
    {
      "cell_type": "markdown",
      "metadata": {
        "id": "vb8PmuvMHQDO",
        "colab_type": "text"
      },
      "source": [
        "**We can see that support vector classifier infact had the least number of mislabelling, only 1. Thus we can say it is the best performing classifier on our data, and thus we will use this classifier to predict the call for our next data, which is also our next task.**"
      ]
    },
    {
      "cell_type": "code",
      "metadata": {
        "id": "5Oz8LT8HIt-y",
        "colab_type": "code",
        "outputId": "d31c9ec8-ae62-4cd0-bcbc-7f7a82da1c01",
        "colab": {
          "base_uri": "https://localhost:8080/",
          "height": 425
        }
      },
      "source": [
        "#importing a new data\n",
        "data_raymond= pd.read_csv('drive/My Drive/RAYMOND.csv')\n",
        "data_raymond.head()"
      ],
      "execution_count": 0,
      "outputs": [
        {
          "output_type": "execute_result",
          "data": {
            "text/html": [
              "<div>\n",
              "<style scoped>\n",
              "    .dataframe tbody tr th:only-of-type {\n",
              "        vertical-align: middle;\n",
              "    }\n",
              "\n",
              "    .dataframe tbody tr th {\n",
              "        vertical-align: top;\n",
              "    }\n",
              "\n",
              "    .dataframe thead th {\n",
              "        text-align: right;\n",
              "    }\n",
              "</style>\n",
              "<table border=\"1\" class=\"dataframe\">\n",
              "  <thead>\n",
              "    <tr style=\"text-align: right;\">\n",
              "      <th></th>\n",
              "      <th>Symbol</th>\n",
              "      <th>Series</th>\n",
              "      <th>Date</th>\n",
              "      <th>Prev Close</th>\n",
              "      <th>Open Price</th>\n",
              "      <th>High Price</th>\n",
              "      <th>Low Price</th>\n",
              "      <th>Last Price</th>\n",
              "      <th>Close Price</th>\n",
              "      <th>Average Price</th>\n",
              "      <th>Total Traded Quantity</th>\n",
              "      <th>Turnover</th>\n",
              "      <th>No. of Trades</th>\n",
              "      <th>Deliverable Qty</th>\n",
              "      <th>% Dly Qt to Traded Qty</th>\n",
              "    </tr>\n",
              "  </thead>\n",
              "  <tbody>\n",
              "    <tr>\n",
              "      <th>0</th>\n",
              "      <td>RAYMOND</td>\n",
              "      <td>EQ</td>\n",
              "      <td>15-May-2017</td>\n",
              "      <td>763.45</td>\n",
              "      <td>765.00</td>\n",
              "      <td>779.00</td>\n",
              "      <td>757.05</td>\n",
              "      <td>773.9</td>\n",
              "      <td>772.80</td>\n",
              "      <td>770.09</td>\n",
              "      <td>292498</td>\n",
              "      <td>2.252491e+08</td>\n",
              "      <td>9033</td>\n",
              "      <td>55467</td>\n",
              "      <td>18.96</td>\n",
              "    </tr>\n",
              "    <tr>\n",
              "      <th>1</th>\n",
              "      <td>RAYMOND</td>\n",
              "      <td>EQ</td>\n",
              "      <td>16-May-2017</td>\n",
              "      <td>772.80</td>\n",
              "      <td>773.45</td>\n",
              "      <td>801.45</td>\n",
              "      <td>768.10</td>\n",
              "      <td>783.5</td>\n",
              "      <td>785.00</td>\n",
              "      <td>788.89</td>\n",
              "      <td>823956</td>\n",
              "      <td>6.500070e+08</td>\n",
              "      <td>18238</td>\n",
              "      <td>179377</td>\n",
              "      <td>21.77</td>\n",
              "    </tr>\n",
              "    <tr>\n",
              "      <th>2</th>\n",
              "      <td>RAYMOND</td>\n",
              "      <td>EQ</td>\n",
              "      <td>17-May-2017</td>\n",
              "      <td>785.00</td>\n",
              "      <td>786.00</td>\n",
              "      <td>804.95</td>\n",
              "      <td>778.40</td>\n",
              "      <td>785.5</td>\n",
              "      <td>783.65</td>\n",
              "      <td>792.72</td>\n",
              "      <td>598094</td>\n",
              "      <td>4.741212e+08</td>\n",
              "      <td>13968</td>\n",
              "      <td>127637</td>\n",
              "      <td>21.34</td>\n",
              "    </tr>\n",
              "    <tr>\n",
              "      <th>3</th>\n",
              "      <td>RAYMOND</td>\n",
              "      <td>EQ</td>\n",
              "      <td>18-May-2017</td>\n",
              "      <td>783.65</td>\n",
              "      <td>779.35</td>\n",
              "      <td>779.95</td>\n",
              "      <td>740.20</td>\n",
              "      <td>744.0</td>\n",
              "      <td>746.95</td>\n",
              "      <td>762.57</td>\n",
              "      <td>319834</td>\n",
              "      <td>2.438956e+08</td>\n",
              "      <td>7713</td>\n",
              "      <td>92200</td>\n",
              "      <td>28.83</td>\n",
              "    </tr>\n",
              "    <tr>\n",
              "      <th>4</th>\n",
              "      <td>RAYMOND</td>\n",
              "      <td>EQ</td>\n",
              "      <td>19-May-2017</td>\n",
              "      <td>746.95</td>\n",
              "      <td>748.00</td>\n",
              "      <td>767.50</td>\n",
              "      <td>714.00</td>\n",
              "      <td>722.0</td>\n",
              "      <td>723.10</td>\n",
              "      <td>740.30</td>\n",
              "      <td>561346</td>\n",
              "      <td>4.155619e+08</td>\n",
              "      <td>13328</td>\n",
              "      <td>137648</td>\n",
              "      <td>24.52</td>\n",
              "    </tr>\n",
              "  </tbody>\n",
              "</table>\n",
              "</div>"
            ],
            "text/plain": [
              "    Symbol Series  ... Deliverable Qty  % Dly Qt to Traded Qty\n",
              "0  RAYMOND     EQ  ...           55467                   18.96\n",
              "1  RAYMOND     EQ  ...          179377                   21.77\n",
              "2  RAYMOND     EQ  ...          127637                   21.34\n",
              "3  RAYMOND     EQ  ...           92200                   28.83\n",
              "4  RAYMOND     EQ  ...          137648                   24.52\n",
              "\n",
              "[5 rows x 15 columns]"
            ]
          },
          "metadata": {
            "tags": []
          },
          "execution_count": 295
        }
      ]
    },
    {
      "cell_type": "markdown",
      "metadata": {
        "id": "yCXedAhFIO8D",
        "colab_type": "text"
      },
      "source": [
        "**Once our new data is imported the next task would be to generate bollinger bands for it.**"
      ]
    },
    {
      "cell_type": "code",
      "metadata": {
        "id": "L-5eWOF8JBOX",
        "colab_type": "code",
        "colab": {}
      },
      "source": [
        "band_dur= 14\n",
        "no_of_std= 2\n",
        "\n",
        "rolling_mean = data_raymond['Close Price'].rolling(window= band_dur).mean()\n",
        "rolling_std = data_raymond['Close Price'].rolling(window= band_dur).std()\n",
        "\n",
        "data_raymond['Rolling_Avg']= rolling_mean\n",
        "\n",
        "data_raymond['Upper Band'] = rolling_mean + (rolling_std * no_of_std)\n",
        "data_raymond['Lower Band'] = rolling_mean - (rolling_std * no_of_std) "
      ],
      "execution_count": 0,
      "outputs": []
    },
    {
      "cell_type": "code",
      "metadata": {
        "id": "8zBD9UPfJjY1",
        "colab_type": "code",
        "colab": {}
      },
      "source": [
        "#drop all the null values\n",
        "data_raymond= data_raymond.dropna()\n",
        "\n",
        "#reset the index to 0\n",
        "data_raymond.index -= 13\n",
        "\n",
        "#create a new column named call\n",
        "data_raymond['call']= None"
      ],
      "execution_count": 0,
      "outputs": []
    },
    {
      "cell_type": "markdown",
      "metadata": {
        "id": "G9gYXFopKSw_",
        "colab_type": "text"
      },
      "source": [
        "**We will create a new dataframe with only necessary columns.**"
      ]
    },
    {
      "cell_type": "code",
      "metadata": {
        "id": "0vcGYELwJFd9",
        "colab_type": "code",
        "colab": {}
      },
      "source": [
        "data_trade_raymond = pd.concat([data_raymond['Close Price'], data_raymond['Rolling_Avg'], \n",
        "                                data_raymond['Lower Band'], data_raymond['Upper Band'], data_raymond['call']], axis=1)\n",
        "\n",
        "data_trade_raymond.columns = ['Price', 'Rolling Avg', 'Lower Band', 'Upper Band', 'call']"
      ],
      "execution_count": 0,
      "outputs": []
    },
    {
      "cell_type": "code",
      "metadata": {
        "id": "bGrJ0jrWKE9S",
        "colab_type": "code",
        "outputId": "6335bda1-2441-4a17-f985-cfb6962e180a",
        "colab": {
          "base_uri": "https://localhost:8080/",
          "height": 204
        }
      },
      "source": [
        "data_trade_raymond.head()"
      ],
      "execution_count": 0,
      "outputs": [
        {
          "output_type": "execute_result",
          "data": {
            "text/html": [
              "<div>\n",
              "<style scoped>\n",
              "    .dataframe tbody tr th:only-of-type {\n",
              "        vertical-align: middle;\n",
              "    }\n",
              "\n",
              "    .dataframe tbody tr th {\n",
              "        vertical-align: top;\n",
              "    }\n",
              "\n",
              "    .dataframe thead th {\n",
              "        text-align: right;\n",
              "    }\n",
              "</style>\n",
              "<table border=\"1\" class=\"dataframe\">\n",
              "  <thead>\n",
              "    <tr style=\"text-align: right;\">\n",
              "      <th></th>\n",
              "      <th>Price</th>\n",
              "      <th>Rolling Avg</th>\n",
              "      <th>Lower Band</th>\n",
              "      <th>Upper Band</th>\n",
              "      <th>call</th>\n",
              "    </tr>\n",
              "  </thead>\n",
              "  <tbody>\n",
              "    <tr>\n",
              "      <th>0</th>\n",
              "      <td>693.90</td>\n",
              "      <td>719.125000</td>\n",
              "      <td>640.975166</td>\n",
              "      <td>797.274834</td>\n",
              "      <td>None</td>\n",
              "    </tr>\n",
              "    <tr>\n",
              "      <th>1</th>\n",
              "      <td>702.65</td>\n",
              "      <td>714.114286</td>\n",
              "      <td>642.028958</td>\n",
              "      <td>786.199614</td>\n",
              "      <td>None</td>\n",
              "    </tr>\n",
              "    <tr>\n",
              "      <th>2</th>\n",
              "      <td>751.25</td>\n",
              "      <td>711.703571</td>\n",
              "      <td>648.067896</td>\n",
              "      <td>775.339247</td>\n",
              "      <td>None</td>\n",
              "    </tr>\n",
              "    <tr>\n",
              "      <th>3</th>\n",
              "      <td>728.45</td>\n",
              "      <td>707.760714</td>\n",
              "      <td>658.000115</td>\n",
              "      <td>757.521313</td>\n",
              "      <td>None</td>\n",
              "    </tr>\n",
              "    <tr>\n",
              "      <th>4</th>\n",
              "      <td>729.05</td>\n",
              "      <td>706.482143</td>\n",
              "      <td>660.265502</td>\n",
              "      <td>752.698783</td>\n",
              "      <td>None</td>\n",
              "    </tr>\n",
              "  </tbody>\n",
              "</table>\n",
              "</div>"
            ],
            "text/plain": [
              "    Price  Rolling Avg  Lower Band  Upper Band  call\n",
              "0  693.90   719.125000  640.975166  797.274834  None\n",
              "1  702.65   714.114286  642.028958  786.199614  None\n",
              "2  751.25   711.703571  648.067896  775.339247  None\n",
              "3  728.45   707.760714  658.000115  757.521313  None\n",
              "4  729.05   706.482143  660.265502  752.698783  None"
            ]
          },
          "metadata": {
            "tags": []
          },
          "execution_count": 299
        }
      ]
    },
    {
      "cell_type": "code",
      "metadata": {
        "id": "u6H0TbL_KKKJ",
        "colab_type": "code",
        "outputId": "b8005f4d-bbbe-4d97-f212-6d1b10f9ba8c",
        "colab": {
          "base_uri": "https://localhost:8080/",
          "height": 272
        }
      },
      "source": [
        "#features for our model.\n",
        "X = data_trade_raymond.iloc[:, 0: 4].values\n",
        "\n",
        "#our label\n",
        "y = data_trade_raymond.iloc[:, 4:5].values\n",
        "\n",
        "#just to check\n",
        "print(\"The features are -- \\n {0}\\n\\nThe labels are -- \\n {1}\".format(data_trade_raymond.iloc[:, 0: 4].head(), data_trade_raymond.iloc[:, 4:5].head()))"
      ],
      "execution_count": 0,
      "outputs": [
        {
          "output_type": "stream",
          "text": [
            "The features are -- \n",
            "     Price  Rolling Avg  Lower Band  Upper Band\n",
            "0  693.90   719.125000  640.975166  797.274834\n",
            "1  702.65   714.114286  642.028958  786.199614\n",
            "2  751.25   711.703571  648.067896  775.339247\n",
            "3  728.45   707.760714  658.000115  757.521313\n",
            "4  729.05   706.482143  660.265502  752.698783\n",
            "\n",
            "The labels are -- \n",
            "    call\n",
            "0  None\n",
            "1  None\n",
            "2  None\n",
            "3  None\n",
            "4  None\n"
          ],
          "name": "stdout"
        }
      ]
    },
    {
      "cell_type": "code",
      "metadata": {
        "id": "ue1iZRAJKQVR",
        "colab_type": "code",
        "colab": {}
      },
      "source": [
        "#we would use SVC to predict the call\n",
        "y= classifier_svc.predict(X)\n",
        "\n",
        "data_trade_raymond['call']= y"
      ],
      "execution_count": 0,
      "outputs": []
    },
    {
      "cell_type": "code",
      "metadata": {
        "id": "cAkKDhZGKjDk",
        "colab_type": "code",
        "outputId": "6eb506b1-7b18-456b-c56a-74f45464eea9",
        "colab": {
          "base_uri": "https://localhost:8080/",
          "height": 51
        }
      },
      "source": [
        "data_trade_raymond['call'].unique()"
      ],
      "execution_count": 0,
      "outputs": [
        {
          "output_type": "execute_result",
          "data": {
            "text/plain": [
              "array(['Hold Buy/ Liquidate Short', 'Hold Short/ Liquidate Buy', 'Buy',\n",
              "       'Short', 'Call'], dtype=object)"
            ]
          },
          "metadata": {
            "tags": []
          },
          "execution_count": 302
        }
      ]
    },
    {
      "cell_type": "markdown",
      "metadata": {
        "id": "Fn0muXu7Lx3L",
        "colab_type": "text"
      },
      "source": [
        "\n",
        "\n",
        "---\n",
        "\n",
        "\n",
        "##Query 4.2 \n",
        "    \n",
        "    Now, we'll again utilize classification to make a trade call, and measure the efficiency of our trading algorithm over the past two years. For this assignment , we will use RandomForest classifier.\n",
        "    \n",
        "    -- Import the stock data file of your choice\n",
        "       Define 4 new columns , whose values are: \n",
        "        - % change between Open and Close price for the day \n",
        "        - % change between Low and High price for the day \n",
        "        - 5 day rolling mean of the day to day % change in Close Price \n",
        "        - 5 day rolling std of the day to day % change in Close Price\n",
        "\n",
        "    -- Create a new column 'Action' whose values are: \n",
        "        - 1 if next day's price(Close) is greater than present day's. \n",
        "        - (-1) if next day's price(Close) is less than present day's. \n",
        "                        i.e. Action [ i ] = 1 if Close[ i+1 ] > Close[ i ] \n",
        "                        i.e. Action [ i ] = (-1) if Close[ i+1 ] < Close[ i ]\n",
        "\n",
        "    -- Construct a classification model with the 4 new inputs and 'Action' as target\n",
        "\n",
        "    -- Check the accuracy of this model , also , plot the net cumulative returns (in %) if we were to follow this algorithmic model"
      ]
    },
    {
      "cell_type": "markdown",
      "metadata": {
        "id": "AusQKpn0MU8j",
        "colab_type": "text"
      },
      "source": [
        "**We will create the four new columns with the code given below.**"
      ]
    },
    {
      "cell_type": "code",
      "metadata": {
        "id": "SH8M3pFYKphR",
        "colab_type": "code",
        "colab": {}
      },
      "source": [
        "data['%change open-close']= (((data['Close Price'] - data['Open Price']) / data['Open Price']) * 100 ).fillna(0)\n",
        "data['%change high-low']= (((data['High Price'] - data['Low Price']) / data['Low Price']) * 100 ).fillna(0)\n",
        "\n",
        "data['%Rolling Mean Close'] = data['Close Price'].rolling(window = 5).mean()\n",
        "data['%Rolling Std Close']  = data['Close Price'].rolling(window  = 5).std()"
      ],
      "execution_count": 0,
      "outputs": []
    },
    {
      "cell_type": "markdown",
      "metadata": {
        "id": "uHjVaD95MboY",
        "colab_type": "text"
      },
      "source": [
        "**A new column action will be added to the dataframe.**\n",
        "\n",
        "**NOTE : Instead of using 'Close Price' for previous day, we will be using 'Prev Close' for a given day, both contain the same values.**"
      ]
    },
    {
      "cell_type": "code",
      "metadata": {
        "id": "YJtIj_IKQOiM",
        "colab_type": "code",
        "outputId": "ce9fd1f8-cf8e-4276-d208-435daec3d3b8",
        "colab": {
          "base_uri": "https://localhost:8080/",
          "height": 187
        }
      },
      "source": [
        "data['Action']= 0\n",
        "\n",
        "for i in range(0, 480):\n",
        "  if (data['Close Price'][i] > data['Prev Close'][i]):\n",
        "    data['Action'][i]= 1\n",
        "  \n",
        "  elif (data['Close Price'][i] < data['Prev Close'][i]):\n",
        "    data['Action'][i]= -1"
      ],
      "execution_count": 0,
      "outputs": [
        {
          "output_type": "stream",
          "text": [
            "/usr/local/lib/python3.6/dist-packages/ipykernel_launcher.py:5: SettingWithCopyWarning: \n",
            "A value is trying to be set on a copy of a slice from a DataFrame\n",
            "\n",
            "See the caveats in the documentation: http://pandas.pydata.org/pandas-docs/stable/indexing.html#indexing-view-versus-copy\n",
            "  \"\"\"\n",
            "/usr/local/lib/python3.6/dist-packages/ipykernel_launcher.py:8: SettingWithCopyWarning: \n",
            "A value is trying to be set on a copy of a slice from a DataFrame\n",
            "\n",
            "See the caveats in the documentation: http://pandas.pydata.org/pandas-docs/stable/indexing.html#indexing-view-versus-copy\n",
            "  \n"
          ],
          "name": "stderr"
        }
      ]
    },
    {
      "cell_type": "markdown",
      "metadata": {
        "id": "czLTFfDzRBBw",
        "colab_type": "text"
      },
      "source": [
        "**We have sucessfully filled the column Action with appropriate values, the next step would be to check for missing values, and cleaning our data before treating it against a classifier.**"
      ]
    },
    {
      "cell_type": "code",
      "metadata": {
        "id": "YyxlMSA0Pnoo",
        "colab_type": "code",
        "outputId": "88ec4d99-4b63-4bc4-ec73-6dfabf8fb3e7",
        "colab": {
          "base_uri": "https://localhost:8080/",
          "height": 68
        }
      },
      "source": [
        "missing_data= data.isnull().sum()/len(data)\n",
        "missing_data= missing_data[missing_data > 0]\n",
        "\n",
        "missing_data=missing_data.sort_values()\n",
        "\n",
        "print(missing_data)"
      ],
      "execution_count": 0,
      "outputs": [
        {
          "output_type": "stream",
          "text": [
            "%Rolling Mean Close    0.008316\n",
            "%Rolling Std Close     0.008316\n",
            "dtype: float64\n"
          ],
          "name": "stdout"
        }
      ]
    },
    {
      "cell_type": "code",
      "metadata": {
        "id": "3i_lCbq_PpS1",
        "colab_type": "code",
        "outputId": "e9efc400-af5f-43cc-fedb-cbc5ad469703",
        "colab": {
          "base_uri": "https://localhost:8080/",
          "height": 85
        }
      },
      "source": [
        "#to tdrop the null values\n",
        "data= data.dropna()\n",
        "\n",
        "#to reset the index to 0\n",
        "data.index -= 4\n",
        "\n",
        "data.index"
      ],
      "execution_count": 0,
      "outputs": [
        {
          "output_type": "execute_result",
          "data": {
            "text/plain": [
              "Int64Index([  0,   1,   2,   3,   4,   5,   6,   7,   8,   9,\n",
              "            ...\n",
              "            467, 468, 469, 470, 471, 472, 473, 474, 475, 476],\n",
              "           dtype='int64', length=477)"
            ]
          },
          "metadata": {
            "tags": []
          },
          "execution_count": 306
        }
      ]
    },
    {
      "cell_type": "code",
      "metadata": {
        "id": "o_AQh_IGP2XC",
        "colab_type": "code",
        "outputId": "2869394f-29e3-4c6a-ed8a-bee97cb362a6",
        "colab": {
          "base_uri": "https://localhost:8080/",
          "height": 284
        }
      },
      "source": [
        "data.head(2)"
      ],
      "execution_count": 0,
      "outputs": [
        {
          "output_type": "execute_result",
          "data": {
            "text/html": [
              "<div>\n",
              "<style scoped>\n",
              "    .dataframe tbody tr th:only-of-type {\n",
              "        vertical-align: middle;\n",
              "    }\n",
              "\n",
              "    .dataframe tbody tr th {\n",
              "        vertical-align: top;\n",
              "    }\n",
              "\n",
              "    .dataframe thead th {\n",
              "        text-align: right;\n",
              "    }\n",
              "</style>\n",
              "<table border=\"1\" class=\"dataframe\">\n",
              "  <thead>\n",
              "    <tr style=\"text-align: right;\">\n",
              "      <th></th>\n",
              "      <th>Symbol</th>\n",
              "      <th>Series</th>\n",
              "      <th>Date</th>\n",
              "      <th>Prev Close</th>\n",
              "      <th>Open Price</th>\n",
              "      <th>High Price</th>\n",
              "      <th>Low Price</th>\n",
              "      <th>Last Price</th>\n",
              "      <th>Close Price</th>\n",
              "      <th>Average Price</th>\n",
              "      <th>Total Traded Quantity</th>\n",
              "      <th>Turnover</th>\n",
              "      <th>No. of Trades</th>\n",
              "      <th>Deliverable Qty</th>\n",
              "      <th>% Dly Qt to Traded Qty</th>\n",
              "      <th>Rolling_Avg</th>\n",
              "      <th>Upper Band</th>\n",
              "      <th>Lower Band</th>\n",
              "      <th>call</th>\n",
              "      <th>%change open-close</th>\n",
              "      <th>%change high-low</th>\n",
              "      <th>%Rolling Mean Close</th>\n",
              "      <th>%Rolling Std Close</th>\n",
              "      <th>Action</th>\n",
              "    </tr>\n",
              "  </thead>\n",
              "  <tbody>\n",
              "    <tr>\n",
              "      <th>0</th>\n",
              "      <td>LAXMIMACH</td>\n",
              "      <td>EQ</td>\n",
              "      <td>07-Jun-2017</td>\n",
              "      <td>5059.35</td>\n",
              "      <td>5015.00</td>\n",
              "      <td>5120.0</td>\n",
              "      <td>5015.0</td>\n",
              "      <td>5070.00</td>\n",
              "      <td>5047.95</td>\n",
              "      <td>5060.19</td>\n",
              "      <td>3363</td>\n",
              "      <td>1.701741e+07</td>\n",
              "      <td>912</td>\n",
              "      <td>1987</td>\n",
              "      <td>59.08</td>\n",
              "      <td>4661.810714</td>\n",
              "      <td>5196.252901</td>\n",
              "      <td>4127.368527</td>\n",
              "      <td>Hold Short/ Liquidate Buy</td>\n",
              "      <td>0.657029</td>\n",
              "      <td>2.093719</td>\n",
              "      <td>4978.39</td>\n",
              "      <td>133.587019</td>\n",
              "      <td>-1</td>\n",
              "    </tr>\n",
              "    <tr>\n",
              "      <th>1</th>\n",
              "      <td>LAXMIMACH</td>\n",
              "      <td>EQ</td>\n",
              "      <td>08-Jun-2017</td>\n",
              "      <td>5047.95</td>\n",
              "      <td>5077.95</td>\n",
              "      <td>5312.0</td>\n",
              "      <td>5035.0</td>\n",
              "      <td>5175.85</td>\n",
              "      <td>5192.55</td>\n",
              "      <td>5218.37</td>\n",
              "      <td>20188</td>\n",
              "      <td>1.053484e+08</td>\n",
              "      <td>3871</td>\n",
              "      <td>7306</td>\n",
              "      <td>36.19</td>\n",
              "      <td>4709.657143</td>\n",
              "      <td>5306.720452</td>\n",
              "      <td>4112.593834</td>\n",
              "      <td>Hold Short/ Liquidate Buy</td>\n",
              "      <td>2.256816</td>\n",
              "      <td>5.501490</td>\n",
              "      <td>5065.76</td>\n",
              "      <td>85.860427</td>\n",
              "      <td>1</td>\n",
              "    </tr>\n",
              "  </tbody>\n",
              "</table>\n",
              "</div>"
            ],
            "text/plain": [
              "      Symbol Series  ... %Rolling Std Close  Action\n",
              "0  LAXMIMACH     EQ  ...         133.587019      -1\n",
              "1  LAXMIMACH     EQ  ...          85.860427       1\n",
              "\n",
              "[2 rows x 24 columns]"
            ]
          },
          "metadata": {
            "tags": []
          },
          "execution_count": 307
        }
      ]
    },
    {
      "cell_type": "markdown",
      "metadata": {
        "id": "CGrktgLBRVsD",
        "colab_type": "text"
      },
      "source": [
        "**We would create a new dataframe with only relevant colums to build our classifier, as mentined in the query it will be a rando forest classifier.**"
      ]
    },
    {
      "cell_type": "code",
      "metadata": {
        "id": "qO_m_cHir7XC",
        "colab_type": "code",
        "outputId": "c7cb83e7-b3ae-4201-e2d1-929b8a6369b1",
        "colab": {
          "base_uri": "https://localhost:8080/",
          "height": 306
        }
      },
      "source": [
        "# input for model\n",
        "X= data.iloc[:, 19: 23].values\n",
        "\n",
        "#label \n",
        "y= data.iloc[:, 23: ].values\n",
        "\n",
        "#just to check\n",
        "print(\"The features are -- \\n {0}\\n\\nThe labels are -- \\n {1}\".format(data.iloc[:, 19: 23].head(), data.iloc[:, 23:].head()))"
      ],
      "execution_count": 0,
      "outputs": [
        {
          "output_type": "stream",
          "text": [
            "The features are -- \n",
            "    %change open-close  ...  %Rolling Std Close\n",
            "0            0.657029  ...          133.587019\n",
            "1            2.256816  ...           85.860427\n",
            "2            1.610592  ...          102.539733\n",
            "3           -2.081285  ...           98.964194\n",
            "4           -1.137225  ...           85.970348\n",
            "\n",
            "[5 rows x 4 columns]\n",
            "\n",
            "The labels are -- \n",
            "    Action\n",
            "0      -1\n",
            "1       1\n",
            "2       1\n",
            "3      -1\n",
            "4       1\n"
          ],
          "name": "stdout"
        }
      ]
    },
    {
      "cell_type": "code",
      "metadata": {
        "id": "T_Hkoxu8sUSz",
        "colab_type": "code",
        "outputId": "62c1c746-3767-48d5-a192-ddb29740dadc",
        "colab": {
          "base_uri": "https://localhost:8080/",
          "height": 190
        }
      },
      "source": [
        "from sklearn.model_selection import train_test_split\n",
        "X_train, X_test, y_train, y_test = train_test_split(X, y, test_size=0.25, random_state=0)\n",
        "\n",
        "from sklearn.ensemble import RandomForestClassifier\n",
        "classifier_rf2 = RandomForestClassifier(n_estimators=10, criterion='entropy', random_state=0)\n",
        "classifier_rf2.fit(X_train, y_train)"
      ],
      "execution_count": 0,
      "outputs": [
        {
          "output_type": "stream",
          "text": [
            "/usr/local/lib/python3.6/dist-packages/ipykernel_launcher.py:6: DataConversionWarning: A column-vector y was passed when a 1d array was expected. Please change the shape of y to (n_samples,), for example using ravel().\n",
            "  \n"
          ],
          "name": "stderr"
        },
        {
          "output_type": "execute_result",
          "data": {
            "text/plain": [
              "RandomForestClassifier(bootstrap=True, class_weight=None, criterion='entropy',\n",
              "                       max_depth=None, max_features='auto', max_leaf_nodes=None,\n",
              "                       min_impurity_decrease=0.0, min_impurity_split=None,\n",
              "                       min_samples_leaf=1, min_samples_split=2,\n",
              "                       min_weight_fraction_leaf=0.0, n_estimators=10,\n",
              "                       n_jobs=None, oob_score=False, random_state=0, verbose=0,\n",
              "                       warm_start=False)"
            ]
          },
          "metadata": {
            "tags": []
          },
          "execution_count": 309
        }
      ]
    },
    {
      "cell_type": "code",
      "metadata": {
        "id": "Q-o-ZLVlyLCd",
        "colab_type": "code",
        "outputId": "40ffc962-0c60-4eb4-cb58-8ce4d3e381c8",
        "colab": {
          "base_uri": "https://localhost:8080/",
          "height": 34
        }
      },
      "source": [
        "print('The accuracy on test data is {}'.format(classifier_rf2.score(X_test, y_test) * 100))"
      ],
      "execution_count": 0,
      "outputs": [
        {
          "output_type": "stream",
          "text": [
            "The accuracy on test data is 84.16666666666667\n"
          ],
          "name": "stdout"
        }
      ]
    },
    {
      "cell_type": "markdown",
      "metadata": {
        "id": "PZH0skNFRjjE",
        "colab_type": "text"
      },
      "source": [
        "**We can see that our classifier is able to predict correctly about 84 % times the outcome for given inputs.**"
      ]
    },
    {
      "cell_type": "markdown",
      "metadata": {
        "id": "rrQRVCgwR1Kl",
        "colab_type": "text"
      },
      "source": [
        "**The last step is to plot out net commulative returns for the given stock for entire time period.**"
      ]
    },
    {
      "cell_type": "code",
      "metadata": {
        "id": "XWZMkh-IuLGq",
        "colab_type": "code",
        "colab": {}
      },
      "source": [
        "# daily return:\n",
        "data['daily_return'] = data['Close Price'].pct_change()\n",
        "\n",
        "# calculate cumluative return\n",
        "data['net_comm_returns'] = np.exp(np.log1p(data['daily_return']).cumsum()) -1 "
      ],
      "execution_count": 0,
      "outputs": []
    },
    {
      "cell_type": "code",
      "metadata": {
        "id": "4v6J-G3PvNOT",
        "colab_type": "code",
        "outputId": "7e5a0fa9-af51-42dc-c052-494d10ee0321",
        "colab": {
          "base_uri": "https://localhost:8080/",
          "height": 535
        }
      },
      "source": [
        "import matplotlib.pyplot as plt\n",
        "fig = plt.figure()\n",
        "\n",
        "# Add a subplot and label for y-axis\n",
        "ax1 = fig.add_subplot(111, title='Net Commulative Returns', ylabel='Strategy Returns')\n",
        "week['comm_returns'].plot(ax=ax1, color='r', lw=1.3, grid= True)"
      ],
      "execution_count": 0,
      "outputs": [
        {
          "output_type": "execute_result",
          "data": {
            "text/plain": [
              "<matplotlib.axes._subplots.AxesSubplot at 0x7fb43d504438>"
            ]
          },
          "metadata": {
            "tags": []
          },
          "execution_count": 312
        },
        {
          "output_type": "display_data",
          "data": {
            "image/png": "[encoded data removed]",
            "text/plain": [
              "<Figure size 1440x576 with 1 Axes>"
            ]
          },
          "metadata": {
            "tags": [],
            "image/png": {
              "width": 1168,
              "height": 481
            }
          }
        }
      ]
    }
  ]
}