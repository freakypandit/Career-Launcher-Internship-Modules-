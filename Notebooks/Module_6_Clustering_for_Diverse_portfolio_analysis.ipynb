{
  "nbformat": 4,
  "nbformat_minor": 0,
  "metadata": {
    "colab": {
      "name": "Module 6 -  Clustering for Diverse portfolio analysis.ipynb",
      "provenance": [],
      "collapsed_sections": []
    },
    "kernelspec": {
      "name": "python3",
      "display_name": "Python 3"
    }
  },
  "cells": [
    {
      "cell_type": "markdown",
      "metadata": {
        "id": "_tom2twWY1em",
        "colab_type": "text"
      },
      "source": [
        "# Module 6\n",
        "### Welcome to the Answer notebook for Module 6 !\n"
      ]
    },
    {
      "cell_type": "code",
      "metadata": {
        "id": "xJCFv8V-NOvQ",
        "colab_type": "code",
        "outputId": "f9423cbf-8746-459e-9a5b-64a927ca54c2",
        "colab": {
          "base_uri": "https://localhost:8080/",
          "height": 34
        }
      },
      "source": [
        "from google.colab import drive\n",
        "drive.mount('/content/drive', force_remount= True)"
      ],
      "execution_count": 0,
      "outputs": [
        {
          "output_type": "stream",
          "text": [
            "Mounted at /content/drive\n"
          ],
          "name": "stdout"
        }
      ]
    },
    {
      "cell_type": "markdown",
      "metadata": {
        "id": "wNI4nPTY9phC",
        "colab_type": "text"
      },
      "source": [
        "\n",
        "\n",
        "---\n",
        "\n",
        "\n",
        "##Query 6.1 \n",
        "\n",
        "    Create a table/data frame with the closing prices of 30 different stocks, with 10 from each of the caps\n"
      ]
    },
    {
      "cell_type": "code",
      "metadata": {
        "id": "8r3IBmbfSl8W",
        "colab_type": "code",
        "colab": {}
      },
      "source": [
        "import os\n",
        "import glob \n",
        "import pandas as pd\n",
        "import sklearn\n",
        "import numpy as np\n",
        "\n",
        "from sklearn.cluster import KMeans\n",
        "import seaborn as sns\n",
        "%matplotlib inline\n",
        "import matplotlib.pyplot as plt\n",
        "plt.rcParams['figure.figsize'] = (20,8)    #to fix the size of our graph for better visualization.\n",
        "import seaborn as sn\n"
      ],
      "execution_count": 0,
      "outputs": []
    },
    {
      "cell_type": "markdown",
      "metadata": {
        "id": "quhLOpwh94O3",
        "colab_type": "text"
      },
      "source": [
        "**The first task to perform is to get closing prices for 30 different stocks, 10 from each cap, in a single data frame. I have already cleaned up all the datasets and put them together in a folder data_module_6. We will get this folder from Google Drive.**\n",
        "\n",
        "**Link : https://drive.google.com/open?id=1fhZUEHiWkmdZeiLQIeYnzRifcS_i_7d5**"
      ]
    },
    {
      "cell_type": "code",
      "metadata": {
        "id": "s8bAXdjs6Kz-",
        "colab_type": "code",
        "colab": {}
      },
      "source": [
        "os.chdir('drive/My Drive/data_module_6')\n",
        "\n",
        "extension = 'csv'\n",
        "all_filenames = [i for i in glob.glob('*.{}'.format(extension))]"
      ],
      "execution_count": 0,
      "outputs": []
    },
    {
      "cell_type": "markdown",
      "metadata": {
        "id": "rh3OcI0I-tDv",
        "colab_type": "text"
      },
      "source": [
        "**Now we have all the 30 stock files from our folder, next task would be get closing_prices for each stock, since closing_price is 8th column in each file, we would just get that column from each. A helper function read_8th_col does that job.**"
      ]
    },
    {
      "cell_type": "code",
      "metadata": {
        "id": "ve0TkE55S1Oz",
        "colab_type": "code",
        "colab": {}
      },
      "source": [
        "def read_8th_col(file):\n",
        "    return pd.read_csv(file, usecols=[8])"
      ],
      "execution_count": 0,
      "outputs": []
    },
    {
      "cell_type": "code",
      "metadata": {
        "id": "jQofoJB7PUSt",
        "colab_type": "code",
        "outputId": "c720c82b-a4aa-4e10-dad5-76ceba9c3a47",
        "colab": {
          "base_uri": "https://localhost:8080/",
          "height": 241
        }
      },
      "source": [
        "combined_data = pd.concat([read_8th_col(file) for file in all_filenames], axis=1)\n",
        "\n",
        "combined_data.head()"
      ],
      "execution_count": 0,
      "outputs": [
        {
          "output_type": "execute_result",
          "data": {
            "text/html": [
              "<div>\n",
              "<style scoped>\n",
              "    .dataframe tbody tr th:only-of-type {\n",
              "        vertical-align: middle;\n",
              "    }\n",
              "\n",
              "    .dataframe tbody tr th {\n",
              "        vertical-align: top;\n",
              "    }\n",
              "\n",
              "    .dataframe thead th {\n",
              "        text-align: right;\n",
              "    }\n",
              "</style>\n",
              "<table border=\"1\" class=\"dataframe\">\n",
              "  <thead>\n",
              "    <tr style=\"text-align: right;\">\n",
              "      <th></th>\n",
              "      <th>Close Price</th>\n",
              "      <th>Close Price</th>\n",
              "      <th>Close Price</th>\n",
              "      <th>Close Price</th>\n",
              "      <th>Close Price</th>\n",
              "      <th>Close Price</th>\n",
              "      <th>Close Price</th>\n",
              "      <th>Close Price</th>\n",
              "      <th>Close Price</th>\n",
              "      <th>Close Price</th>\n",
              "      <th>Close Price</th>\n",
              "      <th>Close Price</th>\n",
              "      <th>Close Price</th>\n",
              "      <th>Close Price</th>\n",
              "      <th>Close Price</th>\n",
              "      <th>Close Price</th>\n",
              "      <th>Close Price</th>\n",
              "      <th>Close Price</th>\n",
              "      <th>Close Price</th>\n",
              "      <th>Close Price</th>\n",
              "      <th>Close Price</th>\n",
              "      <th>Close Price</th>\n",
              "      <th>Close Price</th>\n",
              "      <th>Close Price</th>\n",
              "      <th>Close Price</th>\n",
              "      <th>Close Price</th>\n",
              "      <th>Close Price</th>\n",
              "      <th>Close Price</th>\n",
              "      <th>Close Price</th>\n",
              "      <th>Close Price</th>\n",
              "    </tr>\n",
              "  </thead>\n",
              "  <tbody>\n",
              "    <tr>\n",
              "      <th>0</th>\n",
              "      <td>414.00</td>\n",
              "      <td>30.25</td>\n",
              "      <td>1633.50</td>\n",
              "      <td>578.55</td>\n",
              "      <td>933.40</td>\n",
              "      <td>983.25</td>\n",
              "      <td>231.90</td>\n",
              "      <td>259.5</td>\n",
              "      <td>75.05</td>\n",
              "      <td>727.85</td>\n",
              "      <td>63.70</td>\n",
              "      <td>266.65</td>\n",
              "      <td>569.00</td>\n",
              "      <td>2675.80</td>\n",
              "      <td>442.10</td>\n",
              "      <td>19.6</td>\n",
              "      <td>83.55</td>\n",
              "      <td>4614.05</td>\n",
              "      <td>1169.70</td>\n",
              "      <td>1742.40</td>\n",
              "      <td>199.20</td>\n",
              "      <td>32.00</td>\n",
              "      <td>90.25</td>\n",
              "      <td>431.85</td>\n",
              "      <td>277.95</td>\n",
              "      <td>114.20</td>\n",
              "      <td>6823.90</td>\n",
              "      <td>772.80</td>\n",
              "      <td>1344.10</td>\n",
              "      <td>162.65</td>\n",
              "    </tr>\n",
              "    <tr>\n",
              "      <th>1</th>\n",
              "      <td>411.40</td>\n",
              "      <td>32.85</td>\n",
              "      <td>1634.25</td>\n",
              "      <td>584.80</td>\n",
              "      <td>924.70</td>\n",
              "      <td>1000.40</td>\n",
              "      <td>234.40</td>\n",
              "      <td>261.5</td>\n",
              "      <td>76.65</td>\n",
              "      <td>733.30</td>\n",
              "      <td>64.25</td>\n",
              "      <td>266.10</td>\n",
              "      <td>565.60</td>\n",
              "      <td>2724.10</td>\n",
              "      <td>446.60</td>\n",
              "      <td>19.7</td>\n",
              "      <td>83.85</td>\n",
              "      <td>4589.80</td>\n",
              "      <td>1177.00</td>\n",
              "      <td>1740.70</td>\n",
              "      <td>200.90</td>\n",
              "      <td>32.10</td>\n",
              "      <td>90.65</td>\n",
              "      <td>432.45</td>\n",
              "      <td>283.45</td>\n",
              "      <td>114.10</td>\n",
              "      <td>6953.95</td>\n",
              "      <td>785.00</td>\n",
              "      <td>1356.30</td>\n",
              "      <td>158.60</td>\n",
              "    </tr>\n",
              "    <tr>\n",
              "      <th>2</th>\n",
              "      <td>408.30</td>\n",
              "      <td>33.10</td>\n",
              "      <td>1654.35</td>\n",
              "      <td>588.60</td>\n",
              "      <td>937.70</td>\n",
              "      <td>1009.40</td>\n",
              "      <td>237.35</td>\n",
              "      <td>260.9</td>\n",
              "      <td>75.95</td>\n",
              "      <td>727.45</td>\n",
              "      <td>63.35</td>\n",
              "      <td>264.85</td>\n",
              "      <td>562.35</td>\n",
              "      <td>2736.90</td>\n",
              "      <td>444.25</td>\n",
              "      <td>19.9</td>\n",
              "      <td>85.35</td>\n",
              "      <td>4637.25</td>\n",
              "      <td>1188.00</td>\n",
              "      <td>1755.45</td>\n",
              "      <td>199.65</td>\n",
              "      <td>31.95</td>\n",
              "      <td>88.85</td>\n",
              "      <td>430.20</td>\n",
              "      <td>281.65</td>\n",
              "      <td>116.40</td>\n",
              "      <td>6958.20</td>\n",
              "      <td>783.65</td>\n",
              "      <td>1353.10</td>\n",
              "      <td>158.25</td>\n",
              "    </tr>\n",
              "    <tr>\n",
              "      <th>3</th>\n",
              "      <td>404.75</td>\n",
              "      <td>31.90</td>\n",
              "      <td>1633.40</td>\n",
              "      <td>574.60</td>\n",
              "      <td>912.10</td>\n",
              "      <td>990.25</td>\n",
              "      <td>232.65</td>\n",
              "      <td>254.1</td>\n",
              "      <td>69.95</td>\n",
              "      <td>714.90</td>\n",
              "      <td>61.50</td>\n",
              "      <td>260.35</td>\n",
              "      <td>560.10</td>\n",
              "      <td>2678.95</td>\n",
              "      <td>439.90</td>\n",
              "      <td>20.0</td>\n",
              "      <td>83.75</td>\n",
              "      <td>4544.45</td>\n",
              "      <td>1156.90</td>\n",
              "      <td>1722.60</td>\n",
              "      <td>193.30</td>\n",
              "      <td>31.05</td>\n",
              "      <td>86.90</td>\n",
              "      <td>414.10</td>\n",
              "      <td>277.90</td>\n",
              "      <td>113.30</td>\n",
              "      <td>6831.05</td>\n",
              "      <td>746.95</td>\n",
              "      <td>1327.35</td>\n",
              "      <td>157.40</td>\n",
              "    </tr>\n",
              "    <tr>\n",
              "      <th>4</th>\n",
              "      <td>401.05</td>\n",
              "      <td>32.40</td>\n",
              "      <td>1670.25</td>\n",
              "      <td>578.00</td>\n",
              "      <td>895.75</td>\n",
              "      <td>1008.00</td>\n",
              "      <td>234.65</td>\n",
              "      <td>247.8</td>\n",
              "      <td>68.75</td>\n",
              "      <td>702.45</td>\n",
              "      <td>61.15</td>\n",
              "      <td>254.05</td>\n",
              "      <td>564.95</td>\n",
              "      <td>2656.45</td>\n",
              "      <td>435.40</td>\n",
              "      <td>20.6</td>\n",
              "      <td>84.15</td>\n",
              "      <td>4522.70</td>\n",
              "      <td>1161.65</td>\n",
              "      <td>1724.55</td>\n",
              "      <td>195.95</td>\n",
              "      <td>30.55</td>\n",
              "      <td>85.05</td>\n",
              "      <td>415.75</td>\n",
              "      <td>286.20</td>\n",
              "      <td>112.15</td>\n",
              "      <td>6790.55</td>\n",
              "      <td>723.10</td>\n",
              "      <td>1318.85</td>\n",
              "      <td>151.90</td>\n",
              "    </tr>\n",
              "  </tbody>\n",
              "</table>\n",
              "</div>"
            ],
            "text/plain": [
              "   Close Price  Close Price  Close Price  ...  Close Price  Close Price  Close Price\n",
              "0       414.00        30.25      1633.50  ...       772.80      1344.10       162.65\n",
              "1       411.40        32.85      1634.25  ...       785.00      1356.30       158.60\n",
              "2       408.30        33.10      1654.35  ...       783.65      1353.10       158.25\n",
              "3       404.75        31.90      1633.40  ...       746.95      1327.35       157.40\n",
              "4       401.05        32.40      1670.25  ...       723.10      1318.85       151.90\n",
              "\n",
              "[5 rows x 30 columns]"
            ]
          },
          "metadata": {
            "tags": []
          },
          "execution_count": 5
        }
      ]
    },
    {
      "cell_type": "markdown",
      "metadata": {
        "id": "SxonTGXZ_KTZ",
        "colab_type": "text"
      },
      "source": [
        "**Now we have closing prices for each of the stock in our dataframe, combined_data. The next task would be rename each of the column head with name of the stock. So that each column represents a new stock.**"
      ]
    },
    {
      "cell_type": "code",
      "metadata": {
        "id": "Hd9Kzsg-vEAO",
        "colab_type": "code",
        "colab": {}
      },
      "source": [
        "names=[]\n",
        "for name in all_filenames:\n",
        "  names.append(name.split('.')[0])"
      ],
      "execution_count": 0,
      "outputs": []
    },
    {
      "cell_type": "code",
      "metadata": {
        "id": "55sUNrU6Uh01",
        "colab_type": "code",
        "colab": {}
      },
      "source": [
        "combined_data.columns = combined_data.columns[:0].tolist() + names"
      ],
      "execution_count": 0,
      "outputs": []
    },
    {
      "cell_type": "code",
      "metadata": {
        "id": "XDsYgxbmTuaU",
        "colab_type": "code",
        "outputId": "49f19e26-7e25-4d65-8c4d-697508a1026e",
        "colab": {
          "base_uri": "https://localhost:8080/",
          "height": 224
        }
      },
      "source": [
        "combined_data.head()"
      ],
      "execution_count": 0,
      "outputs": [
        {
          "output_type": "execute_result",
          "data": {
            "text/html": [
              "<div>\n",
              "<style scoped>\n",
              "    .dataframe tbody tr th:only-of-type {\n",
              "        vertical-align: middle;\n",
              "    }\n",
              "\n",
              "    .dataframe tbody tr th {\n",
              "        vertical-align: top;\n",
              "    }\n",
              "\n",
              "    .dataframe thead th {\n",
              "        text-align: right;\n",
              "    }\n",
              "</style>\n",
              "<table border=\"1\" class=\"dataframe\">\n",
              "  <thead>\n",
              "    <tr style=\"text-align: right;\">\n",
              "      <th></th>\n",
              "      <th>GAIL</th>\n",
              "      <th>ADANIPOWER</th>\n",
              "      <th>AJANTPHARM</th>\n",
              "      <th>GODREJIND</th>\n",
              "      <th>AMARAJABAT</th>\n",
              "      <th>HINDUNILVR</th>\n",
              "      <th>APOLLOTYRE</th>\n",
              "      <th>BERGEPAINT</th>\n",
              "      <th>IDBI</th>\n",
              "      <th>BPCL</th>\n",
              "      <th>IDFC</th>\n",
              "      <th>CENTURYPLY</th>\n",
              "      <th>CIPLA</th>\n",
              "      <th>DRREDDY</th>\n",
              "      <th>IOC</th>\n",
              "      <th>SUZLON</th>\n",
              "      <th>TATAPOWER</th>\n",
              "      <th>LAXMIMACH</th>\n",
              "      <th>VENKEYS</th>\n",
              "      <th>LT</th>\n",
              "      <th>VIPIND</th>\n",
              "      <th>RCOM</th>\n",
              "      <th>WELSPUNIND</th>\n",
              "      <th>VOLTAS</th>\n",
              "      <th>ITC</th>\n",
              "      <th>JINDALSTEL</th>\n",
              "      <th>MARUTI</th>\n",
              "      <th>RAYMOND</th>\n",
              "      <th>RELIANCE</th>\n",
              "      <th>SONATSOFTW</th>\n",
              "    </tr>\n",
              "  </thead>\n",
              "  <tbody>\n",
              "    <tr>\n",
              "      <th>0</th>\n",
              "      <td>414.00</td>\n",
              "      <td>30.25</td>\n",
              "      <td>1633.50</td>\n",
              "      <td>578.55</td>\n",
              "      <td>933.40</td>\n",
              "      <td>983.25</td>\n",
              "      <td>231.90</td>\n",
              "      <td>259.5</td>\n",
              "      <td>75.05</td>\n",
              "      <td>727.85</td>\n",
              "      <td>63.70</td>\n",
              "      <td>266.65</td>\n",
              "      <td>569.00</td>\n",
              "      <td>2675.80</td>\n",
              "      <td>442.10</td>\n",
              "      <td>19.6</td>\n",
              "      <td>83.55</td>\n",
              "      <td>4614.05</td>\n",
              "      <td>1169.70</td>\n",
              "      <td>1742.40</td>\n",
              "      <td>199.20</td>\n",
              "      <td>32.00</td>\n",
              "      <td>90.25</td>\n",
              "      <td>431.85</td>\n",
              "      <td>277.95</td>\n",
              "      <td>114.20</td>\n",
              "      <td>6823.90</td>\n",
              "      <td>772.80</td>\n",
              "      <td>1344.10</td>\n",
              "      <td>162.65</td>\n",
              "    </tr>\n",
              "    <tr>\n",
              "      <th>1</th>\n",
              "      <td>411.40</td>\n",
              "      <td>32.85</td>\n",
              "      <td>1634.25</td>\n",
              "      <td>584.80</td>\n",
              "      <td>924.70</td>\n",
              "      <td>1000.40</td>\n",
              "      <td>234.40</td>\n",
              "      <td>261.5</td>\n",
              "      <td>76.65</td>\n",
              "      <td>733.30</td>\n",
              "      <td>64.25</td>\n",
              "      <td>266.10</td>\n",
              "      <td>565.60</td>\n",
              "      <td>2724.10</td>\n",
              "      <td>446.60</td>\n",
              "      <td>19.7</td>\n",
              "      <td>83.85</td>\n",
              "      <td>4589.80</td>\n",
              "      <td>1177.00</td>\n",
              "      <td>1740.70</td>\n",
              "      <td>200.90</td>\n",
              "      <td>32.10</td>\n",
              "      <td>90.65</td>\n",
              "      <td>432.45</td>\n",
              "      <td>283.45</td>\n",
              "      <td>114.10</td>\n",
              "      <td>6953.95</td>\n",
              "      <td>785.00</td>\n",
              "      <td>1356.30</td>\n",
              "      <td>158.60</td>\n",
              "    </tr>\n",
              "    <tr>\n",
              "      <th>2</th>\n",
              "      <td>408.30</td>\n",
              "      <td>33.10</td>\n",
              "      <td>1654.35</td>\n",
              "      <td>588.60</td>\n",
              "      <td>937.70</td>\n",
              "      <td>1009.40</td>\n",
              "      <td>237.35</td>\n",
              "      <td>260.9</td>\n",
              "      <td>75.95</td>\n",
              "      <td>727.45</td>\n",
              "      <td>63.35</td>\n",
              "      <td>264.85</td>\n",
              "      <td>562.35</td>\n",
              "      <td>2736.90</td>\n",
              "      <td>444.25</td>\n",
              "      <td>19.9</td>\n",
              "      <td>85.35</td>\n",
              "      <td>4637.25</td>\n",
              "      <td>1188.00</td>\n",
              "      <td>1755.45</td>\n",
              "      <td>199.65</td>\n",
              "      <td>31.95</td>\n",
              "      <td>88.85</td>\n",
              "      <td>430.20</td>\n",
              "      <td>281.65</td>\n",
              "      <td>116.40</td>\n",
              "      <td>6958.20</td>\n",
              "      <td>783.65</td>\n",
              "      <td>1353.10</td>\n",
              "      <td>158.25</td>\n",
              "    </tr>\n",
              "    <tr>\n",
              "      <th>3</th>\n",
              "      <td>404.75</td>\n",
              "      <td>31.90</td>\n",
              "      <td>1633.40</td>\n",
              "      <td>574.60</td>\n",
              "      <td>912.10</td>\n",
              "      <td>990.25</td>\n",
              "      <td>232.65</td>\n",
              "      <td>254.1</td>\n",
              "      <td>69.95</td>\n",
              "      <td>714.90</td>\n",
              "      <td>61.50</td>\n",
              "      <td>260.35</td>\n",
              "      <td>560.10</td>\n",
              "      <td>2678.95</td>\n",
              "      <td>439.90</td>\n",
              "      <td>20.0</td>\n",
              "      <td>83.75</td>\n",
              "      <td>4544.45</td>\n",
              "      <td>1156.90</td>\n",
              "      <td>1722.60</td>\n",
              "      <td>193.30</td>\n",
              "      <td>31.05</td>\n",
              "      <td>86.90</td>\n",
              "      <td>414.10</td>\n",
              "      <td>277.90</td>\n",
              "      <td>113.30</td>\n",
              "      <td>6831.05</td>\n",
              "      <td>746.95</td>\n",
              "      <td>1327.35</td>\n",
              "      <td>157.40</td>\n",
              "    </tr>\n",
              "    <tr>\n",
              "      <th>4</th>\n",
              "      <td>401.05</td>\n",
              "      <td>32.40</td>\n",
              "      <td>1670.25</td>\n",
              "      <td>578.00</td>\n",
              "      <td>895.75</td>\n",
              "      <td>1008.00</td>\n",
              "      <td>234.65</td>\n",
              "      <td>247.8</td>\n",
              "      <td>68.75</td>\n",
              "      <td>702.45</td>\n",
              "      <td>61.15</td>\n",
              "      <td>254.05</td>\n",
              "      <td>564.95</td>\n",
              "      <td>2656.45</td>\n",
              "      <td>435.40</td>\n",
              "      <td>20.6</td>\n",
              "      <td>84.15</td>\n",
              "      <td>4522.70</td>\n",
              "      <td>1161.65</td>\n",
              "      <td>1724.55</td>\n",
              "      <td>195.95</td>\n",
              "      <td>30.55</td>\n",
              "      <td>85.05</td>\n",
              "      <td>415.75</td>\n",
              "      <td>286.20</td>\n",
              "      <td>112.15</td>\n",
              "      <td>6790.55</td>\n",
              "      <td>723.10</td>\n",
              "      <td>1318.85</td>\n",
              "      <td>151.90</td>\n",
              "    </tr>\n",
              "  </tbody>\n",
              "</table>\n",
              "</div>"
            ],
            "text/plain": [
              "     GAIL  ADANIPOWER  AJANTPHARM  ...  RAYMOND  RELIANCE  SONATSOFTW\n",
              "0  414.00       30.25     1633.50  ...   772.80   1344.10      162.65\n",
              "1  411.40       32.85     1634.25  ...   785.00   1356.30      158.60\n",
              "2  408.30       33.10     1654.35  ...   783.65   1353.10      158.25\n",
              "3  404.75       31.90     1633.40  ...   746.95   1327.35      157.40\n",
              "4  401.05       32.40     1670.25  ...   723.10   1318.85      151.90\n",
              "\n",
              "[5 rows x 30 columns]"
            ]
          },
          "metadata": {
            "tags": []
          },
          "execution_count": 8
        }
      ]
    },
    {
      "cell_type": "markdown",
      "metadata": {
        "id": "z5QdqAQEBGse",
        "colab_type": "text"
      },
      "source": [
        "**We now have a neat and clean dataframe to continue with.**"
      ]
    },
    {
      "cell_type": "markdown",
      "metadata": {
        "id": "HIRapOz6BTtI",
        "colab_type": "text"
      },
      "source": [
        "\n",
        "\n",
        "---\n",
        "\n",
        "\n",
        "##Query 6.2 \n",
        "\n",
        "    Calculate average annual percentage return and volatility of all 30 stocks over a theoretical one year period"
      ]
    },
    {
      "cell_type": "code",
      "metadata": {
        "id": "j6j0kMlL3swI",
        "colab_type": "code",
        "outputId": "7f01e70e-2290-49af-dc6c-91900b190dd8",
        "colab": {
          "base_uri": "https://localhost:8080/",
          "height": 34
        }
      },
      "source": [
        "len(combined_data)"
      ],
      "execution_count": 0,
      "outputs": [
        {
          "output_type": "execute_result",
          "data": {
            "text/plain": [
              "494"
            ]
          },
          "metadata": {
            "tags": []
          },
          "execution_count": 9
        }
      ]
    },
    {
      "cell_type": "markdown",
      "metadata": {
        "id": "qwCQfA_hBg4_",
        "colab_type": "text"
      },
      "source": [
        "**We can see that for each stock we have records for last 494 days(each row represent a different day).  Since we need to calculate the the returns over the last theoratical year, we would get the latest 252  rows from our dataset.**\n",
        "\n",
        "**252 days : Ideally 1 year in Stock Market.**\n",
        "\n"
      ]
    },
    {
      "cell_type": "code",
      "metadata": {
        "id": "p9Myf4gu4UiI",
        "colab_type": "code",
        "outputId": "f2161cb5-641c-40c3-97b6-acffbed3b8d6",
        "colab": {
          "base_uri": "https://localhost:8080/",
          "height": 612
        }
      },
      "source": [
        "yearly_combined_data= combined_data[242:]\n",
        "\n",
        "yearly_combined_data.info()"
      ],
      "execution_count": 0,
      "outputs": [
        {
          "output_type": "stream",
          "text": [
            "<class 'pandas.core.frame.DataFrame'>\n",
            "RangeIndex: 252 entries, 242 to 493\n",
            "Data columns (total 30 columns):\n",
            "GAIL          252 non-null float64\n",
            "ADANIPOWER    252 non-null float64\n",
            "AJANTPHARM    252 non-null float64\n",
            "GODREJIND     252 non-null float64\n",
            "AMARAJABAT    252 non-null float64\n",
            "HINDUNILVR    252 non-null float64\n",
            "APOLLOTYRE    252 non-null float64\n",
            "BERGEPAINT    252 non-null float64\n",
            "IDBI          252 non-null float64\n",
            "BPCL          252 non-null float64\n",
            "IDFC          252 non-null float64\n",
            "CENTURYPLY    252 non-null float64\n",
            "CIPLA         252 non-null float64\n",
            "DRREDDY       252 non-null float64\n",
            "IOC           252 non-null float64\n",
            "SUZLON        252 non-null float64\n",
            "TATAPOWER     252 non-null float64\n",
            "LAXMIMACH     252 non-null float64\n",
            "VENKEYS       252 non-null float64\n",
            "LT            252 non-null float64\n",
            "VIPIND        252 non-null float64\n",
            "RCOM          252 non-null float64\n",
            "WELSPUNIND    252 non-null float64\n",
            "VOLTAS        252 non-null float64\n",
            "ITC           252 non-null float64\n",
            "JINDALSTEL    252 non-null float64\n",
            "MARUTI        252 non-null float64\n",
            "RAYMOND       252 non-null float64\n",
            "RELIANCE      252 non-null float64\n",
            "SONATSOFTW    252 non-null float64\n",
            "dtypes: float64(30)\n",
            "memory usage: 59.1 KB\n"
          ],
          "name": "stdout"
        }
      ]
    },
    {
      "cell_type": "markdown",
      "metadata": {
        "id": "_Y1kxqdGDrYP",
        "colab_type": "text"
      },
      "source": [
        "**We now have the data for last year, we can calculate returns and volatility on it.**\n",
        "\n",
        "**Mean avg. Return =  daily mean * 252**\n",
        "\n",
        "**Volatility = std(daily mean) * sqrt(252)**"
      ]
    },
    {
      "cell_type": "code",
      "metadata": {
        "id": "Nkvny-JnyOsF",
        "colab_type": "code",
        "colab": {}
      },
      "source": [
        "import math\n",
        "returns = yearly_combined_data.pct_change().mean() * 252\n",
        "volatility = yearly_combined_data.pct_change().std() * math.sqrt(252)\n",
        "\n",
        "\n",
        "returns.columns = [\"Returns\"]\n",
        "volatility.columns = [\"Variance\"]"
      ],
      "execution_count": 0,
      "outputs": []
    },
    {
      "cell_type": "markdown",
      "metadata": {
        "id": "ooaybjkDFxoA",
        "colab_type": "text"
      },
      "source": [
        "**We now have the annual returns and volatility for each stock, next task would be concatenate them in a single dataframe against stock.**"
      ]
    },
    {
      "cell_type": "code",
      "metadata": {
        "id": "3dd8Ujtl2vVP",
        "colab_type": "code",
        "colab": {}
      },
      "source": [
        "#Concatenating the returns and variances into a single data-frame\n",
        "ret_vol = pd.concat([returns, volatility], axis = 1).dropna()\n",
        "ret_vol.columns = [\"Returns\",\"Volatility\"]"
      ],
      "execution_count": 0,
      "outputs": []
    },
    {
      "cell_type": "code",
      "metadata": {
        "id": "YqdhtDMz21ve",
        "colab_type": "code",
        "outputId": "279849a9-d560-4085-b569-a039f62a2745",
        "colab": {
          "base_uri": "https://localhost:8080/",
          "height": 1000
        }
      },
      "source": [
        "ret_vol.info()\n",
        "\n",
        "ret_vol"
      ],
      "execution_count": 0,
      "outputs": [
        {
          "output_type": "stream",
          "text": [
            "<class 'pandas.core.frame.DataFrame'>\n",
            "Index: 30 entries, GAIL to SONATSOFTW\n",
            "Data columns (total 2 columns):\n",
            "Returns       30 non-null float64\n",
            "Volatility    30 non-null float64\n",
            "dtypes: float64(2)\n",
            "memory usage: 720.0+ bytes\n"
          ],
          "name": "stdout"
        },
        {
          "output_type": "execute_result",
          "data": {
            "text/html": [
              "<div>\n",
              "<style scoped>\n",
              "    .dataframe tbody tr th:only-of-type {\n",
              "        vertical-align: middle;\n",
              "    }\n",
              "\n",
              "    .dataframe tbody tr th {\n",
              "        vertical-align: top;\n",
              "    }\n",
              "\n",
              "    .dataframe thead th {\n",
              "        text-align: right;\n",
              "    }\n",
              "</style>\n",
              "<table border=\"1\" class=\"dataframe\">\n",
              "  <thead>\n",
              "    <tr style=\"text-align: right;\">\n",
              "      <th></th>\n",
              "      <th>Returns</th>\n",
              "      <th>Volatility</th>\n",
              "    </tr>\n",
              "  </thead>\n",
              "  <tbody>\n",
              "    <tr>\n",
              "      <th>GAIL</th>\n",
              "      <td>0.055334</td>\n",
              "      <td>0.310841</td>\n",
              "    </tr>\n",
              "    <tr>\n",
              "      <th>ADANIPOWER</th>\n",
              "      <td>0.676894</td>\n",
              "      <td>0.724484</td>\n",
              "    </tr>\n",
              "    <tr>\n",
              "      <th>AJANTPHARM</th>\n",
              "      <td>-0.076660</td>\n",
              "      <td>0.355356</td>\n",
              "    </tr>\n",
              "    <tr>\n",
              "      <th>GODREJIND</th>\n",
              "      <td>-0.219698</td>\n",
              "      <td>0.270063</td>\n",
              "    </tr>\n",
              "    <tr>\n",
              "      <th>AMARAJABAT</th>\n",
              "      <td>-0.283856</td>\n",
              "      <td>0.262619</td>\n",
              "    </tr>\n",
              "    <tr>\n",
              "      <th>HINDUNILVR</th>\n",
              "      <td>0.173223</td>\n",
              "      <td>0.210756</td>\n",
              "    </tr>\n",
              "    <tr>\n",
              "      <th>APOLLOTYRE</th>\n",
              "      <td>-0.384620</td>\n",
              "      <td>0.309000</td>\n",
              "    </tr>\n",
              "    <tr>\n",
              "      <th>BERGEPAINT</th>\n",
              "      <td>0.135802</td>\n",
              "      <td>0.274411</td>\n",
              "    </tr>\n",
              "    <tr>\n",
              "      <th>IDBI</th>\n",
              "      <td>-0.549071</td>\n",
              "      <td>0.413379</td>\n",
              "    </tr>\n",
              "    <tr>\n",
              "      <th>BPCL</th>\n",
              "      <td>0.027123</td>\n",
              "      <td>0.429338</td>\n",
              "    </tr>\n",
              "    <tr>\n",
              "      <th>IDFC</th>\n",
              "      <td>-0.414181</td>\n",
              "      <td>0.384209</td>\n",
              "    </tr>\n",
              "    <tr>\n",
              "      <th>CENTURYPLY</th>\n",
              "      <td>-0.557657</td>\n",
              "      <td>0.397753</td>\n",
              "    </tr>\n",
              "    <tr>\n",
              "      <th>CIPLA</th>\n",
              "      <td>-0.057873</td>\n",
              "      <td>0.247204</td>\n",
              "    </tr>\n",
              "    <tr>\n",
              "      <th>DRREDDY</th>\n",
              "      <td>0.332710</td>\n",
              "      <td>0.303164</td>\n",
              "    </tr>\n",
              "    <tr>\n",
              "      <th>IOC</th>\n",
              "      <td>-0.047631</td>\n",
              "      <td>0.388999</td>\n",
              "    </tr>\n",
              "    <tr>\n",
              "      <th>SUZLON</th>\n",
              "      <td>-0.365321</td>\n",
              "      <td>0.746814</td>\n",
              "    </tr>\n",
              "    <tr>\n",
              "      <th>TATAPOWER</th>\n",
              "      <td>-0.248445</td>\n",
              "      <td>0.360742</td>\n",
              "    </tr>\n",
              "    <tr>\n",
              "      <th>LAXMIMACH</th>\n",
              "      <td>-0.430297</td>\n",
              "      <td>0.241951</td>\n",
              "    </tr>\n",
              "    <tr>\n",
              "      <th>VENKEYS</th>\n",
              "      <td>-0.607760</td>\n",
              "      <td>0.598685</td>\n",
              "    </tr>\n",
              "    <tr>\n",
              "      <th>LT</th>\n",
              "      <td>-0.015890</td>\n",
              "      <td>0.212118</td>\n",
              "    </tr>\n",
              "    <tr>\n",
              "      <th>VIPIND</th>\n",
              "      <td>0.168742</td>\n",
              "      <td>0.438955</td>\n",
              "    </tr>\n",
              "    <tr>\n",
              "      <th>RCOM</th>\n",
              "      <td>-1.389813</td>\n",
              "      <td>1.028471</td>\n",
              "    </tr>\n",
              "    <tr>\n",
              "      <th>WELSPUNIND</th>\n",
              "      <td>-0.067852</td>\n",
              "      <td>0.400144</td>\n",
              "    </tr>\n",
              "    <tr>\n",
              "      <th>VOLTAS</th>\n",
              "      <td>-0.026721</td>\n",
              "      <td>0.301187</td>\n",
              "    </tr>\n",
              "    <tr>\n",
              "      <th>ITC</th>\n",
              "      <td>0.063426</td>\n",
              "      <td>0.202365</td>\n",
              "    </tr>\n",
              "    <tr>\n",
              "      <th>JINDALSTEL</th>\n",
              "      <td>-0.322490</td>\n",
              "      <td>0.495335</td>\n",
              "    </tr>\n",
              "    <tr>\n",
              "      <th>MARUTI</th>\n",
              "      <td>-0.248973</td>\n",
              "      <td>0.262211</td>\n",
              "    </tr>\n",
              "    <tr>\n",
              "      <th>RAYMOND</th>\n",
              "      <td>-0.289409</td>\n",
              "      <td>0.361319</td>\n",
              "    </tr>\n",
              "    <tr>\n",
              "      <th>RELIANCE</th>\n",
              "      <td>0.295557</td>\n",
              "      <td>0.277997</td>\n",
              "    </tr>\n",
              "    <tr>\n",
              "      <th>SONATSOFTW</th>\n",
              "      <td>0.089649</td>\n",
              "      <td>0.403895</td>\n",
              "    </tr>\n",
              "  </tbody>\n",
              "</table>\n",
              "</div>"
            ],
            "text/plain": [
              "             Returns  Volatility\n",
              "GAIL        0.055334    0.310841\n",
              "ADANIPOWER  0.676894    0.724484\n",
              "AJANTPHARM -0.076660    0.355356\n",
              "GODREJIND  -0.219698    0.270063\n",
              "AMARAJABAT -0.283856    0.262619\n",
              "HINDUNILVR  0.173223    0.210756\n",
              "APOLLOTYRE -0.384620    0.309000\n",
              "BERGEPAINT  0.135802    0.274411\n",
              "IDBI       -0.549071    0.413379\n",
              "BPCL        0.027123    0.429338\n",
              "IDFC       -0.414181    0.384209\n",
              "CENTURYPLY -0.557657    0.397753\n",
              "CIPLA      -0.057873    0.247204\n",
              "DRREDDY     0.332710    0.303164\n",
              "IOC        -0.047631    0.388999\n",
              "SUZLON     -0.365321    0.746814\n",
              "TATAPOWER  -0.248445    0.360742\n",
              "LAXMIMACH  -0.430297    0.241951\n",
              "VENKEYS    -0.607760    0.598685\n",
              "LT         -0.015890    0.212118\n",
              "VIPIND      0.168742    0.438955\n",
              "RCOM       -1.389813    1.028471\n",
              "WELSPUNIND -0.067852    0.400144\n",
              "VOLTAS     -0.026721    0.301187\n",
              "ITC         0.063426    0.202365\n",
              "JINDALSTEL -0.322490    0.495335\n",
              "MARUTI     -0.248973    0.262211\n",
              "RAYMOND    -0.289409    0.361319\n",
              "RELIANCE    0.295557    0.277997\n",
              "SONATSOFTW  0.089649    0.403895"
            ]
          },
          "metadata": {
            "tags": []
          },
          "execution_count": 13
        }
      ]
    },
    {
      "cell_type": "markdown",
      "metadata": {
        "id": "rReOGy0yGoLL",
        "colab_type": "text"
      },
      "source": [
        "\n",
        "\n",
        "---\n",
        "\n",
        "\n",
        "##Query 6.3 \n",
        "    \n",
        "    Cluster the 30 stocks according to their mean annual Volatilities and Returns using K-means clustering. Identify the optimum number of clusters using the Elbow curve method.\n",
        "   "
      ]
    },
    {
      "cell_type": "markdown",
      "metadata": {
        "id": "dZmCfwntOlxv",
        "colab_type": "text"
      },
      "source": [
        "**We are going to perform the elbow curve method on our dataframe to find the optimum number of clusters for our K-Means algorithm.**\n",
        "\n",
        "**We will use inertia and distortion to decides the number of clusters.**\n",
        "\n",
        "**The point after which the distortion/inertia start decreasing in a linear fashion, tell us the optimum number of clusters.**"
      ]
    },
    {
      "cell_type": "code",
      "metadata": {
        "id": "yDlINNgxOvFK",
        "colab_type": "code",
        "colab": {}
      },
      "source": [
        "from sklearn import metrics \n",
        "from scipy.spatial.distance import cdist "
      ],
      "execution_count": 0,
      "outputs": []
    },
    {
      "cell_type": "markdown",
      "metadata": {
        "id": "9Xkon1dOxC4d",
        "colab_type": "text"
      },
      "source": [
        "**The first task is to find out the values for inertia and distortion for clusters in range of 1 to 10.**"
      ]
    },
    {
      "cell_type": "code",
      "metadata": {
        "id": "DGRKjr5YNJbQ",
        "colab_type": "code",
        "colab": {}
      },
      "source": [
        "X =  ret_vol.values #Converting ret_vol into nummpy array\n",
        "distortions = [] \n",
        "inertias = [] \n",
        "mapping1 = {} \n",
        "mapping2 = {} \n",
        "K = range(1,10) \n",
        "  \n",
        "for k in K: \n",
        "    #Building and fitting the model \n",
        "    kmeanModel = KMeans(n_clusters=k).fit(X) \n",
        "    kmeanModel.fit(X)     \n",
        "      \n",
        "    distortions.append(sum(np.min(cdist(X, kmeanModel.cluster_centers_, \n",
        "                      'euclidean'),axis=1)) / X.shape[0]) \n",
        "    inertias.append(kmeanModel.inertia_) \n",
        "  \n",
        "    mapping1[k] = sum(np.min(cdist(X, kmeanModel.cluster_centers_, \n",
        "                 'euclidean'),axis=1)) / X.shape[0] \n",
        "    mapping2[k] = kmeanModel.inertia_ "
      ],
      "execution_count": 0,
      "outputs": []
    },
    {
      "cell_type": "markdown",
      "metadata": {
        "id": "n-b3bvOqxOk4",
        "colab_type": "text"
      },
      "source": [
        "**Now we will use the dictonaries : mapping1{} and mapping2{} in to find and plot the key-value pairs.** "
      ]
    },
    {
      "cell_type": "code",
      "metadata": {
        "id": "TyLVv0aQOuZw",
        "colab_type": "code",
        "outputId": "31428113-ed76-4b38-8754-33fa42cdea50",
        "colab": {
          "base_uri": "https://localhost:8080/",
          "height": 170
        }
      },
      "source": [
        "for key,val in mapping1.items(): \n",
        "    print(str(key)+' : '+str(val))"
      ],
      "execution_count": 0,
      "outputs": [
        {
          "output_type": "stream",
          "text": [
            "1 : 0.3151525031751138\n",
            "2 : 0.2163419809465828\n",
            "3 : 0.16886551879346826\n",
            "4 : 0.14097517755600242\n",
            "5 : 0.11923129666724672\n",
            "6 : 0.09953170932019482\n",
            "7 : 0.08715629926345828\n",
            "8 : 0.07726010798992891\n",
            "9 : 0.06805120914035843\n"
          ],
          "name": "stdout"
        }
      ]
    },
    {
      "cell_type": "code",
      "metadata": {
        "id": "elRgW6VfO2bq",
        "colab_type": "code",
        "outputId": "89177474-171d-4575-e0c6-16e3b2d42251",
        "colab": {
          "base_uri": "https://localhost:8080/",
          "height": 513
        }
      },
      "source": [
        "fig = plt.figure()\n",
        "sns.set_style(\"darkgrid\")\n",
        "# Add a subplot and label for y-axis\n",
        "ax = fig.add_subplot(111, title='The Elbow Method using Distortion', xlabel= 'Values of K', ylabel='Distortion')\n",
        "plt.plot(K, distortions, 'kx-') \n",
        "plt.legend(['No. of Clusters'])\n",
        "plt.show() "
      ],
      "execution_count": 0,
      "outputs": [
        {
          "output_type": "display_data",
          "data": {
            "image/png": "[encoded data removed]",
            "text/plain": [
              "<Figure size 1440x576 with 1 Axes>"
            ]
          },
          "metadata": {
            "tags": []
          }
        }
      ]
    },
    {
      "cell_type": "code",
      "metadata": {
        "id": "JerLMPnbNa0c",
        "colab_type": "code",
        "outputId": "6a3a54f2-6e89-4314-9915-7bce5a2bb6b4",
        "colab": {
          "base_uri": "https://localhost:8080/",
          "height": 170
        }
      },
      "source": [
        "for key,val in mapping2.items(): \n",
        "    print(str(key)+' : '+str(val)) "
      ],
      "execution_count": 0,
      "outputs": [
        {
          "output_type": "stream",
          "text": [
            "1 : 5.00831183247681\n",
            "2 : 2.609639785747243\n",
            "3 : 1.2846989288921251\n",
            "4 : 0.7837406165691517\n",
            "5 : 0.5442296522891678\n",
            "6 : 0.3749590374615737\n",
            "7 : 0.28128319014592046\n",
            "8 : 0.23133566472228215\n",
            "9 : 0.1904659908818638\n"
          ],
          "name": "stdout"
        }
      ]
    },
    {
      "cell_type": "code",
      "metadata": {
        "id": "7yLuEP4QNllq",
        "colab_type": "code",
        "outputId": "5575cc54-711c-48c4-a8f1-f1f15a568c40",
        "colab": {
          "base_uri": "https://localhost:8080/",
          "height": 530
        }
      },
      "source": [
        "fig = plt.figure()\n",
        "sns.set_style(\"darkgrid\")\n",
        "# Add a subplot and label for y-axis\n",
        "ax = fig.add_subplot(111, title='The Elbow Method using Inertia', xlabel= 'Values of K', ylabel='Inertia')\n",
        "ax = plt.plot(K, inertias, 'kx-') \n",
        "plt.legend(['No. of Clusters'])\n",
        "plt.plot()"
      ],
      "execution_count": 0,
      "outputs": [
        {
          "output_type": "execute_result",
          "data": {
            "text/plain": [
              "[]"
            ]
          },
          "metadata": {
            "tags": []
          },
          "execution_count": 19
        },
        {
          "output_type": "display_data",
          "data": {
            "image/png": "[encoded data removed]",
            "text/plain": [
              "<Figure size 1440x576 with 1 Axes>"
            ]
          },
          "metadata": {
            "tags": []
          }
        }
      ]
    },
    {
      "cell_type": "markdown",
      "metadata": {
        "id": "tTD9mLjvw3xr",
        "colab_type": "text"
      },
      "source": [
        "**We can analyze the graphs and understand that after point 6 we have a straight line, so 6 is the optimum number of clusters for our data.**\n",
        "\n",
        "**Thus, Optimum Number of Clusters = 6**"
      ]
    },
    {
      "cell_type": "markdown",
      "metadata": {
        "id": "Di651MMkxovh",
        "colab_type": "text"
      },
      "source": [
        "\n",
        "\n",
        "---\n",
        "\n",
        "\n",
        "##Query 6.4 \n",
        "\n",
        "    Prepare a separate Data frame to show which stocks belong to the same cluster "
      ]
    },
    {
      "cell_type": "markdown",
      "metadata": {
        "id": "kP42d6Ad8aP6",
        "colab_type": "text"
      },
      "source": [
        "**We will first make a copy of our dataframe, find out clusters for each stock, add cluster column to copy of our data, and perform groupby operation.**"
      ]
    },
    {
      "cell_type": "code",
      "metadata": {
        "id": "zngDAIBC3EYl",
        "colab_type": "code",
        "colab": {}
      },
      "source": [
        "kmeans = KMeans(n_clusters = 6).fit(X)\n",
        "labels = kmeans.labels_\n",
        "centroids = kmeans.cluster_centers_"
      ],
      "execution_count": 0,
      "outputs": []
    },
    {
      "cell_type": "code",
      "metadata": {
        "id": "D36mU-fI694C",
        "colab_type": "code",
        "colab": {}
      },
      "source": [
        "cluster_data= ret_vol\n",
        "\n",
        "cluster_data['clusters'] = labels"
      ],
      "execution_count": 0,
      "outputs": []
    },
    {
      "cell_type": "code",
      "metadata": {
        "id": "E7qWFFPF6bKX",
        "colab_type": "code",
        "outputId": "6b5aa8f4-226d-4e8a-cd5f-9fccc8e8249d",
        "colab": {
          "base_uri": "https://localhost:8080/",
          "height": 34
        }
      },
      "source": [
        "#Lets analyze the clusters\n",
        "print(cluster_data.groupby(['clusters']))"
      ],
      "execution_count": 0,
      "outputs": [
        {
          "output_type": "stream",
          "text": [
            "<pandas.core.groupby.generic.DataFrameGroupBy object at 0x7f0d19e253c8>\n"
          ],
          "name": "stdout"
        }
      ]
    },
    {
      "cell_type": "code",
      "metadata": {
        "id": "Sq15jACUSip3",
        "colab_type": "code",
        "outputId": "e946ddbf-9d64-40d7-9b1f-19bc074a06d3",
        "colab": {
          "base_uri": "https://localhost:8080/",
          "height": 979
        }
      },
      "source": [
        "cluster_data"
      ],
      "execution_count": 0,
      "outputs": [
        {
          "output_type": "execute_result",
          "data": {
            "text/html": [
              "<div>\n",
              "<style scoped>\n",
              "    .dataframe tbody tr th:only-of-type {\n",
              "        vertical-align: middle;\n",
              "    }\n",
              "\n",
              "    .dataframe tbody tr th {\n",
              "        vertical-align: top;\n",
              "    }\n",
              "\n",
              "    .dataframe thead th {\n",
              "        text-align: right;\n",
              "    }\n",
              "</style>\n",
              "<table border=\"1\" class=\"dataframe\">\n",
              "  <thead>\n",
              "    <tr style=\"text-align: right;\">\n",
              "      <th></th>\n",
              "      <th>Returns</th>\n",
              "      <th>Volatility</th>\n",
              "      <th>clusters</th>\n",
              "    </tr>\n",
              "  </thead>\n",
              "  <tbody>\n",
              "    <tr>\n",
              "      <th>GAIL</th>\n",
              "      <td>0.055334</td>\n",
              "      <td>0.310841</td>\n",
              "      <td>0</td>\n",
              "    </tr>\n",
              "    <tr>\n",
              "      <th>ADANIPOWER</th>\n",
              "      <td>0.676894</td>\n",
              "      <td>0.724484</td>\n",
              "      <td>3</td>\n",
              "    </tr>\n",
              "    <tr>\n",
              "      <th>AJANTPHARM</th>\n",
              "      <td>-0.076660</td>\n",
              "      <td>0.355356</td>\n",
              "      <td>0</td>\n",
              "    </tr>\n",
              "    <tr>\n",
              "      <th>GODREJIND</th>\n",
              "      <td>-0.219698</td>\n",
              "      <td>0.270063</td>\n",
              "      <td>4</td>\n",
              "    </tr>\n",
              "    <tr>\n",
              "      <th>AMARAJABAT</th>\n",
              "      <td>-0.283856</td>\n",
              "      <td>0.262619</td>\n",
              "      <td>4</td>\n",
              "    </tr>\n",
              "    <tr>\n",
              "      <th>HINDUNILVR</th>\n",
              "      <td>0.173223</td>\n",
              "      <td>0.210756</td>\n",
              "      <td>5</td>\n",
              "    </tr>\n",
              "    <tr>\n",
              "      <th>APOLLOTYRE</th>\n",
              "      <td>-0.384620</td>\n",
              "      <td>0.309000</td>\n",
              "      <td>4</td>\n",
              "    </tr>\n",
              "    <tr>\n",
              "      <th>BERGEPAINT</th>\n",
              "      <td>0.135802</td>\n",
              "      <td>0.274411</td>\n",
              "      <td>5</td>\n",
              "    </tr>\n",
              "    <tr>\n",
              "      <th>IDBI</th>\n",
              "      <td>-0.549071</td>\n",
              "      <td>0.413379</td>\n",
              "      <td>2</td>\n",
              "    </tr>\n",
              "    <tr>\n",
              "      <th>BPCL</th>\n",
              "      <td>0.027123</td>\n",
              "      <td>0.429338</td>\n",
              "      <td>0</td>\n",
              "    </tr>\n",
              "    <tr>\n",
              "      <th>IDFC</th>\n",
              "      <td>-0.414181</td>\n",
              "      <td>0.384209</td>\n",
              "      <td>4</td>\n",
              "    </tr>\n",
              "    <tr>\n",
              "      <th>CENTURYPLY</th>\n",
              "      <td>-0.557657</td>\n",
              "      <td>0.397753</td>\n",
              "      <td>2</td>\n",
              "    </tr>\n",
              "    <tr>\n",
              "      <th>CIPLA</th>\n",
              "      <td>-0.057873</td>\n",
              "      <td>0.247204</td>\n",
              "      <td>0</td>\n",
              "    </tr>\n",
              "    <tr>\n",
              "      <th>DRREDDY</th>\n",
              "      <td>0.332710</td>\n",
              "      <td>0.303164</td>\n",
              "      <td>5</td>\n",
              "    </tr>\n",
              "    <tr>\n",
              "      <th>IOC</th>\n",
              "      <td>-0.047631</td>\n",
              "      <td>0.388999</td>\n",
              "      <td>0</td>\n",
              "    </tr>\n",
              "    <tr>\n",
              "      <th>SUZLON</th>\n",
              "      <td>-0.365321</td>\n",
              "      <td>0.746814</td>\n",
              "      <td>2</td>\n",
              "    </tr>\n",
              "    <tr>\n",
              "      <th>TATAPOWER</th>\n",
              "      <td>-0.248445</td>\n",
              "      <td>0.360742</td>\n",
              "      <td>4</td>\n",
              "    </tr>\n",
              "    <tr>\n",
              "      <th>LAXMIMACH</th>\n",
              "      <td>-0.430297</td>\n",
              "      <td>0.241951</td>\n",
              "      <td>4</td>\n",
              "    </tr>\n",
              "    <tr>\n",
              "      <th>VENKEYS</th>\n",
              "      <td>-0.607760</td>\n",
              "      <td>0.598685</td>\n",
              "      <td>2</td>\n",
              "    </tr>\n",
              "    <tr>\n",
              "      <th>LT</th>\n",
              "      <td>-0.015890</td>\n",
              "      <td>0.212118</td>\n",
              "      <td>0</td>\n",
              "    </tr>\n",
              "    <tr>\n",
              "      <th>VIPIND</th>\n",
              "      <td>0.168742</td>\n",
              "      <td>0.438955</td>\n",
              "      <td>5</td>\n",
              "    </tr>\n",
              "    <tr>\n",
              "      <th>RCOM</th>\n",
              "      <td>-1.389813</td>\n",
              "      <td>1.028471</td>\n",
              "      <td>1</td>\n",
              "    </tr>\n",
              "    <tr>\n",
              "      <th>WELSPUNIND</th>\n",
              "      <td>-0.067852</td>\n",
              "      <td>0.400144</td>\n",
              "      <td>0</td>\n",
              "    </tr>\n",
              "    <tr>\n",
              "      <th>VOLTAS</th>\n",
              "      <td>-0.026721</td>\n",
              "      <td>0.301187</td>\n",
              "      <td>0</td>\n",
              "    </tr>\n",
              "    <tr>\n",
              "      <th>ITC</th>\n",
              "      <td>0.063426</td>\n",
              "      <td>0.202365</td>\n",
              "      <td>0</td>\n",
              "    </tr>\n",
              "    <tr>\n",
              "      <th>JINDALSTEL</th>\n",
              "      <td>-0.322490</td>\n",
              "      <td>0.495335</td>\n",
              "      <td>4</td>\n",
              "    </tr>\n",
              "    <tr>\n",
              "      <th>MARUTI</th>\n",
              "      <td>-0.248973</td>\n",
              "      <td>0.262211</td>\n",
              "      <td>4</td>\n",
              "    </tr>\n",
              "    <tr>\n",
              "      <th>RAYMOND</th>\n",
              "      <td>-0.289409</td>\n",
              "      <td>0.361319</td>\n",
              "      <td>4</td>\n",
              "    </tr>\n",
              "    <tr>\n",
              "      <th>RELIANCE</th>\n",
              "      <td>0.295557</td>\n",
              "      <td>0.277997</td>\n",
              "      <td>5</td>\n",
              "    </tr>\n",
              "    <tr>\n",
              "      <th>SONATSOFTW</th>\n",
              "      <td>0.089649</td>\n",
              "      <td>0.403895</td>\n",
              "      <td>0</td>\n",
              "    </tr>\n",
              "  </tbody>\n",
              "</table>\n",
              "</div>"
            ],
            "text/plain": [
              "             Returns  Volatility  clusters\n",
              "GAIL        0.055334    0.310841         0\n",
              "ADANIPOWER  0.676894    0.724484         3\n",
              "AJANTPHARM -0.076660    0.355356         0\n",
              "GODREJIND  -0.219698    0.270063         4\n",
              "AMARAJABAT -0.283856    0.262619         4\n",
              "HINDUNILVR  0.173223    0.210756         5\n",
              "APOLLOTYRE -0.384620    0.309000         4\n",
              "BERGEPAINT  0.135802    0.274411         5\n",
              "IDBI       -0.549071    0.413379         2\n",
              "BPCL        0.027123    0.429338         0\n",
              "IDFC       -0.414181    0.384209         4\n",
              "CENTURYPLY -0.557657    0.397753         2\n",
              "CIPLA      -0.057873    0.247204         0\n",
              "DRREDDY     0.332710    0.303164         5\n",
              "IOC        -0.047631    0.388999         0\n",
              "SUZLON     -0.365321    0.746814         2\n",
              "TATAPOWER  -0.248445    0.360742         4\n",
              "LAXMIMACH  -0.430297    0.241951         4\n",
              "VENKEYS    -0.607760    0.598685         2\n",
              "LT         -0.015890    0.212118         0\n",
              "VIPIND      0.168742    0.438955         5\n",
              "RCOM       -1.389813    1.028471         1\n",
              "WELSPUNIND -0.067852    0.400144         0\n",
              "VOLTAS     -0.026721    0.301187         0\n",
              "ITC         0.063426    0.202365         0\n",
              "JINDALSTEL -0.322490    0.495335         4\n",
              "MARUTI     -0.248973    0.262211         4\n",
              "RAYMOND    -0.289409    0.361319         4\n",
              "RELIANCE    0.295557    0.277997         5\n",
              "SONATSOFTW  0.089649    0.403895         0"
            ]
          },
          "metadata": {
            "tags": []
          },
          "execution_count": 23
        }
      ]
    },
    {
      "cell_type": "markdown",
      "metadata": {
        "id": "UTTG4q3cXrKJ",
        "colab_type": "text"
      },
      "source": [
        "**We now have our required data to continue plotting a scatterplot, but to add the stock name to each of the data point, we would create another column with the names for a stock.**"
      ]
    },
    {
      "cell_type": "code",
      "metadata": {
        "id": "4XiTSPizT97c",
        "colab_type": "code",
        "colab": {}
      },
      "source": [
        "cluster_data['names']= cluster_data.index"
      ],
      "execution_count": 0,
      "outputs": []
    },
    {
      "cell_type": "code",
      "metadata": {
        "id": "WZWnCikPS6GT",
        "colab_type": "code",
        "outputId": "3885a017-2e9e-48a6-a449-4a842b45897c",
        "colab": {
          "base_uri": "https://localhost:8080/",
          "height": 615
        }
      },
      "source": [
        "plt.figure()\n",
        "fig.add_subplot(111, title='Clustering Stocks using Returns and Volatility', ylabel='Volatility', xlabel='Returns')\n",
        "\n",
        "ax = sns.lmplot('Returns', # Horizontal axis\n",
        "           'Volatility', # Vertical axis\n",
        "           data=cluster_data, # Data source\n",
        "           fit_reg=False, # Don't fix a regression line\n",
        "           hue= \"clusters\",\n",
        "           aspect= 2,\n",
        "           height= 8\n",
        "           ) # size and dimension\n",
        "\n",
        "plt.title('Clustering Stocks using Returns and Volatility')\n",
        "def label_point(x, y, val, ax):\n",
        "    a = pd.concat({'x': x, 'y': y, 'val': val}, axis=1)\n",
        "    for i, point in a.iterrows():\n",
        "        ax.text(point['x']+.02, point['y'], str(point['val']))\n",
        "\n",
        "label_point(cluster_data.Returns, cluster_data.Volatility, cluster_data.names, plt.gca())  "
      ],
      "execution_count": 0,
      "outputs": [
        {
          "output_type": "display_data",
          "data": {
            "text/plain": [
              "<Figure size 1440x576 with 0 Axes>"
            ]
          },
          "metadata": {
            "tags": []
          }
        },
        {
          "output_type": "display_data",
          "data": {
            "image/png": "[encoded data removed]",
            "text/plain": [
              "<Figure size 1199.38x576 with 1 Axes>"
            ]
          },
          "metadata": {
            "tags": []
          }
        }
      ]
    },
    {
      "cell_type": "markdown",
      "metadata": {
        "id": "GWrZtSJtY7A2",
        "colab_type": "text"
      },
      "source": [
        "**We have sucessfully plotted all the stocks in a Returns VS volatility plot and also clustered them.**\n",
        "\n",
        "\n",
        "---\n",
        "\n",
        "\n",
        "\n",
        "---\n",
        "\n",
        "\n",
        "**END.**\n",
        "\n",
        "**THANKS Career Launcher for giving an opportunity to work on such a wonderful Project.**"
      ]
    }
  ]
}